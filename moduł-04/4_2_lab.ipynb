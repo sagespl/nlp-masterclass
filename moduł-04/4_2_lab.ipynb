{
  "cells": [
    {
      "cell_type": "code",
      "execution_count": null,
      "metadata": {
        "id": "5Ymykb1WaG7f"
      },
      "outputs": [],
      "source": [
        "#@title Copyright 2020-2023 Alina Wróblewska { display-mode: \"form\" }\n",
        "#\n",
        "# Licensed under the Apache License, Version 2.0 (the \"License\");\n",
        "# you may not use this file except in compliance with the License.\n",
        "# You may obtain a copy of the License at\n",
        "#\n",
        "# https://www.apache.org/licenses/LICENSE-2.0\n",
        "#\n",
        "# Unless required by applicable law or agreed to in writing, software\n",
        "# distributed under the License is distributed on an \"AS IS\" BASIS,\n",
        "# WITHOUT WARRANTIES OR CONDITIONS OF ANY KIND, either express or implied.\n",
        "# See the License for the specific language governing permissions and\n",
        "# limitations under the License."
      ]
    },
    {
      "cell_type": "markdown",
      "metadata": {
        "id": "My1tNOJ8W_Fx"
      },
      "source": [
        "# Tagowanie"
      ]
    },
    {
      "cell_type": "markdown",
      "metadata": {
        "id": "4JauqIhT7uIe"
      },
      "source": [
        "## CHANGELOG\n",
        "09.05.2023 zmiany:\n",
        "\n",
        "* Upgrade wersji Morfeusza\n",
        "*   Integracja COMBO z narzędziem do segmentacji LAMBO\n",
        "\n",
        "\n",
        "20.04.2021 zmiany zostały oznaczone:\n",
        "\n",
        "\n",
        "*   OUTDATED: nieaktualne informacje\n",
        "*   UPDATE: aktualne modyfikacje\n",
        "\n"
      ]
    },
    {
      "cell_type": "code",
      "execution_count": null,
      "metadata": {
        "id": "RXMSpzsAhOtq"
      },
      "outputs": [],
      "source": [
        "# W folerze 'zasoby' będą pobrane zasoby, tzn. dane, modele, \n",
        "# a do pozostałych folderów będą wpisywane predykcje.\n",
        "import os\n",
        "os.makedirs('zasoby', exist_ok=True)\n",
        "os.makedirs('predykcje', exist_ok=True)\n",
        "os.makedirs('predykcje/segmentatacja_gold', exist_ok=True)"
      ]
    },
    {
      "cell_type": "code",
      "execution_count": 2,
      "metadata": {
        "colab": {
          "base_uri": "https://localhost:8080/"
        },
        "id": "3anwSARQrAub",
        "outputId": "dfec9109-ca97-4c8d-8298-4fa9bf542151"
      },
      "outputs": [
        {
          "output_type": "stream",
          "name": "stdout",
          "text": [
            "Python 3.10.11\n"
          ]
        }
      ],
      "source": [
        "! python --version"
      ]
    },
    {
      "cell_type": "markdown",
      "metadata": {
        "id": "zSUA0U2to60Z"
      },
      "source": [
        "### UPDATE_02: Instalacje\n",
        "\n",
        "1. Obecna wersja COMBO jest kompatybilna z wersjami Pythona do 3.9. Ponieważ w google colab jest Python 3.10, to należy użyć zastępczej wersji środowiska wykonawczego, ustawiając:\n",
        "\n",
        "**Tools -> Command palette -> Use fallback runtime version**\n",
        "\n",
        "2. Aktualną wersję COMBO, która jest kompatybilna z narzędziem do segmentacji tekstu LAMBO, należy instalować ze źródła.\n",
        "\n",
        "3. Dodano instalację [LAMBO](https://gitlab.clarin-pl.eu/syntactic-tools/lambo)."
      ]
    },
    {
      "cell_type": "code",
      "execution_count": 1,
      "metadata": {
        "colab": {
          "base_uri": "https://localhost:8080/"
        },
        "id": "9mwhw4TiqchM",
        "outputId": "410f4040-0d19-4a56-9f0f-a8e39aeea010"
      },
      "outputs": [
        {
          "output_type": "stream",
          "name": "stdout",
          "text": [
            "Python 3.9.16\n"
          ]
        }
      ],
      "source": [
        "! python --version"
      ]
    },
    {
      "cell_type": "markdown",
      "metadata": {
        "id": "APv8QLuoyEpl"
      },
      "source": [
        "### ~~UPDATE! Instalacja COMBO~~\n"
      ]
    },
    {
      "cell_type": "code",
      "execution_count": null,
      "metadata": {
        "id": "8NLjC18IyDBs"
      },
      "outputs": [],
      "source": [
        "# Instalacja COMBO\n",
        "#!pip install -U pip setuptools wheel\n",
        "#!pip install --index-url https://pypi.clarin-pl.eu/simple combo==1.0.3"
      ]
    },
    {
      "cell_type": "markdown",
      "metadata": {
        "id": "q49bsQmyLOsY"
      },
      "source": [
        "## Przetwarzania plików CoNLL-U\n",
        "\n",
        "\n",
        "Format CoNLL-U:\n",
        "*   każdemu segmentowi odpowiada jedna linia,\n",
        "*   zdania oddzielone są pustymi liniami,\n",
        "*   każde zdanie poprzedzone jest metadanymi zapisanymi w liniach rozpoczynających się znakiem `#`,\n",
        "*   w przypadku segmentów składających się z kilku wyrazów (np. im --> in dem w niemieckim) występuje dodatkowa linia odpowiadająca temu słowu,\n",
        "*   linia zawierająca opis pojedynczego segmentu składa się z 10 kolumn:\n",
        " 1.   ID: numer kolejny słowa w zdaniu,\n",
        " 2.   ORTH: forma tekstowa,\n",
        " 3.   **LEMMA**: lemat,\n",
        " 4. **UPOS**: [uniwersalna część mowy](https://universaldependencies.org/u/pos/index.html),\n",
        " 5. **XPOS**: tag właściwy dla danego języka,\n",
        " 6. **UFEATS**: [uniwersalne cechy morfologiczne](https://universaldependencies.org/u/feat/index.html),\n",
        " 7. HEAD: id nadrzędnika,\n",
        " 8. DEPREL: etykieta relacji zależnościowej.\n",
        "\n",
        "Do przetwarzania/zwracania plików w formacie CoNLL-U wykorzystamy bibliotekę [spacy-conll](https://pypi.org/project/spacy-conll/)."
      ]
    },
    {
      "cell_type": "code",
      "execution_count": null,
      "metadata": {
        "id": "Oc6Uw1uehXDN"
      },
      "outputs": [],
      "source": [
        "# UPDATE! COMBO instaluje tę wersję spaCy, więc ten krok nie jest już konieczny\n",
        "#!pip install spacy==2.3.2"
      ]
    },
    {
      "cell_type": "code",
      "execution_count": null,
      "metadata": {
        "id": "LAZuf63OhyK3"
      },
      "outputs": [],
      "source": [
        "# Pobranie podstawowego modelu spaCy\n",
        "!python -m spacy download en_core_web_sm-2.3.1 --direct"
      ]
    },
    {
      "cell_type": "code",
      "execution_count": null,
      "metadata": {
        "id": "tCxhCauch09c"
      },
      "outputs": [],
      "source": [
        "# Wczytanie modelu podstawowego spaCy\n",
        "import spacy\n",
        "nlp = spacy.load(\"pl_core_news_sm-2.3.1\")"
      ]
    },
    {
      "cell_type": "code",
      "execution_count": null,
      "metadata": {
        "id": "51MWssVQJlpM"
      },
      "outputs": [],
      "source": [
        "# Przetworzenie zdania\n",
        "doc = nlp(\"To jest słoń, którego sfotografowaliśmy.\")"
      ]
    },
    {
      "cell_type": "code",
      "execution_count": null,
      "metadata": {
        "colab": {
          "base_uri": "https://localhost:8080/"
        },
        "id": "T6V07bwOin_b",
        "outputId": "5db7ecee-6a9c-47fa-91dd-05086d2e61bc"
      },
      "outputs": [
        {
          "name": "stdout",
          "output_type": "stream",
          "text": [
            "SEGMENT              LEMAT                UPOS                \n",
            "To                   to                   VERB                \n",
            "jest                 być                  VERB                \n",
            "słoń                 słoń                 NOUN                \n",
            ",                    ,                    PUNCT               \n",
            "którego              który                ADJ                 \n",
            "sfotografowaliśmy    sfotografować        VERB                \n",
            ".                    .                    PUNCT               \n"
          ]
        }
      ],
      "source": [
        "print(\"{:20} {:20} {:20}\".format('SEGMENT', 'LEMAT', 'UPOS'))\n",
        "for token in doc:\n",
        "    print(\"{:20} {:20} {:20}\".format(token.text, token.lemma_, token.pos_))"
      ]
    },
    {
      "cell_type": "code",
      "execution_count": null,
      "metadata": {
        "colab": {
          "base_uri": "https://localhost:8080/"
        },
        "id": "jjH8g_ejJ_Eo",
        "outputId": "8f0ae69b-7cab-4a81-f89b-2ca8185ee428"
      },
      "outputs": [
        {
          "name": "stdout",
          "output_type": "stream",
          "text": [
            "SEGMENT              LEMAT                UPOS                \n",
            "Tośmy                tośmy                NOUN                \n",
            "sfotografowali       sfotografować        VERB                \n",
            "słonia               słoń                 NOUN                \n",
            "!                    !                    PUNCT               \n"
          ]
        }
      ],
      "source": [
        "doc = nlp(\"Tośmy sfotografowali słonia!\")\n",
        "print(\"{:20} {:20} {:20}\".format('SEGMENT', 'LEMAT', 'UPOS'))\n",
        "for token in doc:\n",
        "    print(\"{:20} {:20} {:20}\".format(token.text, token.lemma_, token.pos_))"
      ]
    },
    {
      "cell_type": "code",
      "execution_count": null,
      "metadata": {
        "colab": {
          "base_uri": "https://localhost:8080/"
        },
        "id": "JDQzuXJ8iqoU",
        "outputId": "a74fb4d9-f2a6-4dfd-f08e-182865e1aaf2"
      },
      "outputs": [
        {
          "name": "stdout",
          "output_type": "stream",
          "text": [
            "Collecting spacy-conll\n",
            "  Downloading spacy_conll-2.0.0-py3-none-any.whl (18 kB)\n",
            "Requirement already satisfied: packaging in /usr/local/lib/python3.7/dist-packages (from spacy-conll) (20.9)\n",
            "Requirement already satisfied: spacy>=2.0 in /usr/local/lib/python3.7/dist-packages (from spacy-conll) (2.3.2)\n",
            "Requirement already satisfied: wasabi<1.1.0,>=0.4.0 in /usr/local/lib/python3.7/dist-packages (from spacy>=2.0->spacy-conll) (0.8.2)\n",
            "Requirement already satisfied: numpy>=1.15.0 in /usr/local/lib/python3.7/dist-packages (from spacy>=2.0->spacy-conll) (1.19.4)\n",
            "Requirement already satisfied: plac<1.2.0,>=0.9.6 in /usr/local/lib/python3.7/dist-packages (from spacy>=2.0->spacy-conll) (1.1.3)\n",
            "Requirement already satisfied: thinc==7.4.1 in /usr/local/lib/python3.7/dist-packages (from spacy>=2.0->spacy-conll) (7.4.1)\n",
            "Requirement already satisfied: srsly<1.1.0,>=1.0.2 in /usr/local/lib/python3.7/dist-packages (from spacy>=2.0->spacy-conll) (1.0.5)\n",
            "Requirement already satisfied: catalogue<1.1.0,>=0.0.7 in /usr/local/lib/python3.7/dist-packages (from spacy>=2.0->spacy-conll) (1.0.0)\n",
            "Requirement already satisfied: setuptools in /usr/local/lib/python3.7/dist-packages (from spacy>=2.0->spacy-conll) (56.0.0)\n",
            "Requirement already satisfied: preshed<3.1.0,>=3.0.2 in /usr/local/lib/python3.7/dist-packages (from spacy>=2.0->spacy-conll) (3.0.5)\n",
            "Requirement already satisfied: requests<3.0.0,>=2.13.0 in /usr/local/lib/python3.7/dist-packages (from spacy>=2.0->spacy-conll) (2.23.0)\n",
            "Requirement already satisfied: blis<0.5.0,>=0.4.0 in /usr/local/lib/python3.7/dist-packages (from spacy>=2.0->spacy-conll) (0.4.1)\n",
            "Requirement already satisfied: murmurhash<1.1.0,>=0.28.0 in /usr/local/lib/python3.7/dist-packages (from spacy>=2.0->spacy-conll) (1.0.5)\n",
            "Requirement already satisfied: tqdm<5.0.0,>=4.38.0 in /usr/local/lib/python3.7/dist-packages (from spacy>=2.0->spacy-conll) (4.43.0)\n",
            "Requirement already satisfied: cymem<2.1.0,>=2.0.2 in /usr/local/lib/python3.7/dist-packages (from spacy>=2.0->spacy-conll) (2.0.5)\n",
            "Requirement already satisfied: importlib-metadata>=0.20 in /usr/local/lib/python3.7/dist-packages (from catalogue<1.1.0,>=0.0.7->spacy>=2.0->spacy-conll) (3.10.1)\n",
            "Requirement already satisfied: zipp>=0.5 in /usr/local/lib/python3.7/dist-packages (from importlib-metadata>=0.20->catalogue<1.1.0,>=0.0.7->spacy>=2.0->spacy-conll) (3.4.1)\n",
            "Requirement already satisfied: typing-extensions>=3.6.4 in /usr/local/lib/python3.7/dist-packages (from importlib-metadata>=0.20->catalogue<1.1.0,>=0.0.7->spacy>=2.0->spacy-conll) (3.7.4.3)\n",
            "Requirement already satisfied: urllib3!=1.25.0,!=1.25.1,<1.26,>=1.21.1 in /usr/local/lib/python3.7/dist-packages (from requests<3.0.0,>=2.13.0->spacy>=2.0->spacy-conll) (1.25.11)\n",
            "Requirement already satisfied: idna<3,>=2.5 in /usr/local/lib/python3.7/dist-packages (from requests<3.0.0,>=2.13.0->spacy>=2.0->spacy-conll) (2.10)\n",
            "Requirement already satisfied: chardet<4,>=3.0.2 in /usr/local/lib/python3.7/dist-packages (from requests<3.0.0,>=2.13.0->spacy>=2.0->spacy-conll) (3.0.4)\n",
            "Requirement already satisfied: certifi>=2017.4.17 in /usr/local/lib/python3.7/dist-packages (from requests<3.0.0,>=2.13.0->spacy>=2.0->spacy-conll) (2020.12.5)\n",
            "Requirement already satisfied: pyparsing>=2.0.2 in /usr/local/lib/python3.7/dist-packages (from packaging->spacy-conll) (2.4.7)\n",
            "Installing collected packages: spacy-conll\n",
            "Successfully installed spacy-conll-2.0.0\n"
          ]
        }
      ],
      "source": [
        "# Instalacja biblioteki spacy-conll do przetwarzania plików conll\n",
        "! pip install spacy-conll"
      ]
    },
    {
      "cell_type": "markdown",
      "metadata": {
        "id": "E4_VIL4aoui_"
      },
      "source": [
        "Biblioteka ```spacy-conll``` umożliwia przetwarzanie wstępnie posegmentowanych plików:\n",
        "\n",
        "Funkcja ```init_parser``` do inicjowania parsera akceptuje wstępnie posegmentowane wejście (```is_tokenized=True```)"
      ]
    },
    {
      "cell_type": "code",
      "execution_count": null,
      "metadata": {
        "id": "GhQ1HFHUnxOU"
      },
      "outputs": [],
      "source": [
        "from spacy_conll import init_parser\n",
        "nlp = init_parser('spacy', 'pl_core_news_sm', is_tokenized=True)"
      ]
    },
    {
      "cell_type": "code",
      "execution_count": null,
      "metadata": {
        "id": "k5Ksd3VEKVdM"
      },
      "outputs": [],
      "source": [
        "doc = nlp('To jest słoń , którego sfotografowali śmy .')"
      ]
    },
    {
      "cell_type": "code",
      "execution_count": null,
      "metadata": {
        "colab": {
          "base_uri": "https://localhost:8080/"
        },
        "id": "oFJagntYoLfG",
        "outputId": "f0bd0f02-0930-422e-e648-3cfa13b500f9"
      },
      "outputs": [
        {
          "name": "stdout",
          "output_type": "stream",
          "text": [
            "SEGMENT              LEMAT                UPOS                \n",
            "To                   to                   VERB                \n",
            "jest                 być                  VERB                \n",
            "słoń                 słoń                 NOUN                \n",
            ",                    ,                    PUNCT               \n",
            "którego              który                ADJ                 \n",
            "sfotografowali       sfotografować        VERB                \n",
            "śmy                  być                  AUX                 \n",
            ".                    .                    PUNCT               \n"
          ]
        }
      ],
      "source": [
        "print(\"{:20} {:20} {:20}\".format('SEGMENT', 'LEMAT', 'UPOS'))\n",
        "for token in doc:\n",
        "    print(\"{:20} {:20} {:20}\".format(token.text, token.lemma_, token.pos_))"
      ]
    },
    {
      "cell_type": "code",
      "execution_count": null,
      "metadata": {
        "colab": {
          "base_uri": "https://localhost:8080/"
        },
        "id": "FylL3UtIKbSK",
        "outputId": "68277517-e6b6-495f-9bdd-0d117b5e0ef9"
      },
      "outputs": [
        {
          "name": "stdout",
          "output_type": "stream",
          "text": [
            "SEGMENT              LEMAT                UPOS                \n",
            "To                   to                   PART                \n",
            "śmy                  być                  AUX                 \n",
            "sfotografowali       sfotografować        VERB                \n",
            "słonia               słoń                 NOUN                \n",
            "!                    !                    PUNCT               \n"
          ]
        }
      ],
      "source": [
        "doc = nlp('To śmy sfotografowali słonia !')\n",
        "print(\"{:20} {:20} {:20}\".format('SEGMENT', 'LEMAT', 'UPOS'))\n",
        "for token in doc:\n",
        "    print(\"{:20} {:20} {:20}\".format(token.text, token.lemma_, token.pos_))"
      ]
    },
    {
      "cell_type": "markdown",
      "metadata": {
        "id": "DS-Xe25XqMtL"
      },
      "source": [
        "Przy pomocy skryptu uruchamianego z wiersza poleceń ```parse-as-conll``` można przetworzyć string albo plik tekstowy i wpisać wynik do pliku CoNLL."
      ]
    },
    {
      "cell_type": "code",
      "execution_count": null,
      "metadata": {
        "id": "rLsG3skui-Z_"
      },
      "outputs": [],
      "source": [
        "!parse-as-conll --model_or_lang 'pl_core_news_sm' --input_str 'To jest słoń, którego sfotografowaliśmy.' --output_file 'test.conllu' --include_headers"
      ]
    },
    {
      "cell_type": "code",
      "execution_count": null,
      "metadata": {
        "colab": {
          "base_uri": "https://localhost:8080/"
        },
        "id": "3oxgzoXdmdO0",
        "outputId": "c7b0aa23-9446-476a-92d9-8cbe8e45703d"
      },
      "outputs": [
        {
          "name": "stdout",
          "output_type": "stream",
          "text": [
            "# sent_id = 1\n",
            "# text = To jest słoń, którego sfotografowaliśmy.\n",
            "1\tTo\tto\tVERB\tPRED\t_\t0\tROOT\t_\t_\n",
            "2\tjest\tbyć\tVERB\tFIN\t_\t1\taux\t_\t_\n",
            "3\tsłoń\tsłoń\tNOUN\tSUBST\t_\t1\tnsubj\t_\tSpaceAfter=No\n",
            "4\t,\t,\tPUNCT\tINTERP\t_\t6\tpunct\t_\t_\n",
            "5\tktórego\tktóry\tADJ\tADJ\t_\t6\tobj\t_\t_\n",
            "6\tsfotografowaliśmy\tsfotografować\tVERB\tPRAET\t_\t3\tacl\t_\tSpaceAfter=No\n",
            "7\t.\t.\tPUNCT\tINTERP\t_\t1\tpunct\t_\tSpaceAfter=No\n"
          ]
        }
      ],
      "source": [
        "! head test.conllu"
      ]
    },
    {
      "cell_type": "code",
      "execution_count": null,
      "metadata": {
        "colab": {
          "base_uri": "https://localhost:8080/"
        },
        "id": "l5XTfZgOlphQ",
        "outputId": "56be1ddb-21a3-4082-cf2b-5b466a237a1c"
      },
      "outputs": [
        {
          "name": "stdout",
          "output_type": "stream",
          "text": [
            "--2023-05-09 13:41:14--  http://mozart.ipipan.waw.pl/~alina/zasoby/data/PDBUD_test.txt\n",
            "Resolving mozart.ipipan.waw.pl (mozart.ipipan.waw.pl)... 213.135.36.148\n",
            "Connecting to mozart.ipipan.waw.pl (mozart.ipipan.waw.pl)|213.135.36.148|:80... connected.\n",
            "HTTP request sent, awaiting response... 200 OK\n",
            "Length: 208260 (203K) [text/plain]\n",
            "Saving to: ‘zasoby/PDBUD_test.txt’\n",
            "\n",
            "PDBUD_test.txt      100%[===================>] 203.38K   228KB/s    in 0.9s    \n",
            "\n",
            "2023-05-09 13:41:16 (228 KB/s) - ‘zasoby/PDBUD_test.txt’ saved [208260/208260]\n",
            "\n"
          ]
        }
      ],
      "source": [
        "! wget -P zasoby http://mozart.ipipan.waw.pl/~alina/zasoby/data/PDBUD_test.txt"
      ]
    },
    {
      "cell_type": "code",
      "execution_count": null,
      "metadata": {
        "colab": {
          "base_uri": "https://localhost:8080/"
        },
        "id": "kLox_K8uiBtD",
        "outputId": "49ea2cec-77f3-4324-d5c3-dcd773c27831"
      },
      "outputs": [
        {
          "name": "stdout",
          "output_type": "stream",
          "text": [
            "Mężczyzna w czapce kuca na chodniku pod ścianą budynku, a koło niego jest pięć kotów.\n",
            "Chłopak biegnie, asekurując jadącego obok rowerem chłopca w kasku na głowie.\n",
            "Kilkanaście dziewczynek w białych sukienkach i kokardach na głowie stoi obok siebie na scenie.\n",
            "Uśmiechnięta dziewczynka o jasnych włosach zjeżdża na zjeżdżalni.\n",
            "Jasnowłose dziecko jedzie po chodniku na czerwonej hulajnodze.\n",
            "Brudny samochód terenowy stoi zapadnięty w błocie.\n",
            "Dwaj mężczyźni z wędkami stoją na plaży w pobliżu łodzi.\n",
            "Dwie osoby skaczą nad śniegiem na deskach snowboardowych w pobliżu drewnianych budynków.\n",
            "Małpa stoi zwrócona w kierunku innej skaczącej w jej stronę małpy.\n",
            "Na boisku trzech piłkarzy podskakuje do piłki podczas meczu.\n"
          ]
        }
      ],
      "source": [
        "!head -n 10 zasoby/PDBUD_test.txt"
      ]
    },
    {
      "cell_type": "code",
      "execution_count": null,
      "metadata": {
        "colab": {
          "base_uri": "https://localhost:8080/"
        },
        "id": "d3nxxE_ti_YN",
        "outputId": "aa913aac-7383-43e3-85d9-b6f13a7c1705"
      },
      "outputs": [
        {
          "name": "stdout",
          "output_type": "stream",
          "text": [
            "\n",
            "real\t0m18.370s\n",
            "user\t0m16.961s\n",
            "sys\t0m1.480s\n"
          ]
        }
      ],
      "source": [
        "! time parse-as-conll --model_or_lang 'pl_core_news_sm' --input_file 'zasoby/PDBUD_test.txt' --output_file 'predykcje/PDBUD_test_spaCy_baseline.conllu' --include_headers"
      ]
    },
    {
      "cell_type": "code",
      "execution_count": null,
      "metadata": {
        "colab": {
          "base_uri": "https://localhost:8080/"
        },
        "id": "MJ9JB4vomkN1",
        "outputId": "cfbe5e6b-507d-413c-b9b8-a62680a1c7b2"
      },
      "outputs": [
        {
          "name": "stdout",
          "output_type": "stream",
          "text": [
            "2\tsię\tsię\tPART\tQUB\t_\t1\texpl:pv\t_\tSpaceAfter=No\n",
            "3\t,\t,\tPUNCT\tINTERP\t_\t5\tpunct\t_\t_\n",
            "4\tże\tże\tSCONJ\tCOMP\t_\t5\tmark\t_\t_\n",
            "5\tprzemówił\tprzemówić\tVERB\tPRAET\t_\t1\tccomp\t_\t_\n",
            "6\ttu\ttu\tADV\tADV\t_\t5\tadvmod\t_\t_\n",
            "7\tdziś\tdziś\tADV\tADV\t_\t8\tadvmod\t_\t_\n",
            "8\tprawdziwy\tprawdziwy\tADJ\tADJ\t_\t10\tamod\t_\t_\n",
            "9\tsocjaldemokratyczny\tsocjaldemokratyczny\tADJ\tADJ\t_\t10\tamod\t_\t_\n",
            "10\tszef\tszef\tNOUN\tSUBST\t_\t5\tnsubj\t_\t_\n",
            "11\trządu\trząd\tNOUN\tSUBST\t_\t10\tnmod\t_\tSpaceAfter=No\n",
            "12\t.\t.\tPUNCT\tINTERP\t_\t1\tpunct\t_\tSpaceAfter=No\n",
            "\n",
            "# sent_id = 2415\n",
            "# text = Chciałbym podziękować swojemu oponentowi, panu Bushill-Matthewsowi za profesjonalny sposób przewodniczenia negocjacjom, koleżankom i kolegom z innych grup za ich pomoc pod względem politycznym, a prezydencji francuskiej za jej wyrafinowane podejście.\n",
            "1\tChciałbym\tchciałbym\tADJ\tADJ\t_\t0\tROOT\t_\t_\n",
            "2\tpodziękować\tpodziękować\tVERB\tINF\t_\t1\txcomp\t_\t_\n",
            "3\tswojemu\tswój\tADJ\tADJ\t_\t4\tamod\t_\t_\n",
            "4\toponentowi\toponent\tNOUN\tSUBST\t_\t2\tobj\t_\tSpaceAfter=No\n",
            "5\t,\t,\tPUNCT\tINTERP\t_\t7\tpunct\t_\t_\n",
            "6\tpanu\tpan\tNOUN\tSUBST\t_\t7\tnsubj\t_\t_\n",
            "7\tBushill\tbushill\tNOUN\tSUBST\t_\t1\tconj\t_\tSpaceAfter=No\n",
            "8\t-\t-\tPUNCT\tINTERP\t_\t7\tpunct\t_\tSpaceAfter=No\n",
            "9\tMatthewsowi\tmatthewsowi\tNOUN\tSUBST\t_\t8\tcase\t_\t_\n",
            "10\tza\tza\tADP\tPREP\t_\t12\tcase\t_\t_\n",
            "11\tprofesjonalny\tprofesjonalny\tADJ\tADJ\t_\t12\tamod\t_\t_\n",
            "12\tsposób\tsposób\tNOUN\tSUBST\t_\t7\tobl\t_\t_\n",
            "13\tprzewodniczenia\tprzewodniczenia\tNOUN\tGER\t_\t12\tnmod\t_\t_\n",
            "14\tnegocjacjom\tnegocjacje\tNOUN\tSUBST\t_\t13\tnmod\t_\tSpaceAfter=No\n",
            "15\t,\t,\tPUNCT\tINTERP\t_\t16\tpunct\t_\t_\n",
            "16\tkoleżankom\tkoleżanka\tNOUN\tSUBST\t_\t14\tconj\t_\t_\n",
            "17\ti\ti\tCCONJ\tCONJ\t_\t18\tcc\t_\t_\n",
            "18\tkolegom\tkolega\tNOUN\tSUBST\t_\t14\tconj\t_\t_\n",
            "19\tz\tz\tADP\tPREP\t_\t21\tcase\t_\t_\n",
            "20\tinnych\tinny\tADJ\tADJ\t_\t21\tamod\t_\t_\n",
            "21\tgrup\tgrupa\tNOUN\tSUBST\t_\t18\tnmod\t_\t_\n",
            "22\tza\tza\tADP\tPREP\t_\t24\tcase\t_\t_\n",
            "23\tich\ton\tPRON\tPPRON3\t_\t24\tnmod\t_\t_\n",
            "24\tpomoc\tpomoc\tNOUN\tSUBST\t_\t21\tnmod\t_\t_\n",
            "25\tpod\tpod\tADP\tPREP\t_\t26\tcase\t_\t_\n",
            "26\twzględem\twzgląd\tNOUN\tSUBST\t_\t7\tobl\t_\t_\n",
            "27\tpolitycznym\tpolityczny\tADJ\tADJ\t_\t26\tamod\t_\tSpaceAfter=No\n",
            "28\t,\t,\tPUNCT\tINTERP\t_\t7\tpunct\t_\t_\n",
            "29\ta\ta\tCCONJ\tCONJ\t_\t7\tdep\t_\t_\n",
            "30\tprezydencji\tprezydencja\tNOUN\tSUBST\t_\t7\tobj\t_\t_\n",
            "31\tfrancuskiej\tfrancuski\tADJ\tADJ\t_\t30\tamod\t_\t_\n",
            "32\tza\tza\tADP\tPREP\t_\t33\tcase\t_\t_\n",
            "33\tjej\ton\tPRON\tPPRON3\t_\t35\tnmod\t_\t_\n",
            "34\twyrafinowane\twyrafinowany\tADJ\tADJ\t_\t35\tamod\t_\t_\n",
            "35\tpodejście\tpodejście\tNOUN\tSUBST\t_\t30\tnmod\t_\tSpaceAfter=No\n",
            "36\t.\t.\tPUNCT\tINTERP\t_\t1\tpunct\t_\tSpaceAfter=No\n"
          ]
        }
      ],
      "source": [
        "! tail -n 50 predykcje/PDBUD_test_spaCy_baseline.conllu"
      ]
    },
    {
      "cell_type": "markdown",
      "metadata": {
        "id": "XQpJR0U9__iE"
      },
      "source": [
        "# Analizator morfologiczny [Morfeusz](http://morfeusz.sgjp.pl) w Pythonie\n",
        "*   analizator i generator morfologiczny opracowany w IPI PAN\n",
        "*   wersja demo: http://morfeusz.sgjp.pl/demo\n",
        "*   można go wbudować w tworzone programy\n",
        "*   przy pomocy dodatkowych modułów można go użyć z poziomu Pythona i Javy\n",
        "*   dystrybuowany z dwoma słownikami: SGJP lub Polimorf\n",
        "*   Tutorial Morfeusza (K. Krasnowska-Kieraś): http://clarin-pl.eu/wp-content/uploads/2019/10/Morfeusz2.pdf\n",
        "\n"
      ]
    },
    {
      "cell_type": "markdown",
      "metadata": {
        "id": "4r9mW8slZ104"
      },
      "source": [
        "### Instalacja\n",
        "Instalujemy bibliotekę pythonową Morfeusza z pakietów Ubuntu ([instalacja dla innych systemów](http://morfeusz.sgjp.pl/download/))"
      ]
    },
    {
      "cell_type": "code",
      "execution_count": null,
      "metadata": {
        "colab": {
          "base_uri": "https://localhost:8080/"
        },
        "id": "8O52QgV4OoWe",
        "outputId": "cd652638-79c8-47b5-f04d-ed3303e9a3f1"
      },
      "outputs": [
        {
          "name": "stdout",
          "output_type": "stream",
          "text": [
            "--2023-05-09 14:14:02--  http://download.sgjp.pl/apt/sgjp.gpg.key\n",
            "Resolving download.sgjp.pl (download.sgjp.pl)... 193.0.67.154\n",
            "Connecting to download.sgjp.pl (download.sgjp.pl)|193.0.67.154|:80... connected.\n",
            "HTTP request sent, awaiting response... 200 OK\n",
            "Length: 1029 (1.0K) [application/pgp-keys]\n",
            "Saving to: ‘STDOUT’\n",
            "\n",
            "-                   100%[===================>]   1.00K  --.-KB/s    in 0s      \n",
            "\n",
            "2023-05-09 14:14:03 (197 MB/s) - written to stdout [1029/1029]\n",
            "\n",
            "OK\n",
            "Hit:1 https://cloud.r-project.org/bin/linux/ubuntu focal-cran40/ InRelease\n",
            "Hit:2 https://developer.download.nvidia.com/compute/cuda/repos/ubuntu2004/x86_64  InRelease\n",
            "Get:3 http://security.ubuntu.com/ubuntu focal-security InRelease [114 kB]\n",
            "Hit:4 http://download.sgjp.pl/apt/ubuntu focal InRelease\n",
            "Hit:5 http://archive.ubuntu.com/ubuntu focal InRelease\n",
            "Hit:6 http://ppa.launchpad.net/c2d4u.team/c2d4u4.0+/ubuntu focal InRelease\n",
            "Get:7 http://archive.ubuntu.com/ubuntu focal-updates InRelease [114 kB]\n",
            "Hit:8 http://ppa.launchpad.net/cran/libgit2/ubuntu focal InRelease\n",
            "Hit:9 http://ppa.launchpad.net/deadsnakes/ppa/ubuntu focal InRelease\n",
            "Get:10 http://archive.ubuntu.com/ubuntu focal-backports InRelease [108 kB]\n",
            "Hit:11 http://ppa.launchpad.net/graphics-drivers/ppa/ubuntu focal InRelease\n",
            "Get:12 http://archive.ubuntu.com/ubuntu focal-updates/main amd64 Packages [3,157 kB]\n",
            "Hit:13 http://ppa.launchpad.net/ubuntugis/ppa/ubuntu focal InRelease\n",
            "Get:14 http://archive.ubuntu.com/ubuntu focal-updates/universe amd64 Packages [1,341 kB]\n",
            "Fetched 4,833 kB in 3s (1,482 kB/s)\n",
            "Reading package lists... Done\n",
            "Hit:1 https://cloud.r-project.org/bin/linux/ubuntu focal-cran40/ InRelease\n",
            "Hit:2 https://developer.download.nvidia.com/compute/cuda/repos/ubuntu2004/x86_64  InRelease\n",
            "Hit:3 http://archive.ubuntu.com/ubuntu focal InRelease\n",
            "Hit:4 http://ppa.launchpad.net/c2d4u.team/c2d4u4.0+/ubuntu focal InRelease\n",
            "Hit:5 http://download.sgjp.pl/apt/ubuntu focal InRelease\n",
            "Hit:6 http://archive.ubuntu.com/ubuntu focal-updates InRelease\n",
            "Hit:7 http://security.ubuntu.com/ubuntu focal-security InRelease\n",
            "Get:8 http://archive.ubuntu.com/ubuntu focal-backports InRelease [108 kB]\n",
            "Hit:9 http://ppa.launchpad.net/cran/libgit2/ubuntu focal InRelease\n",
            "Hit:10 http://ppa.launchpad.net/deadsnakes/ppa/ubuntu focal InRelease\n",
            "Hit:11 http://ppa.launchpad.net/graphics-drivers/ppa/ubuntu focal InRelease\n",
            "Hit:12 http://ppa.launchpad.net/ubuntugis/ppa/ubuntu focal InRelease\n",
            "Fetched 108 kB in 2s (55.2 kB/s)\n",
            "Reading package lists... Done\n",
            "Building dependency tree       \n",
            "Reading state information... Done\n",
            "37 packages can be upgraded. Run 'apt list --upgradable' to see them.\n",
            "Reading package lists... Done\n",
            "Building dependency tree       \n",
            "Reading state information... Done\n",
            "libmorfeusz2 is already the newest version (1.99.6-20.04).\n",
            "0 upgraded, 0 newly installed, 0 to remove and 37 not upgraded.\n",
            "Reading package lists... Done\n",
            "Building dependency tree       \n",
            "Reading state information... Done\n",
            "python3-morfeusz2 is already the newest version (1.99.6-20.04).\n",
            "0 upgraded, 0 newly installed, 0 to remove and 37 not upgraded.\n",
            "--2023-05-09 14:14:15--  http://download.sgjp.pl/morfeusz/20220731/Linux/20.04/64/morfeusz2-1.99.5-20220731-cp310.cp35.cp36.cp37.cp38.cp39-abi3-linux_x86_64.whl\n",
            "Resolving download.sgjp.pl (download.sgjp.pl)... 193.0.67.154\n",
            "Connecting to download.sgjp.pl (download.sgjp.pl)|193.0.67.154|:80... connected.\n",
            "HTTP request sent, awaiting response... 200 OK\n",
            "Length: 9068576 (8.6M)\n",
            "Saving to: ‘morfeusz2-1.99.5-20220731-cp310.cp35.cp36.cp37.cp38.cp39-abi3-linux_x86_64.whl’\n",
            "\n",
            "morfeusz2-1.99.5-20 100%[===================>]   8.65M  4.26MB/s    in 2.0s    \n",
            "\n",
            "2023-05-09 14:14:17 (4.26 MB/s) - ‘morfeusz2-1.99.5-20220731-cp310.cp35.cp36.cp37.cp38.cp39-abi3-linux_x86_64.whl’ saved [9068576/9068576]\n",
            "\n",
            "Looking in indexes: https://pypi.org/simple, https://us-python.pkg.dev/colab-wheels/public/simple/\n",
            "Processing ./morfeusz2-1.99.5-20220731-cp310.cp35.cp36.cp37.cp38.cp39-abi3-linux_x86_64.whl\n",
            "Installing collected packages: morfeusz2\n",
            "  Attempting uninstall: morfeusz2\n",
            "    Found existing installation: morfeusz2 1.99.6\n",
            "    Uninstalling morfeusz2-1.99.6:\n",
            "      Successfully uninstalled morfeusz2-1.99.6\n",
            "Successfully installed morfeusz2-1.99.5\n"
          ]
        }
      ],
      "source": [
        "!wget -O - http://download.sgjp.pl/apt/sgjp.gpg.key|sudo apt-key add -\n",
        "!sudo apt-add-repository http://download.sgjp.pl/apt/ubuntu\n",
        "!sudo apt update\n",
        "!sudo apt install libmorfeusz2\n",
        "!sudo apt install python3-morfeusz2\n",
        "#!wget http://download.sgjp.pl/morfeusz/20230423/Linux/22.04/64/morfeusz2-1.99.6-20230423-cp310.cp36.cp37.cp38.cp39-abi3-linux_x86_64.whl -O morfeusz2-1.99.6-20230423-cp310.cp36.cp37.cp38.cp39-abi3-linux_x86_64.whl\n",
        "!wget http://download.sgjp.pl/morfeusz/20220731/Linux/20.04/64/morfeusz2-1.99.5-20220731-cp310.cp35.cp36.cp37.cp38.cp39-abi3-linux_x86_64.whl -O morfeusz2-1.99.5-20220731-cp310.cp35.cp36.cp37.cp38.cp39-abi3-linux_x86_64.whl\n",
        "#!python3 -m pip install --upgrade --force-reinstall morfeusz2-1.99.6-20230423-cp310.cp36.cp37.cp38.cp39-abi3-linux_x86_64.whl\n",
        "!python3 -m pip install --upgrade --force-reinstall morfeusz2-1.99.5-20220731-cp310.cp35.cp36.cp37.cp38.cp39-abi3-linux_x86_64.whl"
      ]
    },
    {
      "cell_type": "markdown",
      "metadata": {
        "id": "JxLI0dXTAoqS"
      },
      "source": [
        "### Klasa `Morfeusz`\n",
        "Biblioteka `morfeusz2` udostępnia klasę `Morfeusz` implementującą analizator i generator morfologiczny ([dokumentacja](http://sgjp.pl/morfeusz/download/Morfeusz2.pdf))."
      ]
    },
    {
      "cell_type": "code",
      "execution_count": null,
      "metadata": {
        "id": "2TuwYmzeDIVd"
      },
      "outputs": [],
      "source": [
        "import morfeusz2\n",
        "m = morfeusz2.Morfeusz()"
      ]
    },
    {
      "cell_type": "markdown",
      "metadata": {
        "id": "15Wp5XbebGFY"
      },
      "source": [
        "### Analiza morfologiczna"
      ]
    },
    {
      "cell_type": "code",
      "execution_count": null,
      "metadata": {
        "colab": {
          "base_uri": "https://localhost:8080/"
        },
        "id": "W4GcZGTCFWFO",
        "outputId": "454e77ea-3c37-4d91-8018-d3b846185251"
      },
      "outputs": [
        {
          "name": "stdout",
          "output_type": "stream",
          "text": [
            "(0, 1, ('Kolo', 'kolo', 'subst:sg:nom:m1', ['nazwa_pospolita'], ['pot.']))\n",
            "(0, 1, ('Kolo', 'kolo', 'subst:sg:voc:m1', ['nazwa_pospolita'], ['pot.']))\n",
            "(0, 1, ('Kolo', 'Kolo:Sf', 'subst:sg.pl:nom.gen.dat.acc.inst.loc.voc:f', ['nazwisko'], []))\n",
            "(0, 1, ('Kolo', 'Kolo:Sm1', 'subst:sg:nom:m1', ['nazwisko'], []))\n",
            "(0, 1, ('Kolo', 'Kolo:Sm1', 'subst:sg:voc:m1', ['nazwisko'], []))\n",
            "(0, 1, ('Kolo', 'kola', 'subst:sg:voc:f', ['nazwa_pospolita'], []))\n",
            "(1, 2, ('pojechał', 'pojechać', 'praet:sg:m1.m2.m3:perf', [], []))\n",
            "(2, 3, ('na', 'na:I', 'interj', [], []))\n",
            "(2, 3, ('na', 'na:P', 'prep:acc', [], []))\n",
            "(2, 3, ('na', 'na:P', 'prep:loc', [], []))\n",
            "(3, 4, ('wakacje', 'wakacje', 'subst:pl:nom.acc.voc:n:pt', ['nazwa_pospolita'], []))\n",
            "(4, 5, ('do', 'do:S', 'subst:sg.pl:nom.gen.dat.acc.inst.loc.voc:n:ncol', ['nazwa_pospolita'], ['muz.']))\n",
            "(4, 5, ('do', 'do:P', 'prep:gen', [], []))\n",
            "(5, 6, ('Włoch', 'Włoch:Sf', 'subst:sg.pl:nom.gen.dat.acc.inst.loc.voc:f', ['nazwisko'], []))\n",
            "(5, 6, ('Włoch', 'Włoch:Sm1~chowie', 'subst:sg:nom:m1', ['nazwisko'], []))\n",
            "(5, 6, ('Włoch', 'Włoch:Sm1~si', 'subst:sg:nom:m1', ['nazwa_pospolita'], []))\n",
            "(5, 6, ('Włoch', 'Włochy:Sn_pt~chach', 'subst:pl:gen:n:pt', ['nazwa_geograficzna'], []))\n",
            "(5, 6, ('Włoch', 'Włochy:Sn_pt~szech', 'subst:pl:gen:n:pt', ['nazwa_geograficzna'], []))\n",
            "(6, 7, ('autostopem', 'autostop', 'subst:sg:inst:m3', ['nazwa_pospolita'], []))\n",
            "(7, 8, ('.', '.', 'interp', [], []))\n"
          ]
        }
      ],
      "source": [
        "for a in m.analyse('Kolo pojechał na wakacje do Włoch autostopem.'):\n",
        "    print(a)"
      ]
    },
    {
      "cell_type": "markdown",
      "metadata": {
        "id": "gxciox9cBAjK"
      },
      "source": [
        "Graf analizy morfologicznej reprezentowany jest jako lista krotek (`tuple`) . Każda krotka zawiera:\n",
        " * indeks początku segmentu w grafie,\n",
        " * indeks końca segmentu w grafie,\n",
        " * interpretację morfologiczną (zagnieżdżoną krotkę):\n",
        "   * formę tekstową,\n",
        "   * lemat,\n",
        "   * tag (znacznik morfologiczny),\n",
        "   * kategorię nazw własnych,\n",
        "   * listę kwalifikatorów stylistycznych i dziedzinowych."
      ]
    },
    {
      "cell_type": "markdown",
      "metadata": {
        "id": "bfLu8HJEDYFw"
      },
      "source": [
        "Morfeusz domyślnie używa „spakowanej” notacji dla znaczników. Np. `praet:sg:m1.m2.m3:perf` należy odczytać jako skrót dla wszystkich kombinacji wartości oddzielonych kropkami na poszczególnych pozycjach:\n",
        "  * `praet:sg:m1:perf`\n",
        "  * `praet:sg:m2:perf`\n",
        "  * `praet:sg:m3:perf`"
      ]
    },
    {
      "cell_type": "markdown",
      "metadata": {
        "id": "6VRtvru2bNqn"
      },
      "source": [
        "### Generowanie morfologiczne"
      ]
    },
    {
      "cell_type": "code",
      "execution_count": null,
      "metadata": {
        "colab": {
          "base_uri": "https://localhost:8080/"
        },
        "id": "K3xosg0ERVYf",
        "outputId": "97310d3d-9ab1-4a80-8a2f-cbc28ac825e3"
      },
      "outputs": [
        {
          "name": "stdout",
          "output_type": "stream",
          "text": [
            "Lista form wyrazowych lematu brat:\n",
            "('brat', 'brat', 'subst:sg:nom:m1', ['nazwa_pospolita'], [])\n",
            "('brata', 'brat', 'subst:sg:gen.acc:m1', ['nazwa_pospolita'], [])\n",
            "('bratu', 'brat', 'subst:sg:dat:m1', ['nazwa_pospolita'], [])\n",
            "('bratem', 'brat', 'subst:sg:inst:m1', ['nazwa_pospolita'], [])\n",
            "('bracie', 'brat', 'subst:sg:loc:m1', ['nazwa_pospolita'], [])\n",
            "('bracie', 'brat', 'subst:sg:voc:m1', ['nazwa_pospolita'], [])\n",
            "('bracia', 'brat', 'subst:pl:nom.voc:m1', ['nazwa_pospolita'], [])\n",
            "('braci', 'brat', 'subst:pl:gen.acc:m1', ['nazwa_pospolita'], [])\n",
            "('braciom', 'brat', 'subst:pl:dat:m1', ['nazwa_pospolita'], [])\n",
            "('braćmi', 'brat', 'subst:pl:inst:m1', ['nazwa_pospolita'], [])\n",
            "('braciach', 'brat', 'subst:pl:loc:m1', ['nazwa_pospolita'], [])\n",
            "('b', 'brat', 'brev:pun', [], [])\n",
            "('braty', 'brat', 'depr:pl:nom.acc.voc:m2', ['nazwa_pospolita'], [])\n"
          ]
        }
      ],
      "source": [
        "print(\"Lista form wyrazowych lematu brat:\")\n",
        "for g in m.generate('brat'):\n",
        "    print(g)"
      ]
    },
    {
      "cell_type": "markdown",
      "metadata": {
        "id": "_Os_pc_UZNhG"
      },
      "source": [
        "#  OUTDATED_02: ~~Model morfeuszowy spaCy dla polskiego~~\n",
        "\n",
        "Ten model nie jest kompatybilny z Python 3.9\n",
        "\n"
      ]
    },
    {
      "cell_type": "markdown",
      "source": [
        "*   Wymaga zainstalowania biblioteki Morfeusz2\n",
        "*   Tagi i lemmaty zwracane przez Morfeusza są ujednoznaczniane przez tager Toygger\n",
        "*   Modele morfeuszowe spaCy dla polskiego dostępne są na http://zil.ipipan.waw.pl/SpacyPL\n",
        "*   Notatnik z instruktarzem: https://nbviewer.jupyter.org/github/ipipan/spacy-pl/blob/master/spaCy_PL_morfeusz_demo.ipynb"
      ],
      "metadata": {
        "id": "d5xEbxgkKP8s"
      }
    },
    {
      "cell_type": "markdown",
      "metadata": {
        "id": "NZNGwLDtbdXP"
      },
      "source": [
        "### Instalacja"
      ]
    },
    {
      "cell_type": "code",
      "execution_count": 2,
      "metadata": {
        "colab": {
          "base_uri": "https://localhost:8080/"
        },
        "id": "7QfV-1M7ZMb5",
        "outputId": "da4d0253-85d9-4851-a98b-a326f8bf25e1"
      },
      "outputs": [
        {
          "output_type": "stream",
          "name": "stdout",
          "text": [
            "--2023-05-09 20:06:09--  http://mozart.ipipan.waw.pl/~alina/zasoby/data/pl_spacy_model_morfeusz-0.1.3.tar.gz\n",
            "Resolving mozart.ipipan.waw.pl (mozart.ipipan.waw.pl)... 213.135.36.148\n",
            "Connecting to mozart.ipipan.waw.pl (mozart.ipipan.waw.pl)|213.135.36.148|:80... connected.\n",
            "HTTP request sent, awaiting response... 200 OK\n",
            "Length: 229068993 (218M) [application/x-gzip]\n",
            "Saving to: ‘zasoby/pl_spacy_model_morfeusz-0.1.3.tar.gz’\n",
            "\n",
            "pl_spacy_model_morf 100%[===================>] 218.46M  21.0MB/s    in 11s     \n",
            "\n",
            "2023-05-09 20:06:20 (19.2 MB/s) - ‘zasoby/pl_spacy_model_morfeusz-0.1.3.tar.gz’ saved [229068993/229068993]\n",
            "\n"
          ]
        }
      ],
      "source": [
        "! wget -P zasoby http://mozart.ipipan.waw.pl/~alina/zasoby/data/pl_spacy_model_morfeusz-0.1.3.tar.gz"
      ]
    },
    {
      "cell_type": "code",
      "execution_count": null,
      "metadata": {
        "id": "Us4ZrIWJauxK"
      },
      "outputs": [],
      "source": [
        "! python -m pip install zasoby/pl_spacy_model_morfeusz-0.1.3.tar.gz"
      ]
    },
    {
      "cell_type": "code",
      "execution_count": null,
      "metadata": {
        "colab": {
          "background_save": true
        },
        "id": "l_1Dy43Nw2Ut"
      },
      "outputs": [],
      "source": [
        "!python3 -m spacy link pl_spacy_model_morfeusz pl_spacy_model_morfeusz"
      ]
    },
    {
      "cell_type": "markdown",
      "metadata": {
        "id": "CuhHbqlWjipS"
      },
      "source": [
        "### Predykcja"
      ]
    },
    {
      "cell_type": "code",
      "execution_count": null,
      "metadata": {
        "colab": {
          "background_save": true
        },
        "id": "AFptJjwraveL"
      },
      "outputs": [],
      "source": [
        "import spacy\n",
        "nlp = spacy.load(\"pl_spacy_model_morfeusz\")"
      ]
    },
    {
      "cell_type": "code",
      "execution_count": null,
      "metadata": {
        "colab": {
          "background_save": true
        },
        "id": "wMKqsf14a1nw"
      },
      "outputs": [],
      "source": [
        "doc = nlp(\"To jest słoń, którego sfotografowaliśmy.\")"
      ]
    },
    {
      "cell_type": "code",
      "execution_count": null,
      "metadata": {
        "colab": {
          "background_save": true
        },
        "id": "ppzMV2eAa30t"
      },
      "outputs": [],
      "source": [
        "# Atrubuty tokenów https://spacy.io/api/token\n",
        "print(\"{:15} {:15} {:15} {:15}\".format('SEGMENT', 'LEMAT', 'UPOS', 'TAG'))\n",
        "for token in doc:\n",
        "    print(\"{:15} {:15} {:15} {:15}\".format(token.text, token.lemma_, token.pos_, ':'.join([token.tag_, token._.feats]).rstrip(\":\")))"
      ]
    },
    {
      "cell_type": "code",
      "execution_count": null,
      "metadata": {
        "colab": {
          "background_save": true
        },
        "id": "kKlNNb5ngyoz"
      },
      "outputs": [],
      "source": [
        "doc2 = nlp(\"Tośmy sfotografowali słonia!\")\n",
        "print(\"{:15} {:15} {:15} {:15}\".format('SEGMENT', 'LEMAT', 'UPOS', 'TAG'))\n",
        "for token in doc2:\n",
        "    print(\"{:15} {:15} {:15} {:15}\".format(token.text, token.lemma_, token.pos_, ':'.join([token.tag_, token._.feats]).rstrip(\":\")))"
      ]
    },
    {
      "cell_type": "code",
      "execution_count": null,
      "metadata": {
        "colab": {
          "background_save": true
        },
        "id": "MdXR6qy2AjzM"
      },
      "outputs": [],
      "source": [
        "!parse-as-conll --model_or_lang 'pl_spacy_model_morfeusz' --input_file 'zasoby/PDBUD_test.txt' --output_file 'predykcje/PDBUD_test_spaCy_Morfeusz.conllu' --include_headers"
      ]
    },
    {
      "cell_type": "code",
      "execution_count": null,
      "metadata": {
        "colab": {
          "background_save": true
        },
        "id": "Q031_R84X5q5"
      },
      "outputs": [],
      "source": [
        "!head -n 50 predykcje/PDBUD_test_spaCy_Morfeusz.conllu"
      ]
    },
    {
      "cell_type": "markdown",
      "metadata": {
        "id": "nI6cpGRSl58_"
      },
      "source": [
        "# COMBO\n"
      ]
    },
    {
      "cell_type": "markdown",
      "source": [
        "*  COMBO to niezależny od języka system wstępnego przetwarzania języka naturalnego, który wykorzystuje algorytmy sieci neuronowych.\n",
        "*  Moduły COMBO:\n",
        " * tager (predykcja uniwersalnych części mowy i specyficznych dla języka tagów),\n",
        " * analizator morfologiczny (predykcja list cech gramatycznych), \n",
        " * lematyzator (predykcja lematów),\n",
        " * parser zależnościowy (predykcja krawędzi w drzewie i etykiet, tj. typów relacji zależnościowych),\n",
        " * moduł etykietowania ról semantycznych (predykcja ról semantycznych, np. Time, Place, Recipient),\n",
        " * moduł obliczanie zanurzeń zdań (ang. sentence embeddings).\n",
        "*  Repozytorium COMBO: https://gitlab.clarin-pl.eu/syntactic-tools/combo\n",
        "*  Zalety COMBO:\n",
        " *  pakiet Pythonowy oparty na platformie AllenNLP i bibliotece PyTorch,\n",
        " *  umożliwia trenowanie modeli różniących się zakresem cech wejściowych, zakresem predykcji, rodzajem reprezentowania danych wejściowych (np. zanurzenia typu fastText, BERT),\n",
        " *  pozwala na trenowanie modeli na bankach drzew zależnościowych w formacie CoNLL (drzewa mogą być zaanotowane zgodnie ze schematem UD albo innym, specyficznym dla języka),\n",
        " *  system typu end-to-end z równocześnie trenowanymi modułami predykcyjnymi, dlatego trenowanie COMBO jest znacznie szybsze niż ,,potokowe” trenowanie systemów (np. Stanza)."
      ],
      "metadata": {
        "id": "-dq7QT44LP0x"
      }
    },
    {
      "cell_type": "markdown",
      "metadata": {
        "id": "0SkDX_V5ip0l"
      },
      "source": [
        "### Instalacje COMBO i LAMBO\n",
        "\n",
        "*   Lista dostępnych modeli jest tutaj https://gitlab.clarin-pl.eu/syntactic-tools/combo/-/blob/master/docs/performance.md\n",
        "*   System COMBO jest ciągle udoskonalany. Najbardziej aktualnym źródłem informacji jest repozytorium projektowe COMBO https://gitlab.clarin-pl.eu/syntactic-tools/combo/\n",
        "* LAMBO tokeniser  https://gitlab.clarin-pl.eu/syntactic-tools/lambo (Przybyła, 2022)\n",
        "\n"
      ]
    },
    {
      "cell_type": "code",
      "execution_count": 5,
      "metadata": {
        "id": "4j6gs3SjzNXu",
        "colab": {
          "base_uri": "https://localhost:8080/"
        },
        "outputId": "86e6fda4-6f44-48f9-eae9-1cc9a70aff3a"
      },
      "outputs": [
        {
          "output_type": "stream",
          "name": "stdout",
          "text": [
            "Cloning into 'lambo'...\n",
            "remote: Enumerating objects: 60, done.\u001b[K\n",
            "remote: Counting objects: 100% (60/60), done.\u001b[K\n",
            "remote: Compressing objects: 100% (56/56), done.\u001b[K\n",
            "remote: Total 60 (delta 5), reused 55 (delta 1), pack-reused 0\u001b[K\n",
            "Unpacking objects: 100% (60/60), 82.69 KiB | 153.00 KiB/s, done.\n",
            "Looking in indexes: https://pypi.org/simple, https://us-python.pkg.dev/colab-wheels/public/simple/\n",
            "Processing ./lambo\n",
            "  Installing build dependencies ... \u001b[?25l\u001b[?25hdone\n",
            "  Getting requirements to build wheel ... \u001b[?25l\u001b[?25hdone\n",
            "  Preparing metadata (pyproject.toml) ... \u001b[?25l\u001b[?25hdone\n",
            "Requirement already satisfied: importlib-resources<6,>=3.3.0 in /usr/local/lib/python3.9/dist-packages (from lambo==2.0.0) (5.12.0)\n",
            "Requirement already satisfied: tqdm<5,>=4.43.0 in /usr/local/lib/python3.9/dist-packages (from lambo==2.0.0) (4.65.0)\n",
            "Requirement already satisfied: requests<3,>=2.22.0 in /usr/local/lib/python3.9/dist-packages (from lambo==2.0.0) (2.27.1)\n",
            "Collecting torch<2,>=1.7.1\n",
            "  Downloading torch-1.13.1-cp39-cp39-manylinux1_x86_64.whl (887.4 MB)\n",
            "\u001b[2K     \u001b[90m━━━━━━━━━━━━━━━━━━━━━━━━━━━━━━━━━━━━━━━\u001b[0m \u001b[32m887.4/887.4 MB\u001b[0m \u001b[31m2.0 MB/s\u001b[0m eta \u001b[36m0:00:00\u001b[0m\n",
            "\u001b[?25hRequirement already satisfied: numpy<2,>=1.21.0 in /usr/local/lib/python3.9/dist-packages (from lambo==2.0.0) (1.22.4)\n",
            "Requirement already satisfied: urllib3<2,>=1.22 in /usr/local/lib/python3.9/dist-packages (from lambo==2.0.0) (1.26.15)\n",
            "Requirement already satisfied: zipp>=3.1.0 in /usr/local/lib/python3.9/dist-packages (from importlib-resources<6,>=3.3.0->lambo==2.0.0) (3.15.0)\n",
            "Requirement already satisfied: idna<4,>=2.5 in /usr/local/lib/python3.9/dist-packages (from requests<3,>=2.22.0->lambo==2.0.0) (3.4)\n",
            "Requirement already satisfied: charset-normalizer~=2.0.0 in /usr/local/lib/python3.9/dist-packages (from requests<3,>=2.22.0->lambo==2.0.0) (2.0.12)\n",
            "Requirement already satisfied: certifi>=2017.4.17 in /usr/local/lib/python3.9/dist-packages (from requests<3,>=2.22.0->lambo==2.0.0) (2022.12.7)\n",
            "Collecting nvidia-cuda-runtime-cu11==11.7.99\n",
            "  Downloading nvidia_cuda_runtime_cu11-11.7.99-py3-none-manylinux1_x86_64.whl (849 kB)\n",
            "\u001b[2K     \u001b[90m━━━━━━━━━━━━━━━━━━━━━━━━━━━━━━━━━━━━━━\u001b[0m \u001b[32m849.3/849.3 kB\u001b[0m \u001b[31m53.1 MB/s\u001b[0m eta \u001b[36m0:00:00\u001b[0m\n",
            "\u001b[?25hCollecting nvidia-cudnn-cu11==8.5.0.96\n",
            "  Downloading nvidia_cudnn_cu11-8.5.0.96-2-py3-none-manylinux1_x86_64.whl (557.1 MB)\n",
            "\u001b[2K     \u001b[90m━━━━━━━━━━━━━━━━━━━━━━━━━━━━━━━━━━━━━━━\u001b[0m \u001b[32m557.1/557.1 MB\u001b[0m \u001b[31m3.0 MB/s\u001b[0m eta \u001b[36m0:00:00\u001b[0m\n",
            "\u001b[?25h\u001b[33mWARNING: Retrying (Retry(total=4, connect=None, read=None, redirect=None, status=None)) after connection broken by 'ProtocolError('Connection aborted.', ConnectionResetError(104, 'Connection reset by peer'))': /simple/nvidia-cublas-cu11/\u001b[0m\u001b[33m\n",
            "\u001b[0mCollecting nvidia-cublas-cu11==11.10.3.66\n",
            "  Downloading nvidia_cublas_cu11-11.10.3.66-py3-none-manylinux1_x86_64.whl (317.1 MB)\n",
            "\u001b[2K     \u001b[90m━━━━━━━━━━━━━━━━━━━━━━━━━━━━━━━━━━━━━━━\u001b[0m \u001b[32m317.1/317.1 MB\u001b[0m \u001b[31m4.2 MB/s\u001b[0m eta \u001b[36m0:00:00\u001b[0m\n",
            "\u001b[?25hRequirement already satisfied: typing-extensions in /usr/local/lib/python3.9/dist-packages (from torch<2,>=1.7.1->lambo==2.0.0) (4.5.0)\n",
            "Collecting nvidia-cuda-nvrtc-cu11==11.7.99\n",
            "  Downloading nvidia_cuda_nvrtc_cu11-11.7.99-2-py3-none-manylinux1_x86_64.whl (21.0 MB)\n",
            "\u001b[2K     \u001b[90m━━━━━━━━━━━━━━━━━━━━━━━━━━━━━━━━━━━━━━━━\u001b[0m \u001b[32m21.0/21.0 MB\u001b[0m \u001b[31m67.7 MB/s\u001b[0m eta \u001b[36m0:00:00\u001b[0m\n",
            "\u001b[?25hRequirement already satisfied: wheel in /usr/local/lib/python3.9/dist-packages (from nvidia-cublas-cu11==11.10.3.66->torch<2,>=1.7.1->lambo==2.0.0) (0.40.0)\n",
            "Requirement already satisfied: setuptools in /usr/local/lib/python3.9/dist-packages (from nvidia-cublas-cu11==11.10.3.66->torch<2,>=1.7.1->lambo==2.0.0) (67.7.2)\n",
            "Building wheels for collected packages: lambo\n",
            "  Building wheel for lambo (pyproject.toml) ... \u001b[?25l\u001b[?25hdone\n",
            "  Created wheel for lambo: filename=lambo-2.0.0-py3-none-any.whl size=92245 sha256=11d9245d5ebfa4aa50f4ec7998d2056e5e61b695e574ef5ad3a8b3971c26ab9c\n",
            "  Stored in directory: /tmp/pip-ephem-wheel-cache-u2vd4opp/wheels/ac/92/6b/f2cace5a20755c228498e4d395310dc1d2cc1968d96101b245\n",
            "Successfully built lambo\n",
            "Installing collected packages: nvidia-cuda-runtime-cu11, nvidia-cuda-nvrtc-cu11, nvidia-cublas-cu11, nvidia-cudnn-cu11, torch, lambo\n",
            "  Attempting uninstall: torch\n",
            "    Found existing installation: torch 2.0.0+cu118\n",
            "    Uninstalling torch-2.0.0+cu118:\n",
            "      Successfully uninstalled torch-2.0.0+cu118\n",
            "\u001b[31mERROR: pip's dependency resolver does not currently take into account all the packages that are installed. This behaviour is the source of the following dependency conflicts.\n",
            "torchvision 0.15.1+cu118 requires torch==2.0.0, but you have torch 1.13.1 which is incompatible.\n",
            "torchtext 0.15.1 requires torch==2.0.0, but you have torch 1.13.1 which is incompatible.\n",
            "torchdata 0.6.0 requires torch==2.0.0, but you have torch 1.13.1 which is incompatible.\n",
            "torchaudio 2.0.1+cu118 requires torch==2.0.0, but you have torch 1.13.1 which is incompatible.\u001b[0m\u001b[31m\n",
            "\u001b[0mSuccessfully installed lambo-2.0.0 nvidia-cublas-cu11-11.10.3.66 nvidia-cuda-nvrtc-cu11-11.7.99 nvidia-cuda-runtime-cu11-11.7.99 nvidia-cudnn-cu11-8.5.0.96 torch-1.13.1\n"
          ]
        }
      ],
      "source": [
        "# Instalacja LAMBO\n",
        "! git clone https://gitlab.clarin-pl.eu/syntactic-tools/lambo.git --depth 1\n",
        "! pip install ./lambo"
      ]
    },
    {
      "cell_type": "code",
      "source": [
        "# Instalacja COMBO (uwaga, instalacja trwa dość długo)\n",
        "! git clone https://gitlab.clarin-pl.eu/syntactic-tools/combo --depth 1"
      ],
      "metadata": {
        "colab": {
          "base_uri": "https://localhost:8080/"
        },
        "id": "pfrzbeFMLzRN",
        "outputId": "4ee7f442-1bef-4f84-d130-d929cfb4bf38"
      },
      "execution_count": 6,
      "outputs": [
        {
          "output_type": "stream",
          "name": "stdout",
          "text": [
            "Cloning into 'combo'...\n",
            "warning: redirecting to https://gitlab.clarin-pl.eu/syntactic-tools/combo.git/\n",
            "remote: Enumerating objects: 91, done.\u001b[K\n",
            "remote: Counting objects: 100% (91/91), done.\u001b[K\n",
            "remote: Compressing objects: 100% (87/87), done.\u001b[K\n",
            "remote: Total 91 (delta 3), reused 56 (delta 0), pack-reused 0\u001b[K\n",
            "Unpacking objects: 100% (91/91), 42.31 MiB | 2.80 MiB/s, done.\n"
          ]
        }
      ]
    },
    {
      "cell_type": "code",
      "source": [
        "! pip install -U pip setuptools wheel"
      ],
      "metadata": {
        "colab": {
          "base_uri": "https://localhost:8080/"
        },
        "id": "cntpkhUZMDhV",
        "outputId": "7381c967-3cbb-4f1d-b77b-2d7ae79a105a"
      },
      "execution_count": 7,
      "outputs": [
        {
          "output_type": "stream",
          "name": "stdout",
          "text": [
            "Looking in indexes: https://pypi.org/simple, https://us-python.pkg.dev/colab-wheels/public/simple/\n",
            "Requirement already satisfied: pip in /usr/local/lib/python3.9/dist-packages (23.0.1)\n",
            "Collecting pip\n",
            "  Downloading pip-23.1.2-py3-none-any.whl (2.1 MB)\n",
            "\u001b[2K     \u001b[90m━━━━━━━━━━━━━━━━━━━━━━━━━━━━━━━━━━━━━━━━\u001b[0m \u001b[32m2.1/2.1 MB\u001b[0m \u001b[31m28.4 MB/s\u001b[0m eta \u001b[36m0:00:00\u001b[0m\n",
            "\u001b[?25hRequirement already satisfied: setuptools in /usr/local/lib/python3.9/dist-packages (67.7.2)\n",
            "Requirement already satisfied: wheel in /usr/local/lib/python3.9/dist-packages (0.40.0)\n",
            "Installing collected packages: pip\n",
            "  Attempting uninstall: pip\n",
            "    Found existing installation: pip 23.0.1\n",
            "    Uninstalling pip-23.0.1:\n",
            "      Successfully uninstalled pip-23.0.1\n",
            "Successfully installed pip-23.1.2\n"
          ]
        }
      ]
    },
    {
      "cell_type": "code",
      "source": [
        "# Instalacja COMBO trwa kilkanaście minut na google colab\n",
        "%cd combo\n",
        "! pip install -e ."
      ],
      "metadata": {
        "colab": {
          "base_uri": "https://localhost:8080/"
        },
        "id": "OC8DuxlMMAqW",
        "outputId": "02caa5fa-02e3-4962-9cfc-6270e505cdc3"
      },
      "execution_count": 8,
      "outputs": [
        {
          "output_type": "stream",
          "name": "stdout",
          "text": [
            "/content/combo\n",
            "Looking in indexes: https://pypi.org/simple, https://us-python.pkg.dev/colab-wheels/public/simple/\n",
            "Obtaining file:///content/combo\n",
            "  Preparing metadata (setup.py) ... \u001b[?25l\u001b[?25hdone\n",
            "Collecting absl-py==0.9.0 (from combo==1.0.7)\n",
            "  Downloading absl-py-0.9.0.tar.gz (104 kB)\n",
            "\u001b[2K     \u001b[90m━━━━━━━━━━━━━━━━━━━━━━━━━━━━━━━━━━━━━━━\u001b[0m \u001b[32m104.0/104.0 kB\u001b[0m \u001b[31m4.2 MB/s\u001b[0m eta \u001b[36m0:00:00\u001b[0m\n",
            "\u001b[?25h  Preparing metadata (setup.py) ... \u001b[?25l\u001b[?25hdone\n",
            "Collecting allennlp==1.3.0 (from combo==1.0.7)\n",
            "  Downloading allennlp-1.3.0-py3-none-any.whl (506 kB)\n",
            "\u001b[2K     \u001b[90m━━━━━━━━━━━━━━━━━━━━━━━━━━━━━━━━━━━━━━\u001b[0m \u001b[32m506.9/506.9 kB\u001b[0m \u001b[31m16.1 MB/s\u001b[0m eta \u001b[36m0:00:00\u001b[0m\n",
            "\u001b[?25hCollecting conllu==2.3.2 (from combo==1.0.7)\n",
            "  Downloading conllu-2.3.2-py2.py3-none-any.whl (13 kB)\n",
            "Collecting jsonnet==0.15.0 (from combo==1.0.7)\n",
            "  Downloading jsonnet-0.15.0.tar.gz (255 kB)\n",
            "\u001b[2K     \u001b[90m━━━━━━━━━━━━━━━━━━━━━━━━━━━━━━━━━━━━━━\u001b[0m \u001b[32m255.7/255.7 kB\u001b[0m \u001b[31m25.8 MB/s\u001b[0m eta \u001b[36m0:00:00\u001b[0m\n",
            "\u001b[?25h  Preparing metadata (setup.py) ... \u001b[?25l\u001b[?25hdone\n",
            "Collecting filelock==3.0 (from combo==1.0.7)\n",
            "  Downloading filelock-3.0.0.tar.gz (5.6 kB)\n",
            "  Preparing metadata (setup.py) ... \u001b[?25l\u001b[?25hdone\n",
            "Collecting overrides==3.1.0 (from combo==1.0.7)\n",
            "  Downloading overrides-3.1.0.tar.gz (11 kB)\n",
            "  Preparing metadata (setup.py) ... \u001b[?25l\u001b[?25hdone\n",
            "Collecting requests==2.23.0 (from combo==1.0.7)\n",
            "  Downloading requests-2.23.0-py2.py3-none-any.whl (58 kB)\n",
            "\u001b[2K     \u001b[90m━━━━━━━━━━━━━━━━━━━━━━━━━━━━━━━━━━━━━━━━\u001b[0m \u001b[32m58.4/58.4 kB\u001b[0m \u001b[31m8.0 MB/s\u001b[0m eta \u001b[36m0:00:00\u001b[0m\n",
            "\u001b[?25hCollecting spacy==2.3.2 (from combo==1.0.7)\n",
            "  Using cached spacy-2.3.2.tar.gz (5.9 MB)\n",
            "  Installing build dependencies ... \u001b[?25l\u001b[?25hdone\n",
            "  Getting requirements to build wheel ... \u001b[?25l\u001b[?25hdone\n",
            "  Preparing metadata (pyproject.toml) ... \u001b[?25l\u001b[?25hdone\n",
            "Collecting scikit-learn==0.23.2 (from combo==1.0.7)\n",
            "  Using cached scikit_learn-0.23.2-cp39-cp39-linux_x86_64.whl\n",
            "Collecting torch==1.7.1 (from combo==1.0.7)\n",
            "  Downloading torch-1.7.1-cp39-cp39-manylinux1_x86_64.whl (776.8 MB)\n",
            "\u001b[2K     \u001b[90m━━━━━━━━━━━━━━━━━━━━━━━━━━━━━━━━━━━━━━━\u001b[0m \u001b[32m776.8/776.8 MB\u001b[0m \u001b[31m2.1 MB/s\u001b[0m eta \u001b[36m0:00:00\u001b[0m\n",
            "\u001b[?25hCollecting tqdm==4.43.0 (from combo==1.0.7)\n",
            "  Downloading tqdm-4.43.0-py2.py3-none-any.whl (59 kB)\n",
            "\u001b[2K     \u001b[90m━━━━━━━━━━━━━━━━━━━━━━━━━━━━━━━━━━━━━━━━\u001b[0m \u001b[32m59.1/59.1 kB\u001b[0m \u001b[31m8.3 MB/s\u001b[0m eta \u001b[36m0:00:00\u001b[0m\n",
            "\u001b[?25hCollecting transformers==4.0.1 (from combo==1.0.7)\n",
            "  Downloading transformers-4.0.1-py3-none-any.whl (1.4 MB)\n",
            "\u001b[2K     \u001b[90m━━━━━━━━━━━━━━━━━━━━━━━━━━━━━━━━━━━━━━━━\u001b[0m \u001b[32m1.4/1.4 MB\u001b[0m \u001b[31m74.5 MB/s\u001b[0m eta \u001b[36m0:00:00\u001b[0m\n",
            "\u001b[?25hCollecting urllib3==1.25.11 (from combo==1.0.7)\n",
            "  Downloading urllib3-1.25.11-py2.py3-none-any.whl (127 kB)\n",
            "\u001b[2K     \u001b[90m━━━━━━━━━━━━━━━━━━━━━━━━━━━━━━━━━━━━━━\u001b[0m \u001b[32m128.0/128.0 kB\u001b[0m \u001b[31m18.3 MB/s\u001b[0m eta \u001b[36m0:00:00\u001b[0m\n",
            "\u001b[?25hCollecting scipy==1.6.0 (from combo==1.0.7)\n",
            "  Using cached scipy-1.6.0-cp39-cp39-manylinux1_x86_64.whl (27.3 MB)\n",
            "Collecting numpy==1.22.0 (from combo==1.0.7)\n",
            "  Using cached numpy-1.22.0-cp39-cp39-manylinux_2_17_x86_64.manylinux2014_x86_64.whl (16.8 MB)\n",
            "Collecting sentencepiece==0.1.94 (from combo==1.0.7)\n",
            "  Downloading sentencepiece-0.1.94-cp39-cp39-manylinux2014_x86_64.whl (1.1 MB)\n",
            "\u001b[2K     \u001b[90m━━━━━━━━━━━━━━━━━━━━━━━━━━━━━━━━━━━━━━━━\u001b[0m \u001b[32m1.1/1.1 MB\u001b[0m \u001b[31m69.9 MB/s\u001b[0m eta \u001b[36m0:00:00\u001b[0m\n",
            "\u001b[?25hRequirement already satisfied: six in /usr/local/lib/python3.9/dist-packages (from absl-py==0.9.0->combo==1.0.7) (1.16.0)\n",
            "Requirement already satisfied: nltk in /usr/local/lib/python3.9/dist-packages (from allennlp==1.3.0->combo==1.0.7) (3.8.1)\n",
            "Collecting tensorboardX>=1.2 (from allennlp==1.3.0->combo==1.0.7)\n",
            "  Downloading tensorboardX-2.6-py2.py3-none-any.whl (114 kB)\n",
            "\u001b[2K     \u001b[90m━━━━━━━━━━━━━━━━━━━━━━━━━━━━━━━━━━━━━━\u001b[0m \u001b[32m114.5/114.5 kB\u001b[0m \u001b[31m13.5 MB/s\u001b[0m eta \u001b[36m0:00:00\u001b[0m\n",
            "\u001b[?25hCollecting boto3<2.0,>=1.14 (from allennlp==1.3.0->combo==1.0.7)\n",
            "  Downloading boto3-1.26.131-py3-none-any.whl (135 kB)\n",
            "\u001b[2K     \u001b[90m━━━━━━━━━━━━━━━━━━━━━━━━━━━━━━━━━━━━━━\u001b[0m \u001b[32m135.6/135.6 kB\u001b[0m \u001b[31m17.3 MB/s\u001b[0m eta \u001b[36m0:00:00\u001b[0m\n",
            "\u001b[?25hRequirement already satisfied: h5py in /usr/local/lib/python3.9/dist-packages (from allennlp==1.3.0->combo==1.0.7) (3.8.0)\n",
            "Requirement already satisfied: pytest in /usr/local/lib/python3.9/dist-packages (from allennlp==1.3.0->combo==1.0.7) (7.2.2)\n",
            "Requirement already satisfied: jsonpickle in /usr/local/lib/python3.9/dist-packages (from allennlp==1.3.0->combo==1.0.7) (3.0.1)\n",
            "Collecting chardet<4,>=3.0.2 (from requests==2.23.0->combo==1.0.7)\n",
            "  Downloading chardet-3.0.4-py2.py3-none-any.whl (133 kB)\n",
            "\u001b[2K     \u001b[90m━━━━━━━━━━━━━━━━━━━━━━━━━━━━━━━━━━━━━━\u001b[0m \u001b[32m133.4/133.4 kB\u001b[0m \u001b[31m14.8 MB/s\u001b[0m eta \u001b[36m0:00:00\u001b[0m\n",
            "\u001b[?25hCollecting idna<3,>=2.5 (from requests==2.23.0->combo==1.0.7)\n",
            "  Downloading idna-2.10-py2.py3-none-any.whl (58 kB)\n",
            "\u001b[2K     \u001b[90m━━━━━━━━━━━━━━━━━━━━━━━━━━━━━━━━━━━━━━━━\u001b[0m \u001b[32m58.8/58.8 kB\u001b[0m \u001b[31m7.6 MB/s\u001b[0m eta \u001b[36m0:00:00\u001b[0m\n",
            "\u001b[?25hRequirement already satisfied: certifi>=2017.4.17 in /usr/local/lib/python3.9/dist-packages (from requests==2.23.0->combo==1.0.7) (2022.12.7)\n",
            "Requirement already satisfied: joblib>=0.11 in /usr/local/lib/python3.9/dist-packages (from scikit-learn==0.23.2->combo==1.0.7) (1.2.0)\n",
            "Requirement already satisfied: threadpoolctl>=2.0.0 in /usr/local/lib/python3.9/dist-packages (from scikit-learn==0.23.2->combo==1.0.7) (3.1.0)\n",
            "Requirement already satisfied: murmurhash<1.1.0,>=0.28.0 in /usr/local/lib/python3.9/dist-packages (from spacy==2.3.2->combo==1.0.7) (1.0.9)\n",
            "Requirement already satisfied: cymem<2.1.0,>=2.0.2 in /usr/local/lib/python3.9/dist-packages (from spacy==2.3.2->combo==1.0.7) (2.0.7)\n",
            "Requirement already satisfied: preshed<3.1.0,>=3.0.2 in /usr/local/lib/python3.9/dist-packages (from spacy==2.3.2->combo==1.0.7) (3.0.8)\n",
            "Collecting thinc==7.4.1 (from spacy==2.3.2->combo==1.0.7)\n",
            "  Using cached thinc-7.4.1-cp39-cp39-linux_x86_64.whl\n",
            "Collecting blis<0.5.0,>=0.4.0 (from spacy==2.3.2->combo==1.0.7)\n",
            "  Using cached blis-0.4.1-cp39-cp39-linux_x86_64.whl\n",
            "Collecting wasabi<1.1.0,>=0.4.0 (from spacy==2.3.2->combo==1.0.7)\n",
            "  Using cached wasabi-0.10.1-py3-none-any.whl (26 kB)\n",
            "Collecting srsly<1.1.0,>=1.0.2 (from spacy==2.3.2->combo==1.0.7)\n",
            "  Using cached srsly-1.0.6-cp39-cp39-manylinux_2_17_x86_64.manylinux2014_x86_64.whl (209 kB)\n",
            "Collecting catalogue<1.1.0,>=0.0.7 (from spacy==2.3.2->combo==1.0.7)\n",
            "  Using cached catalogue-1.0.2-py2.py3-none-any.whl (16 kB)\n",
            "Requirement already satisfied: setuptools in /usr/local/lib/python3.9/dist-packages (from spacy==2.3.2->combo==1.0.7) (67.7.2)\n",
            "Collecting plac<1.2.0,>=0.9.6 (from spacy==2.3.2->combo==1.0.7)\n",
            "  Using cached plac-1.1.3-py2.py3-none-any.whl (20 kB)\n",
            "Requirement already satisfied: typing-extensions in /usr/local/lib/python3.9/dist-packages (from torch==1.7.1->combo==1.0.7) (4.5.0)\n",
            "Collecting tokenizers==0.9.4 (from transformers==4.0.1->combo==1.0.7)\n",
            "  Downloading tokenizers-0.9.4-cp39-cp39-manylinux2010_x86_64.whl (2.9 MB)\n",
            "\u001b[2K     \u001b[90m━━━━━━━━━━━━━━━━━━━━━━━━━━━━━━━━━━━━━━━━\u001b[0m \u001b[32m2.9/2.9 MB\u001b[0m \u001b[31m70.0 MB/s\u001b[0m eta \u001b[36m0:00:00\u001b[0m\n",
            "\u001b[?25hRequirement already satisfied: packaging in /usr/local/lib/python3.9/dist-packages (from transformers==4.0.1->combo==1.0.7) (23.1)\n",
            "Requirement already satisfied: regex!=2019.12.17 in /usr/local/lib/python3.9/dist-packages (from transformers==4.0.1->combo==1.0.7) (2022.10.31)\n",
            "Collecting sacremoses (from transformers==4.0.1->combo==1.0.7)\n",
            "  Downloading sacremoses-0.0.53.tar.gz (880 kB)\n",
            "\u001b[2K     \u001b[90m━━━━━━━━━━━━━━━━━━━━━━━━━━━━━━━━━━━━━━\u001b[0m \u001b[32m880.6/880.6 kB\u001b[0m \u001b[31m48.2 MB/s\u001b[0m eta \u001b[36m0:00:00\u001b[0m\n",
            "\u001b[?25h  Preparing metadata (setup.py) ... \u001b[?25l\u001b[?25hdone\n",
            "Collecting botocore<1.30.0,>=1.29.131 (from boto3<2.0,>=1.14->allennlp==1.3.0->combo==1.0.7)\n",
            "  Downloading botocore-1.29.131-py3-none-any.whl (10.7 MB)\n",
            "\u001b[2K     \u001b[90m━━━━━━━━━━━━━━━━━━━━━━━━━━━━━━━━━━━━━━━━\u001b[0m \u001b[32m10.7/10.7 MB\u001b[0m \u001b[31m63.5 MB/s\u001b[0m eta \u001b[36m0:00:00\u001b[0m\n",
            "\u001b[?25hCollecting jmespath<2.0.0,>=0.7.1 (from boto3<2.0,>=1.14->allennlp==1.3.0->combo==1.0.7)\n",
            "  Downloading jmespath-1.0.1-py3-none-any.whl (20 kB)\n",
            "Collecting s3transfer<0.7.0,>=0.6.0 (from boto3<2.0,>=1.14->allennlp==1.3.0->combo==1.0.7)\n",
            "  Downloading s3transfer-0.6.1-py3-none-any.whl (79 kB)\n",
            "\u001b[2K     \u001b[90m━━━━━━━━━━━━━━━━━━━━━━━━━━━━━━━━━━━━━━━━\u001b[0m \u001b[32m79.8/79.8 kB\u001b[0m \u001b[31m9.1 MB/s\u001b[0m eta \u001b[36m0:00:00\u001b[0m\n",
            "\u001b[?25hRequirement already satisfied: protobuf<4,>=3.8.0 in /usr/local/lib/python3.9/dist-packages (from tensorboardX>=1.2->allennlp==1.3.0->combo==1.0.7) (3.20.3)\n",
            "Requirement already satisfied: click in /usr/local/lib/python3.9/dist-packages (from nltk->allennlp==1.3.0->combo==1.0.7) (8.1.3)\n",
            "Requirement already satisfied: attrs>=19.2.0 in /usr/local/lib/python3.9/dist-packages (from pytest->allennlp==1.3.0->combo==1.0.7) (23.1.0)\n",
            "Requirement already satisfied: iniconfig in /usr/local/lib/python3.9/dist-packages (from pytest->allennlp==1.3.0->combo==1.0.7) (2.0.0)\n",
            "Requirement already satisfied: pluggy<2.0,>=0.12 in /usr/local/lib/python3.9/dist-packages (from pytest->allennlp==1.3.0->combo==1.0.7) (1.0.0)\n",
            "Requirement already satisfied: exceptiongroup>=1.0.0rc8 in /usr/local/lib/python3.9/dist-packages (from pytest->allennlp==1.3.0->combo==1.0.7) (1.1.1)\n",
            "Requirement already satisfied: tomli>=1.0.0 in /usr/local/lib/python3.9/dist-packages (from pytest->allennlp==1.3.0->combo==1.0.7) (2.0.1)\n",
            "Requirement already satisfied: python-dateutil<3.0.0,>=2.1 in /usr/local/lib/python3.9/dist-packages (from botocore<1.30.0,>=1.29.131->boto3<2.0,>=1.14->allennlp==1.3.0->combo==1.0.7) (2.8.2)\n",
            "Building wheels for collected packages: absl-py, filelock, jsonnet, overrides, spacy, sacremoses\n",
            "  Building wheel for absl-py (setup.py) ... \u001b[?25l\u001b[?25hdone\n",
            "  Created wheel for absl-py: filename=absl_py-0.9.0-py3-none-any.whl size=121941 sha256=eebd625ad0ad40104149860aaec31cdc4a446d7521093c7832afc0354cabc0cf\n",
            "  Stored in directory: /root/.cache/pip/wheels/0f/72/a6/ee9c8f185cf1034db6445b15155558b2e755d8a6856aed6062\n",
            "  Building wheel for filelock (setup.py) ... \u001b[?25l\u001b[?25hdone\n",
            "  Created wheel for filelock: filename=filelock-3.0.0-py3-none-any.whl size=7357 sha256=029ba749132e4318633ea22203bce91992a62e8fe4662852068a785c8d7c1a6e\n",
            "  Stored in directory: /root/.cache/pip/wheels/6d/78/94/302abd52f56c0cab9c9796818e0fc7296a426f2af45effc155\n",
            "  Building wheel for jsonnet (setup.py) ... \u001b[?25l\u001b[?25hdone\n",
            "  Created wheel for jsonnet: filename=jsonnet-0.15.0-cp39-cp39-linux_x86_64.whl size=5432505 sha256=962fb3162daf2beb286d5837a3e94708966b255b6d5fe9894daf48bd7cea4ef9\n",
            "  Stored in directory: /root/.cache/pip/wheels/0d/7f/b7/cfd1b5c1bd6bdfd77f24509c14dd7d0f9848ad1598dc3810b2\n",
            "  Building wheel for overrides (setup.py) ... \u001b[?25l\u001b[?25hdone\n",
            "  Created wheel for overrides: filename=overrides-3.1.0-py3-none-any.whl size=10189 sha256=30171877c2a4410b745e7e2ea850c61c5c753f23fe3a04b1f8f2fd7693bf8003\n",
            "  Stored in directory: /root/.cache/pip/wheels/7d/11/0e/73fdcb3d71d97e33c230900efe85923ee9d49515d050503174\n",
            "  Building wheel for spacy (pyproject.toml) ... \u001b[?25l\u001b[?25hdone\n",
            "  Created wheel for spacy: filename=spacy-2.3.2-cp39-cp39-linux_x86_64.whl size=28800953 sha256=89719845efd19193b287a96d064be45bfe4dca4569a448e7672e262303d46d9d\n",
            "  Stored in directory: /root/.cache/pip/wheels/de/e4/3c/6285ea2c318e7dbce4c7fc834228e8e655b51d592e298f4c6e\n",
            "  Building wheel for sacremoses (setup.py) ... \u001b[?25l\u001b[?25hdone\n",
            "  Created wheel for sacremoses: filename=sacremoses-0.0.53-py3-none-any.whl size=895259 sha256=f3e88b776f6248c672b2b3023e9beae5a93860ed8ee9e890c87421e29805b787\n",
            "  Stored in directory: /root/.cache/pip/wheels/12/1c/3d/46cf06718d63a32ff798a89594b61e7f345ab6b36d909ce033\n",
            "Successfully built absl-py filelock jsonnet overrides spacy sacremoses\n",
            "Installing collected packages: wasabi, tokenizers, sentencepiece, plac, overrides, jsonnet, filelock, conllu, chardet, urllib3, tqdm, srsly, numpy, jmespath, idna, catalogue, absl-py, torch, tensorboardX, scipy, sacremoses, requests, botocore, blis, transformers, thinc, scikit-learn, s3transfer, spacy, boto3, allennlp, combo\n",
            "  Attempting uninstall: wasabi\n",
            "    Found existing installation: wasabi 1.1.1\n",
            "    Uninstalling wasabi-1.1.1:\n",
            "      Successfully uninstalled wasabi-1.1.1\n",
            "  Attempting uninstall: filelock\n",
            "    Found existing installation: filelock 3.11.0\n",
            "    Uninstalling filelock-3.11.0:\n",
            "      Successfully uninstalled filelock-3.11.0\n",
            "  Attempting uninstall: chardet\n",
            "    Found existing installation: chardet 4.0.0\n",
            "    Uninstalling chardet-4.0.0:\n",
            "      Successfully uninstalled chardet-4.0.0\n",
            "  Attempting uninstall: urllib3\n",
            "    Found existing installation: urllib3 1.26.15\n",
            "    Uninstalling urllib3-1.26.15:\n",
            "      Successfully uninstalled urllib3-1.26.15\n",
            "  Attempting uninstall: tqdm\n",
            "    Found existing installation: tqdm 4.65.0\n",
            "    Uninstalling tqdm-4.65.0:\n",
            "      Successfully uninstalled tqdm-4.65.0\n",
            "  Attempting uninstall: srsly\n",
            "    Found existing installation: srsly 2.4.6\n",
            "    Uninstalling srsly-2.4.6:\n",
            "      Successfully uninstalled srsly-2.4.6\n",
            "  Attempting uninstall: numpy\n",
            "    Found existing installation: numpy 1.22.4\n",
            "    Uninstalling numpy-1.22.4:\n",
            "      Successfully uninstalled numpy-1.22.4\n",
            "  Attempting uninstall: idna\n",
            "    Found existing installation: idna 3.4\n",
            "    Uninstalling idna-3.4:\n",
            "      Successfully uninstalled idna-3.4\n",
            "  Attempting uninstall: catalogue\n",
            "    Found existing installation: catalogue 2.0.8\n",
            "    Uninstalling catalogue-2.0.8:\n",
            "      Successfully uninstalled catalogue-2.0.8\n",
            "  Attempting uninstall: absl-py\n",
            "    Found existing installation: absl-py 1.4.0\n",
            "    Uninstalling absl-py-1.4.0:\n",
            "      Successfully uninstalled absl-py-1.4.0\n",
            "  Attempting uninstall: torch\n",
            "    Found existing installation: torch 1.13.1\n",
            "    Uninstalling torch-1.13.1:\n",
            "      Successfully uninstalled torch-1.13.1\n",
            "  Attempting uninstall: scipy\n",
            "    Found existing installation: scipy 1.10.1\n",
            "    Uninstalling scipy-1.10.1:\n",
            "      Successfully uninstalled scipy-1.10.1\n",
            "  Attempting uninstall: requests\n",
            "    Found existing installation: requests 2.27.1\n",
            "    Uninstalling requests-2.27.1:\n",
            "      Successfully uninstalled requests-2.27.1\n",
            "  Attempting uninstall: blis\n",
            "    Found existing installation: blis 0.7.9\n",
            "    Uninstalling blis-0.7.9:\n",
            "      Successfully uninstalled blis-0.7.9\n",
            "  Attempting uninstall: thinc\n",
            "    Found existing installation: thinc 8.1.9\n",
            "    Uninstalling thinc-8.1.9:\n",
            "      Successfully uninstalled thinc-8.1.9\n",
            "  Attempting uninstall: scikit-learn\n",
            "    Found existing installation: scikit-learn 1.2.2\n",
            "    Uninstalling scikit-learn-1.2.2:\n",
            "      Successfully uninstalled scikit-learn-1.2.2\n",
            "  Attempting uninstall: spacy\n",
            "    Found existing installation: spacy 3.5.2\n",
            "    Uninstalling spacy-3.5.2:\n",
            "      Successfully uninstalled spacy-3.5.2\n",
            "  Running setup.py develop for combo\n",
            "\u001b[31mERROR: pip's dependency resolver does not currently take into account all the packages that are installed. This behaviour is the source of the following dependency conflicts.\n",
            "arviz 0.15.1 requires scipy>=1.8.0, but you have scipy 1.6.0 which is incompatible.\n",
            "confection 0.0.4 requires srsly<3.0.0,>=2.4.0, but you have srsly 1.0.6 which is incompatible.\n",
            "en-core-web-sm 3.5.0 requires spacy<3.6.0,>=3.5.0, but you have spacy 2.3.2 which is incompatible.\n",
            "gensim 4.3.1 requires scipy>=1.7.0, but you have scipy 1.6.0 which is incompatible.\n",
            "google-colab 1.0.0 requires requests>=2.27.0, but you have requests 2.23.0 which is incompatible.\n",
            "imbalanced-learn 0.10.1 requires scikit-learn>=1.0.2, but you have scikit-learn 0.23.2 which is incompatible.\n",
            "jax 0.4.8 requires scipy>=1.7, but you have scipy 1.6.0 which is incompatible.\n",
            "jaxlib 0.4.7+cuda11.cudnn86 requires scipy>=1.7, but you have scipy 1.6.0 which is incompatible.\n",
            "librosa 0.10.0.post2 requires numpy!=1.22.0,!=1.22.1,!=1.22.2,>=1.20.3, but you have numpy 1.22.0 which is incompatible.\n",
            "panel 0.14.4 requires tqdm>=4.48.0, but you have tqdm 4.43.0 which is incompatible.\n",
            "tensorflow 2.12.0 requires absl-py>=1.0.0, but you have absl-py 0.9.0 which is incompatible.\n",
            "torchaudio 2.0.1+cu118 requires torch==2.0.0, but you have torch 1.7.1 which is incompatible.\n",
            "torchdata 0.6.0 requires torch==2.0.0, but you have torch 1.7.1 which is incompatible.\n",
            "torchtext 0.15.1 requires torch==2.0.0, but you have torch 1.7.1 which is incompatible.\n",
            "torchvision 0.15.1+cu118 requires torch==2.0.0, but you have torch 1.7.1 which is incompatible.\n",
            "tweepy 4.13.0 requires requests<3,>=2.27.0, but you have requests 2.23.0 which is incompatible.\n",
            "yellowbrick 1.5 requires scikit-learn>=1.0.0, but you have scikit-learn 0.23.2 which is incompatible.\n",
            "yfinance 0.2.18 requires requests>=2.26, but you have requests 2.23.0 which is incompatible.\u001b[0m\u001b[31m\n",
            "\u001b[0mSuccessfully installed absl-py-0.9.0 allennlp-1.3.0 blis-0.4.1 boto3-1.26.131 botocore-1.29.131 catalogue-1.0.2 chardet-3.0.4 combo-1.0.7 conllu-2.3.2 filelock-3.0.0 idna-2.10 jmespath-1.0.1 jsonnet-0.15.0 numpy-1.22.0 overrides-3.1.0 plac-1.1.3 requests-2.23.0 s3transfer-0.6.1 sacremoses-0.0.53 scikit-learn-0.23.2 scipy-1.6.0 sentencepiece-0.1.94 spacy-2.3.2 srsly-1.0.6 tensorboardX-2.6 thinc-7.4.1 tokenizers-0.9.4 torch-1.7.1 tqdm-4.43.0 transformers-4.0.1 urllib3-1.25.11 wasabi-0.10.1\n",
            "\u001b[33mWARNING: Running pip as the 'root' user can result in broken permissions and conflicting behaviour with the system package manager. It is recommended to use a virtual environment instead: https://pip.pypa.io/warnings/venv\u001b[0m\u001b[33m\n",
            "\u001b[0m"
          ]
        }
      ]
    },
    {
      "cell_type": "code",
      "source": [
        "!python -m spacy download en_core_web_sm-2.3.1 --direct"
      ],
      "metadata": {
        "colab": {
          "base_uri": "https://localhost:8080/"
        },
        "id": "dnUP-vBmMmpn",
        "outputId": "196b5a49-e2e3-4a44-b60e-e79f39ba901c"
      },
      "execution_count": 9,
      "outputs": [
        {
          "output_type": "stream",
          "name": "stdout",
          "text": [
            "\u001b[33mDEPRECATION: https://github.com/explosion/spacy-models/releases/download/en_core_web_sm-2.3.1/en_core_web_sm-2.3.1.tar.gz#egg=en_core_web_sm==2.3.1 contains an egg fragment with a non-PEP 508 name pip 25.0 will enforce this behaviour change. A possible replacement is to use the req @ url syntax, and remove the egg fragment. Discussion can be found at https://github.com/pypa/pip/issues/11617\u001b[0m\u001b[33m\n",
            "\u001b[0mLooking in indexes: https://pypi.org/simple, https://us-python.pkg.dev/colab-wheels/public/simple/\n",
            "Collecting en_core_web_sm==2.3.1\n",
            "  Downloading https://github.com/explosion/spacy-models/releases/download/en_core_web_sm-2.3.1/en_core_web_sm-2.3.1.tar.gz (12.0 MB)\n",
            "\u001b[2K     \u001b[90m━━━━━━━━━━━━━━━━━━━━━━━━━━━━━━━━━━━━━━━\u001b[0m \u001b[32m12.0/12.0 MB\u001b[0m \u001b[31m139.6 MB/s\u001b[0m eta \u001b[36m0:00:00\u001b[0m\n",
            "\u001b[?25h  Preparing metadata (setup.py) ... \u001b[?25l\u001b[?25hdone\n",
            "Requirement already satisfied: spacy<2.4.0,>=2.3.0 in /usr/local/lib/python3.9/dist-packages (from en_core_web_sm==2.3.1) (2.3.2)\n",
            "Requirement already satisfied: murmurhash<1.1.0,>=0.28.0 in /usr/local/lib/python3.9/dist-packages (from spacy<2.4.0,>=2.3.0->en_core_web_sm==2.3.1) (1.0.9)\n",
            "Requirement already satisfied: cymem<2.1.0,>=2.0.2 in /usr/local/lib/python3.9/dist-packages (from spacy<2.4.0,>=2.3.0->en_core_web_sm==2.3.1) (2.0.7)\n",
            "Requirement already satisfied: preshed<3.1.0,>=3.0.2 in /usr/local/lib/python3.9/dist-packages (from spacy<2.4.0,>=2.3.0->en_core_web_sm==2.3.1) (3.0.8)\n",
            "Requirement already satisfied: thinc==7.4.1 in /usr/local/lib/python3.9/dist-packages (from spacy<2.4.0,>=2.3.0->en_core_web_sm==2.3.1) (7.4.1)\n",
            "Requirement already satisfied: blis<0.5.0,>=0.4.0 in /usr/local/lib/python3.9/dist-packages (from spacy<2.4.0,>=2.3.0->en_core_web_sm==2.3.1) (0.4.1)\n",
            "Requirement already satisfied: wasabi<1.1.0,>=0.4.0 in /usr/local/lib/python3.9/dist-packages (from spacy<2.4.0,>=2.3.0->en_core_web_sm==2.3.1) (0.10.1)\n",
            "Requirement already satisfied: srsly<1.1.0,>=1.0.2 in /usr/local/lib/python3.9/dist-packages (from spacy<2.4.0,>=2.3.0->en_core_web_sm==2.3.1) (1.0.6)\n",
            "Requirement already satisfied: catalogue<1.1.0,>=0.0.7 in /usr/local/lib/python3.9/dist-packages (from spacy<2.4.0,>=2.3.0->en_core_web_sm==2.3.1) (1.0.2)\n",
            "Requirement already satisfied: tqdm<5.0.0,>=4.38.0 in /usr/local/lib/python3.9/dist-packages (from spacy<2.4.0,>=2.3.0->en_core_web_sm==2.3.1) (4.43.0)\n",
            "Requirement already satisfied: setuptools in /usr/local/lib/python3.9/dist-packages (from spacy<2.4.0,>=2.3.0->en_core_web_sm==2.3.1) (67.7.2)\n",
            "Requirement already satisfied: numpy>=1.15.0 in /usr/local/lib/python3.9/dist-packages (from spacy<2.4.0,>=2.3.0->en_core_web_sm==2.3.1) (1.22.0)\n",
            "Requirement already satisfied: plac<1.2.0,>=0.9.6 in /usr/local/lib/python3.9/dist-packages (from spacy<2.4.0,>=2.3.0->en_core_web_sm==2.3.1) (1.1.3)\n",
            "Requirement already satisfied: requests<3.0.0,>=2.13.0 in /usr/local/lib/python3.9/dist-packages (from spacy<2.4.0,>=2.3.0->en_core_web_sm==2.3.1) (2.23.0)\n",
            "Requirement already satisfied: chardet<4,>=3.0.2 in /usr/local/lib/python3.9/dist-packages (from requests<3.0.0,>=2.13.0->spacy<2.4.0,>=2.3.0->en_core_web_sm==2.3.1) (3.0.4)\n",
            "Requirement already satisfied: idna<3,>=2.5 in /usr/local/lib/python3.9/dist-packages (from requests<3.0.0,>=2.13.0->spacy<2.4.0,>=2.3.0->en_core_web_sm==2.3.1) (2.10)\n",
            "Requirement already satisfied: urllib3!=1.25.0,!=1.25.1,<1.26,>=1.21.1 in /usr/local/lib/python3.9/dist-packages (from requests<3.0.0,>=2.13.0->spacy<2.4.0,>=2.3.0->en_core_web_sm==2.3.1) (1.25.11)\n",
            "Requirement already satisfied: certifi>=2017.4.17 in /usr/local/lib/python3.9/dist-packages (from requests<3.0.0,>=2.13.0->spacy<2.4.0,>=2.3.0->en_core_web_sm==2.3.1) (2022.12.7)\n",
            "Building wheels for collected packages: en_core_web_sm\n",
            "  Building wheel for en_core_web_sm (setup.py) ... \u001b[?25l\u001b[?25hdone\n",
            "  Created wheel for en_core_web_sm: filename=en_core_web_sm-2.3.1-py3-none-any.whl size=12047102 sha256=36e6e3a12d4d2a826478fc44ad58e9ea80fb87bc7cae10a42d8a8d5863e64616\n",
            "  Stored in directory: /tmp/pip-ephem-wheel-cache-ek7c_93q/wheels/19/d6/1c/5484b95647df5d7afaf74abde458c66c1cd427e69e801fe826\n",
            "Successfully built en_core_web_sm\n",
            "Installing collected packages: en_core_web_sm\n",
            "  Attempting uninstall: en_core_web_sm\n",
            "    Found existing installation: en-core-web-sm 3.5.0\n",
            "    Uninstalling en-core-web-sm-3.5.0:\n",
            "      Successfully uninstalled en-core-web-sm-3.5.0\n",
            "Successfully installed en_core_web_sm-2.3.1\n",
            "\u001b[33mWARNING: Running pip as the 'root' user can result in broken permissions and conflicting behaviour with the system package manager. It is recommended to use a virtual environment instead: https://pip.pypa.io/warnings/venv\u001b[0m\u001b[33m\n",
            "\u001b[0m"
          ]
        }
      ]
    },
    {
      "cell_type": "markdown",
      "metadata": {
        "id": "Y7wiVgajzD79"
      },
      "source": [
        "## Uruchamianie COMBO"
      ]
    },
    {
      "cell_type": "code",
      "execution_count": 10,
      "metadata": {
        "id": "s2XZUJJ24IWy"
      },
      "outputs": [],
      "source": [
        "# UPDATE Import pakietu COMBO\n",
        "from combo.predict import COMBO"
      ]
    },
    {
      "cell_type": "markdown",
      "source": [
        "### COMBO z wstępnie posegmentowanym tekstem"
      ],
      "metadata": {
        "id": "YnPwUrJlNXo5"
      }
    },
    {
      "cell_type": "code",
      "source": [
        "# Należy podać nazwę wybranego modelu.\n",
        "# Jeśli nie ma GPU, to cuda_device=-1\n",
        "# Model polish-herbert-base-ud29 jest wspomagany kontekstowymi zanurzeniami typu BERT\n",
        "combo = COMBO.from_pretrained(\"polish-herbert-base-ud29\", cuda_device=0)"
      ],
      "metadata": {
        "colab": {
          "base_uri": "https://localhost:8080/",
          "height": 234,
          "referenced_widgets": [
            "3baf786bf28d4781bd4ef3ba8f5786f5",
            "632f988dd63e49b29d253113b92391ac",
            "917a55965b1246e49d12c915cf99f99c",
            "e2177639204c4423a0d4dbd33a261e26",
            "4a0992679a2745afb697a5768f7131e1",
            "1d01c4102f3e4f85b4442bad37add20b",
            "198f92887b714dcfbe127947d11c1b29",
            "e4f0c3f2296143eea66f52505adb9354",
            "8c708b74991b4810b0be34e1043ea16a",
            "65fde635590b46bfa55515df676e649c",
            "ac32e04dba7441c3acf0e71ca94ebe66",
            "d6d1af2ecbae450e8f5639601990051c",
            "c707232a89754354b180fd9a5e6da2ad",
            "cdf80aec696c490eb2b9a127ce569119",
            "67dc67d24da84b8f94c904cc23688caa",
            "e928546cd9fe4c1185ecc09cd14efabe",
            "fb3d080eba904d75a57c4a1ab15b062c",
            "8f5ae7fbf33a4909814da7c5a48004cb",
            "d3cb3c191a004d66be020ee2a5126bfd",
            "5674847081b94a9c885c2169519bdc39",
            "e051a800405c46ac8f658de32ef223df",
            "616b1b250b194cc6b1422cef276192a0",
            "6cbe046567664322a24c6f9ae5e0f3f3",
            "97910a3d280644a3b7085f472360d2ba",
            "655f6420af30487fbc190abbb0c67692",
            "5c033c3b6d19472cb559e9646641d9a1",
            "749707387735434493acdc2cbdf74bbb",
            "45a837b4f0b3444fa9b5746c4350d232",
            "64ad810e7e5a45bc86cd99bcc40e4234",
            "7ebdf4e0727d429f8802d1154516c034",
            "ca4cfe8aef904fea859ac3812e5f6b1b",
            "fc1d3c3bd0874a19b1dd06edb5254fdf"
          ]
        },
        "id": "_foVlcr1Mzbs",
        "outputId": "85072c13-bd55-4f33-d712-5482172687fa"
      },
      "execution_count": 11,
      "outputs": [
        {
          "output_type": "stream",
          "name": "stderr",
          "text": [
            "100%|██████████| 319M/319M [00:16<00:00, 20.4MB/s]\n"
          ]
        },
        {
          "output_type": "display_data",
          "data": {
            "text/plain": [
              "HBox(children=(FloatProgress(value=0.0, description='Downloading', max=472.0, style=ProgressStyle(description_…"
            ],
            "application/vnd.jupyter.widget-view+json": {
              "version_major": 2,
              "version_minor": 0,
              "model_id": "3baf786bf28d4781bd4ef3ba8f5786f5"
            }
          },
          "metadata": {}
        },
        {
          "output_type": "stream",
          "name": "stdout",
          "text": [
            "\n"
          ]
        },
        {
          "output_type": "display_data",
          "data": {
            "text/plain": [
              "HBox(children=(FloatProgress(value=0.0, description='Downloading', max=906984.0, style=ProgressStyle(descripti…"
            ],
            "application/vnd.jupyter.widget-view+json": {
              "version_major": 2,
              "version_minor": 0,
              "model_id": "8c708b74991b4810b0be34e1043ea16a"
            }
          },
          "metadata": {}
        },
        {
          "output_type": "stream",
          "name": "stdout",
          "text": [
            "\n"
          ]
        },
        {
          "output_type": "display_data",
          "data": {
            "text/plain": [
              "HBox(children=(FloatProgress(value=0.0, description='Downloading', max=555571.0, style=ProgressStyle(descripti…"
            ],
            "application/vnd.jupyter.widget-view+json": {
              "version_major": 2,
              "version_minor": 0,
              "model_id": "fb3d080eba904d75a57c4a1ab15b062c"
            }
          },
          "metadata": {}
        },
        {
          "output_type": "stream",
          "name": "stdout",
          "text": [
            "\n"
          ]
        },
        {
          "output_type": "display_data",
          "data": {
            "text/plain": [
              "HBox(children=(FloatProgress(value=0.0, description='Downloading', max=654201076.0, style=ProgressStyle(descri…"
            ],
            "application/vnd.jupyter.widget-view+json": {
              "version_major": 2,
              "version_minor": 0,
              "model_id": "655f6420af30487fbc190abbb0c67692"
            }
          },
          "metadata": {}
        },
        {
          "output_type": "stream",
          "name": "stdout",
          "text": [
            "\n"
          ]
        }
      ]
    },
    {
      "cell_type": "code",
      "execution_count": 12,
      "metadata": {
        "id": "QFffgMBc4OfZ"
      },
      "outputs": [],
      "source": [
        "sentence = combo([['Pierwsze', 'zdanie', 'do', 'przetworzenia', 'jest', 'najtrudniejsze', '.']])"
      ]
    },
    {
      "cell_type": "code",
      "source": [
        "print(\"{:4} {:15} {:15} {:8} {:22} {:8} {:10} {:20}\".format('ID', 'TOKEN', 'LEMMA', 'UPOS', 'XPOS', 'HEAD', 'DEPREL', 'FEATS'))\n",
        "for t in sentence[0].tokens:\n",
        "    print(\"{:4} {:15} {:15} {:8} {:22} {:8} {:10} {:10}\".format(str(t.id), t.token, t.lemma, t.upostag, t.xpostag, str(t.head), t.deprel, t.feats))"
      ],
      "metadata": {
        "colab": {
          "base_uri": "https://localhost:8080/"
        },
        "id": "wWturMPRM6GT",
        "outputId": "721aa5c3-6cff-4c9e-e99c-492e0d6926ed"
      },
      "execution_count": 16,
      "outputs": [
        {
          "output_type": "stream",
          "name": "stdout",
          "text": [
            "ID   TOKEN           LEMMA           UPOS     XPOS                   HEAD     DEPREL     FEATS               \n",
            "1    Pierwsze        pierwszy        ADJ      adj:sg:nom:n:pos       2        amod       Case=Nom|Degree=Pos|Gender=Neut|Number=Sing\n",
            "2    zdanie          zdanie          NOUN     subst:sg:nom:n:ncol    6        nsubj      Case=Nom|Gender=Neut|Number=Sing|Polarity=Pos\n",
            "3    do              do              ADP      prep:gen               4        case       AdpType=Prep\n",
            "4    przetworzenia   przetworzyć     NOUN     ger:sg:gen:n:perf:aff  2        nmod       Aspect=Perf|Case=Gen|Gender=Neut|Number=Sing|Polarity=Pos|VerbForm=Vnoun\n",
            "5    jest            być             AUX      fin:sg:ter:imperf      6        cop        Aspect=Imp|Mood=Ind|Number=Sing|Person=3|Tense=Pres|VerbForm=Fin|Voice=Act\n",
            "6    najtrudniejsze  trudny          ADJ      adj:sg:nom:n:sup       0        root       Case=Nom|Degree=Sup|Gender=Neut|Number=Sing\n",
            "7    .               .               PUNCT    interp                 6        punct      PunctType=Peri\n"
          ]
        }
      ]
    },
    {
      "cell_type": "markdown",
      "source": [
        "### COMBO z narzędziem do segmentacji LAMBO"
      ],
      "metadata": {
        "id": "WiaYwWgaNeOB"
      }
    },
    {
      "cell_type": "code",
      "source": [
        "from combo.utils import lambo\n",
        "nlpre = COMBO.from_pretrained(\"polish-herbert-base-ud29\",tokenizer=lambo.LamboTokenizer(\"pl\"),cuda_device=0)"
      ],
      "metadata": {
        "colab": {
          "base_uri": "https://localhost:8080/"
        },
        "id": "JTlAPAV8NSdA",
        "outputId": "82edac79-08ec-4b0b-e39a-c2c0d470bd14"
      },
      "execution_count": 17,
      "outputs": [
        {
          "output_type": "stream",
          "name": "stdout",
          "text": [
            "Using model LAMBO-UD_Polish-PDB\n"
          ]
        },
        {
          "output_type": "stream",
          "name": "stderr",
          "text": [
            "100%|██████████| 1.25k/1.25k [00:00<00:00, 620kB/s]\n",
            "100%|██████████| 2.82M/2.82M [00:00<00:00, 3.25MB/s]\n",
            "100%|██████████| 352k/352k [00:00<00:00, 920kB/s]\n"
          ]
        }
      ]
    },
    {
      "cell_type": "code",
      "source": [
        "text_pl = \"Holmes po raz pierwszy pojawił się w powieści Studium w szkarłacie, wydanej w 1887 roku. Łącznie Conan Doyle napisał 4 powieści (Studium w szkarłacie, Pies Baskerville'ów, Znak czterech, Dolina trwogi) i 56 opowiadań o Holmesie.\"\n",
        "\n",
        "sents_pl = nlpre(text_pl)"
      ],
      "metadata": {
        "id": "UWAQlNI3NSgx"
      },
      "execution_count": 19,
      "outputs": []
    },
    {
      "cell_type": "code",
      "source": [
        "for i, s in enumerate(sents_pl):\n",
        "  print(\"Sentence {}: {}\".format(i+1, \" \".join([t.token for t in s.tokens])))\n",
        "  print()\n",
        "  print(\"{:5} {:15} {:15} {:10} {:10} {:10} {:10} {:20}\".format('ID', 'TOKEN', 'LEMMA', 'UPOS', 'XPOS', 'HEAD', 'DEPREL', 'FEATS'))\n",
        "  for t in s.tokens:\n",
        "    print(\"{:5} {:15} {:15} {:10} {:10} {:10} {:10} {:10}\".format(str(t.id), t.token, t.lemma, t.upostag, t.xpostag, str(t.head), t.deprel, t.feats))\n",
        "  print()"
      ],
      "metadata": {
        "colab": {
          "base_uri": "https://localhost:8080/"
        },
        "id": "nxV-EMTpNSzo",
        "outputId": "ea11af65-d7ab-4f60-dda7-a9631a652a17"
      },
      "execution_count": 20,
      "outputs": [
        {
          "output_type": "stream",
          "name": "stdout",
          "text": [
            "Sentence 1: Holmes po raz pierwszy pojawił się w powieści Studium w szkarłacie , wydanej w 1887 roku .\n",
            "\n",
            "ID    TOKEN           LEMMA           UPOS       XPOS       HEAD       DEPREL     FEATS               \n",
            "1     Holmes          Holmes          PROPN      subst:sg:nom:m1 5          nsubj      Animacy=Hum|Case=Nom|Gender=Masc|Number=Sing\n",
            "2     po              po              ADP        prep:acc   3          case       AdpType=Prep\n",
            "3     raz             raz             NOUN       subst:sg:acc:m3 5          obl        Animacy=Inan|Case=Acc|Gender=Masc|Number=Sing\n",
            "4     pierwszy        pierwszy        ADJ        adj:sg:acc:m3:pos 3          amod       Animacy=Inan|Case=Acc|Degree=Pos|Gender=Masc|Number=Sing\n",
            "5     pojawił         pojawić         VERB       praet:sg:m1:perf 0          root       Animacy=Hum|Aspect=Perf|Gender=Masc|Mood=Ind|Number=Sing|Tense=Past|VerbForm=Fin|Voice=Act\n",
            "6     się             się             PRON       part       5          expl:pv    PronType=Prs|Reflex=Yes\n",
            "7     w               w               ADP        prep:loc:nwok 8          case       AdpType=Prep|Variant=Short\n",
            "8     powieści        powieść         NOUN       subst:sg:loc:f 5          obl        Case=Loc|Gender=Fem|Number=Sing\n",
            "9     Studium         studium         NOUN       subst:sg:nom:n:ncol 8          nmod       Case=Nom|Gender=Neut|Number=Sing\n",
            "10    w               w               ADP        prep:loc:nwok 11         case       AdpType=Prep|Variant=Short\n",
            "11    szkarłacie      szkarłata       NOUN       subst:sg:loc:m3 9          nmod       Case=Loc|Gender=Fem|Number=Sing\n",
            "12    ,               ,               PUNCT      interp     13         punct      PunctType=Comm\n",
            "13    wydanej         wydać           ADJ        ppas:sg:gen:f:perf:aff 8          acl        Aspect=Perf|Case=Gen|Gender=Fem|Number=Sing|Polarity=Pos|VerbForm=Part|Voice=Pass\n",
            "14    w               w               ADP        prep:loc:nwok 16         case       AdpType=Prep|Variant=Short\n",
            "15    1887            1887            ADJ        adj:sg:loc:m3:pos 16         amod:flat  Animacy=Inan|Case=Loc|Degree=Pos|Gender=Masc|Number=Sing|NumForm=Digit|NumType=Ord\n",
            "16    roku            rok             NOUN       subst:sg:loc:m3 13         obl        Animacy=Inan|Case=Loc|Gender=Masc|Number=Sing\n",
            "17    .               .               PUNCT      interp     5          punct      PunctType=Peri\n",
            "\n",
            "Sentence 2: Łącznie Conan Doyle napisał 4 powieści ( Studium w szkarłacie , Pies Baskerville'ów , Znak czterech , Dolina trwogi ) i 56 opowiadań o Holmesie .\n",
            "\n",
            "ID    TOKEN           LEMMA           UPOS       XPOS       HEAD       DEPREL     FEATS               \n",
            "1     Łącznie         łącznie         ADV        adv:pos    4          advmod     Degree=Pos\n",
            "2     Conan           Conan           PROPN      subst:sg:nom:m1 4          nsubj      Animacy=Hum|Case=Nom|Gender=Masc|Number=Sing\n",
            "3     Doyle           Doyle           PROPN      subst:sg:nom:m1 2          flat       Animacy=Hum|Case=Nom|Gender=Masc|Number=Sing\n",
            "4     napisał         napisać         VERB       praet:sg:m1:perf 0          root       Animacy=Hum|Aspect=Perf|Gender=Masc|Mood=Ind|Number=Sing|Tense=Past|VerbForm=Fin|Voice=Act\n",
            "5     4               4               NUM        num:pl:acc:f:congr 6          nummod     Case=Acc|Gender=Fem|Number=Plur|NumForm=Digit|NumType=Card\n",
            "6     powieści        powieść         NOUN       subst:pl:acc:f 4          obj        Case=Acc|Gender=Fem|Number=Plur\n",
            "7     (               (               PUNCT      interp     8          punct      PunctSide=Ini|PunctType=Brck\n",
            "8     Studium         studium         NOUN       subst:sg:nom:n:ncol 6          nmod       Case=Nom|Gender=Neut|Number=Sing\n",
            "9     w               w               ADP        prep:loc:nwok 10         case       AdpType=Prep|Variant=Short\n",
            "10    szkarłacie      szkarłat        NOUN       subst:sg:loc:m3 8          nmod       Animacy=Inan|Case=Loc|Gender=Masc|Number=Sing\n",
            "11    ,               ,               PUNCT      interp     12         punct      PunctType=Comm\n",
            "12    Pies            pies            NOUN       subst:sg:nom:m2 8          conj       Animacy=Nhum|Case=Nom|Gender=Masc|Number=Sing\n",
            "13    Baskerville'ów  Baskerville     PROPN      subst:pl:gen:m1 12         nmod       Animacy=Hum|Case=Gen|Gender=Masc|Number=Plur\n",
            "14    ,               ,               PUNCT      interp     15         punct      PunctType=Comm\n",
            "15    Znak            znak            NOUN       subst:sg:nom:m3 8          conj       Animacy=Inan|Case=Nom|Gender=Masc|Number=Sing\n",
            "16    czterech        cztery          NUM        num:pl:gen:m3:congr 15         nmod       Animacy=Inan|Case=Gen|Gender=Masc|Number=Plur|NumForm=Word\n",
            "17    ,               ,               PUNCT      interp     18         punct      PunctType=Comm\n",
            "18    Dolina          dolina          NOUN       subst:sg:nom:f 8          conj       Case=Nom|Gender=Fem|Number=Sing\n",
            "19    trwogi          trwoga          NOUN       subst:sg:gen:f 18         nmod       Case=Gen|Gender=Fem|Number=Sing\n",
            "20    )               )               PUNCT      interp     8          punct      PunctSide=Fin|PunctType=Brck\n",
            "21    i               i               CCONJ      conj       23         cc         _         \n",
            "22    56              56              NUM        num:pl:acc:n:rec:ncol 23         nummod:gov Case=Acc|Gender=Neut|Number=Plur|NumForm=Digit|NumType=Card\n",
            "23    opowiadań       opowiadanie     NOUN       subst:pl:gen:n:ncol 6          conj       Case=Gen|Gender=Neut|Number=Plur\n",
            "24    o               o               ADP        prep:loc   25         case       AdpType=Prep\n",
            "25    Holmesie        Holmes          PROPN      subst:sg:loc:m1 23         nmod       Animacy=Hum|Case=Loc|Gender=Masc|Number=Sing\n",
            "26    .               .               PUNCT      interp     4          punct      PunctType=Peri\n",
            "\n"
          ]
        }
      ]
    },
    {
      "cell_type": "markdown",
      "metadata": {
        "id": "JKV5zHZKx7pU"
      },
      "source": [
        "Konsolowa wersja COMBO wymaga pobrania modelu COMBO"
      ]
    },
    {
      "cell_type": "code",
      "execution_count": 21,
      "metadata": {
        "colab": {
          "base_uri": "https://localhost:8080/"
        },
        "id": "T4Zv0-grx6iM",
        "outputId": "733eaed3-d920-4849-974c-da1ca1200d7a"
      },
      "outputs": [
        {
          "output_type": "stream",
          "name": "stdout",
          "text": [
            "--2023-05-09 21:00:12--  http://s3.clarin-pl.eu/dspace/combo/ud_29/english-bert-base-ud29.tar.gz\n",
            "Resolving s3.clarin-pl.eu (s3.clarin-pl.eu)... 156.17.135.1\n",
            "Connecting to s3.clarin-pl.eu (s3.clarin-pl.eu)|156.17.135.1|:80... connected.\n",
            "HTTP request sent, awaiting response... 302 Found\n",
            "Location: https://s3.clarin-pl.eu/dspace/combo/ud_29/english-bert-base-ud29.tar.gz [following]\n",
            "--2023-05-09 21:00:13--  https://s3.clarin-pl.eu/dspace/combo/ud_29/english-bert-base-ud29.tar.gz\n",
            "Connecting to s3.clarin-pl.eu (s3.clarin-pl.eu)|156.17.135.1|:443... connected.\n",
            "HTTP request sent, awaiting response... 200 OK\n",
            "Length: 447111559 (426M) [application/octet-stream]\n",
            "Saving to: ‘zasoby/english-bert-base-ud29.tar.gz’\n",
            "\n",
            "english-bert-base-u 100%[===================>] 426.40M  21.6MB/s    in 21s     \n",
            "\n",
            "2023-05-09 21:00:34 (20.7 MB/s) - ‘zasoby/english-bert-base-ud29.tar.gz’ saved [447111559/447111559]\n",
            "\n"
          ]
        }
      ],
      "source": [
        "# model COMBO \n",
        "! wget -P zasoby http://s3.clarin-pl.eu/dspace/combo/ud_29/english-bert-base-ud29.tar.gz"
      ]
    },
    {
      "cell_type": "code",
      "execution_count": 22,
      "metadata": {
        "colab": {
          "base_uri": "https://localhost:8080/"
        },
        "id": "akPF1w0iyULZ",
        "outputId": "8e0d5714-8d65-46e4-a785-4b5a78cf7853"
      },
      "outputs": [
        {
          "output_type": "stream",
          "name": "stdout",
          "text": [
            "Cloning into 'UD_English-EWT'...\n",
            "remote: Enumerating objects: 1204, done.\u001b[K\n",
            "remote: Counting objects: 100% (1204/1204), done.\u001b[K\n",
            "remote: Compressing objects: 100% (1151/1151), done.\u001b[K\n",
            "remote: Total 1204 (delta 462), reused 151 (delta 51), pack-reused 0\u001b[K\n",
            "Receiving objects: 100% (1204/1204), 6.93 MiB | 1.30 MiB/s, done.\n",
            "Resolving deltas: 100% (462/462), done.\n"
          ]
        }
      ],
      "source": [
        "# korpus wzorcowy\n",
        "!git clone https://github.com/UniversalDependencies/UD_English-EWT.git --depth 1"
      ]
    },
    {
      "cell_type": "code",
      "execution_count": 25,
      "metadata": {
        "colab": {
          "base_uri": "https://localhost:8080/"
        },
        "id": "TvmkSmL99i8U",
        "outputId": "beaa6283-68ba-47e6-9f51-cb31fa00eb3d"
      },
      "outputs": [
        {
          "output_type": "stream",
          "name": "stdout",
          "text": [
            "2023-05-09 21:01:47.559549: W tensorflow/compiler/tf2tensorrt/utils/py_utils.cc:38] TF-TRT Warning: Could not find TensorRT\n",
            "I0509 21:01:51.445472 140460132345664 archival.py:184] loading archive file zasoby/english-bert-base-ud29.tar.gz\n",
            "I0509 21:01:51.445884 140460132345664 archival.py:263] extracting archive file zasoby/english-bert-base-ud29.tar.gz to temp dir /tmp/tmpi3_1pio7\n",
            "I0509 21:01:56.243575 140460132345664 params.py:248] dataset_reader.type = conllu\n",
            "I0509 21:01:56.244234 140460132345664 params.py:248] dataset_reader.lazy = False\n",
            "I0509 21:01:56.244425 140460132345664 params.py:248] dataset_reader.cache_directory = None\n",
            "I0509 21:01:56.244549 140460132345664 params.py:248] dataset_reader.max_instances = None\n",
            "I0509 21:01:56.244638 140460132345664 params.py:248] dataset_reader.manual_distributed_sharding = False\n",
            "I0509 21:01:56.244714 140460132345664 params.py:248] dataset_reader.manual_multi_process_sharding = False\n",
            "I0509 21:01:56.245108 140460132345664 params.py:248] dataset_reader.token_indexers.char.type = characters_const_padding\n",
            "I0509 21:01:56.245383 140460132345664 params.py:248] dataset_reader.token_indexers.char.namespace = token_characters\n",
            "I0509 21:01:56.245693 140460132345664 params.py:248] dataset_reader.token_indexers.char.character_tokenizer.byte_encoding = None\n",
            "I0509 21:01:56.245827 140460132345664 params.py:248] dataset_reader.token_indexers.char.character_tokenizer.lowercase_characters = False\n",
            "I0509 21:01:56.245952 140460132345664 params.py:248] dataset_reader.token_indexers.char.character_tokenizer.start_tokens = ['__START__']\n",
            "I0509 21:01:56.246140 140460132345664 params.py:248] dataset_reader.token_indexers.char.character_tokenizer.end_tokens = ['__END__']\n",
            "I0509 21:01:56.246306 140460132345664 params.py:248] dataset_reader.token_indexers.char.start_tokens = None\n",
            "I0509 21:01:56.246396 140460132345664 params.py:248] dataset_reader.token_indexers.char.end_tokens = None\n",
            "I0509 21:01:56.246497 140460132345664 params.py:248] dataset_reader.token_indexers.char.min_padding_length = 32\n",
            "I0509 21:01:56.246581 140460132345664 params.py:248] dataset_reader.token_indexers.char.token_min_padding_length = 0\n",
            "I0509 21:01:56.246819 140460132345664 params.py:248] dataset_reader.token_indexers.feats.type = feats_indexer\n",
            "I0509 21:01:56.247069 140460132345664 params.py:248] dataset_reader.token_indexers.feats.namespace = feats\n",
            "I0509 21:01:56.247181 140460132345664 params.py:248] dataset_reader.token_indexers.feats.feature_name = feats_\n",
            "I0509 21:01:56.247279 140460132345664 params.py:248] dataset_reader.token_indexers.feats.token_min_padding_length = 0\n",
            "I0509 21:01:56.247484 140460132345664 params.py:248] dataset_reader.token_indexers.lemma.type = characters_const_padding\n",
            "I0509 21:01:56.247750 140460132345664 params.py:248] dataset_reader.token_indexers.lemma.namespace = token_characters\n",
            "I0509 21:01:56.248054 140460132345664 params.py:248] dataset_reader.token_indexers.lemma.character_tokenizer.byte_encoding = None\n",
            "I0509 21:01:56.248166 140460132345664 params.py:248] dataset_reader.token_indexers.lemma.character_tokenizer.lowercase_characters = False\n",
            "I0509 21:01:56.248267 140460132345664 params.py:248] dataset_reader.token_indexers.lemma.character_tokenizer.start_tokens = ['__START__']\n",
            "I0509 21:01:56.248434 140460132345664 params.py:248] dataset_reader.token_indexers.lemma.character_tokenizer.end_tokens = ['__END__']\n",
            "I0509 21:01:56.248606 140460132345664 params.py:248] dataset_reader.token_indexers.lemma.start_tokens = None\n",
            "I0509 21:01:56.248691 140460132345664 params.py:248] dataset_reader.token_indexers.lemma.end_tokens = None\n",
            "I0509 21:01:56.248798 140460132345664 params.py:248] dataset_reader.token_indexers.lemma.min_padding_length = 32\n",
            "I0509 21:01:56.248881 140460132345664 params.py:248] dataset_reader.token_indexers.lemma.token_min_padding_length = 0\n",
            "I0509 21:01:56.249091 140460132345664 params.py:248] dataset_reader.token_indexers.token.type = pretrained_transformer_mismatched_fixed\n",
            "I0509 21:01:56.249398 140460132345664 params.py:248] dataset_reader.token_indexers.token.token_min_padding_length = 0\n",
            "I0509 21:01:56.249525 140460132345664 params.py:248] dataset_reader.token_indexers.token.model_name = bert-base-cased\n",
            "I0509 21:01:56.249618 140460132345664 params.py:248] dataset_reader.token_indexers.token.namespace = tags\n",
            "I0509 21:01:56.249695 140460132345664 params.py:248] dataset_reader.token_indexers.token.max_length = None\n",
            "I0509 21:01:56.338973 140460132345664 filelock.py:254] Lock 140454052270960 acquired on /root/.cache/huggingface/transformers/a803e0468a8fe090683bdc453f4fac622804f49de86d7cecaee92365d4a0f829.a64a22196690e0e82ead56f388a3ef3a50de93335926ccfa20610217db589307.lock\n",
            "Downloading: 100% 570/570 [00:00<00:00, 316kB/s]\n",
            "I0509 21:01:56.420959 140460132345664 filelock.py:317] Lock 140454052270960 released on /root/.cache/huggingface/transformers/a803e0468a8fe090683bdc453f4fac622804f49de86d7cecaee92365d4a0f829.a64a22196690e0e82ead56f388a3ef3a50de93335926ccfa20610217db589307.lock\n",
            "I0509 21:01:56.540065 140460132345664 filelock.py:254] Lock 140454053023648 acquired on /root/.cache/huggingface/transformers/6508e60ab3c1200bffa26c95f4b58ac6b6d95fba4db1f195f632fa3cd7bc64cc.437aa611e89f6fc6675a049d2b5545390adbc617e7d655286421c191d2be2791.lock\n",
            "Downloading: 100% 213k/213k [00:00<00:00, 3.68MB/s]\n",
            "I0509 21:01:56.686919 140460132345664 filelock.py:317] Lock 140454053023648 released on /root/.cache/huggingface/transformers/6508e60ab3c1200bffa26c95f4b58ac6b6d95fba4db1f195f632fa3cd7bc64cc.437aa611e89f6fc6675a049d2b5545390adbc617e7d655286421c191d2be2791.lock\n",
            "I0509 21:01:56.836621 140460132345664 filelock.py:254] Lock 140454053021104 acquired on /root/.cache/huggingface/transformers/226a307193a9f4344264cdc76a12988448a25345ba172f2c7421f3b6810fddad.3dab63143af66769bbb35e3811f75f7e16b2320e12b7935e216bd6159ce6d9a6.lock\n",
            "Downloading: 100% 436k/436k [00:00<00:00, 5.74MB/s]\n",
            "I0509 21:01:57.071552 140460132345664 filelock.py:317] Lock 140454053021104 released on /root/.cache/huggingface/transformers/226a307193a9f4344264cdc76a12988448a25345ba172f2c7421f3b6810fddad.3dab63143af66769bbb35e3811f75f7e16b2320e12b7935e216bd6159ce6d9a6.lock\n",
            "I0509 21:01:57.516567 140460132345664 params.py:248] dataset_reader.token_indexers.upostag.type = single_id\n",
            "I0509 21:01:57.517168 140460132345664 params.py:248] dataset_reader.token_indexers.upostag.namespace = upostag\n",
            "I0509 21:01:57.517365 140460132345664 params.py:248] dataset_reader.token_indexers.upostag.lowercase_tokens = False\n",
            "I0509 21:01:57.517480 140460132345664 params.py:248] dataset_reader.token_indexers.upostag.start_tokens = None\n",
            "I0509 21:01:57.517568 140460132345664 params.py:248] dataset_reader.token_indexers.upostag.end_tokens = None\n",
            "I0509 21:01:57.517654 140460132345664 params.py:248] dataset_reader.token_indexers.upostag.feature_name = pos_\n",
            "I0509 21:01:57.517757 140460132345664 params.py:248] dataset_reader.token_indexers.upostag.default_value = THIS IS A REALLY UNLIKELY VALUE THAT HAS TO BE A STRING\n",
            "I0509 21:01:57.517846 140460132345664 params.py:248] dataset_reader.token_indexers.upostag.token_min_padding_length = 0\n",
            "I0509 21:01:57.518074 140460132345664 params.py:248] dataset_reader.token_indexers.xpostag.type = single_id\n",
            "I0509 21:01:57.518386 140460132345664 params.py:248] dataset_reader.token_indexers.xpostag.namespace = xpostag\n",
            "I0509 21:01:57.518524 140460132345664 params.py:248] dataset_reader.token_indexers.xpostag.lowercase_tokens = False\n",
            "I0509 21:01:57.518621 140460132345664 params.py:248] dataset_reader.token_indexers.xpostag.start_tokens = None\n",
            "I0509 21:01:57.518707 140460132345664 params.py:248] dataset_reader.token_indexers.xpostag.end_tokens = None\n",
            "I0509 21:01:57.518795 140460132345664 params.py:248] dataset_reader.token_indexers.xpostag.feature_name = tag_\n",
            "I0509 21:01:57.518866 140460132345664 params.py:248] dataset_reader.token_indexers.xpostag.default_value = THIS IS A REALLY UNLIKELY VALUE THAT HAS TO BE A STRING\n",
            "I0509 21:01:57.518933 140460132345664 params.py:248] dataset_reader.token_indexers.xpostag.token_min_padding_length = 0\n",
            "I0509 21:01:57.519231 140460132345664 params.py:248] dataset_reader.lemma_indexers.char.type = characters_const_padding\n",
            "I0509 21:01:57.519515 140460132345664 params.py:248] dataset_reader.lemma_indexers.char.namespace = lemma_characters\n",
            "I0509 21:01:57.519880 140460132345664 params.py:248] dataset_reader.lemma_indexers.char.character_tokenizer.byte_encoding = None\n",
            "I0509 21:01:57.519999 140460132345664 params.py:248] dataset_reader.lemma_indexers.char.character_tokenizer.lowercase_characters = False\n",
            "I0509 21:01:57.520117 140460132345664 params.py:248] dataset_reader.lemma_indexers.char.character_tokenizer.start_tokens = ['__START__']\n",
            "I0509 21:01:57.520311 140460132345664 params.py:248] dataset_reader.lemma_indexers.char.character_tokenizer.end_tokens = ['__END__']\n",
            "I0509 21:01:57.520479 140460132345664 params.py:248] dataset_reader.lemma_indexers.char.start_tokens = None\n",
            "I0509 21:01:57.520567 140460132345664 params.py:248] dataset_reader.lemma_indexers.char.end_tokens = None\n",
            "I0509 21:01:57.520658 140460132345664 params.py:248] dataset_reader.lemma_indexers.char.min_padding_length = 32\n",
            "I0509 21:01:57.520735 140460132345664 params.py:248] dataset_reader.lemma_indexers.char.token_min_padding_length = 0\n",
            "I0509 21:01:57.520872 140460132345664 params.py:248] dataset_reader.features = ['token', 'char']\n",
            "I0509 21:01:57.521022 140460132345664 params.py:248] dataset_reader.targets = ['deprel', 'head', 'upostag', 'lemma', 'feats', 'xpostag']\n",
            "I0509 21:01:57.521161 140460132345664 params.py:248] dataset_reader.use_sem = False\n",
            "I0509 21:01:57.521375 140460132345664 params.py:248] dataset_reader.type = conllu\n",
            "I0509 21:01:57.521709 140460132345664 params.py:248] dataset_reader.lazy = False\n",
            "I0509 21:01:57.521854 140460132345664 params.py:248] dataset_reader.cache_directory = None\n",
            "I0509 21:01:57.521944 140460132345664 params.py:248] dataset_reader.max_instances = None\n",
            "I0509 21:01:57.522019 140460132345664 params.py:248] dataset_reader.manual_distributed_sharding = False\n",
            "I0509 21:01:57.522096 140460132345664 params.py:248] dataset_reader.manual_multi_process_sharding = False\n",
            "I0509 21:01:57.522428 140460132345664 params.py:248] dataset_reader.token_indexers.char.type = characters_const_padding\n",
            "I0509 21:01:57.522682 140460132345664 params.py:248] dataset_reader.token_indexers.char.namespace = token_characters\n",
            "I0509 21:01:57.522992 140460132345664 params.py:248] dataset_reader.token_indexers.char.character_tokenizer.byte_encoding = None\n",
            "I0509 21:01:57.523099 140460132345664 params.py:248] dataset_reader.token_indexers.char.character_tokenizer.lowercase_characters = False\n",
            "I0509 21:01:57.523205 140460132345664 params.py:248] dataset_reader.token_indexers.char.character_tokenizer.start_tokens = ['__START__']\n",
            "I0509 21:01:57.523357 140460132345664 params.py:248] dataset_reader.token_indexers.char.character_tokenizer.end_tokens = ['__END__']\n",
            "I0509 21:01:57.523527 140460132345664 params.py:248] dataset_reader.token_indexers.char.start_tokens = None\n",
            "I0509 21:01:57.523619 140460132345664 params.py:248] dataset_reader.token_indexers.char.end_tokens = None\n",
            "I0509 21:01:57.523699 140460132345664 params.py:248] dataset_reader.token_indexers.char.min_padding_length = 32\n",
            "I0509 21:01:57.523790 140460132345664 params.py:248] dataset_reader.token_indexers.char.token_min_padding_length = 0\n",
            "I0509 21:01:57.523993 140460132345664 params.py:248] dataset_reader.token_indexers.feats.type = feats_indexer\n",
            "I0509 21:01:57.524227 140460132345664 params.py:248] dataset_reader.token_indexers.feats.namespace = feats\n",
            "I0509 21:01:57.524338 140460132345664 params.py:248] dataset_reader.token_indexers.feats.feature_name = feats_\n",
            "I0509 21:01:57.524419 140460132345664 params.py:248] dataset_reader.token_indexers.feats.token_min_padding_length = 0\n",
            "I0509 21:01:57.524618 140460132345664 params.py:248] dataset_reader.token_indexers.lemma.type = characters_const_padding\n",
            "I0509 21:01:57.524872 140460132345664 params.py:248] dataset_reader.token_indexers.lemma.namespace = token_characters\n",
            "I0509 21:01:57.525166 140460132345664 params.py:248] dataset_reader.token_indexers.lemma.character_tokenizer.byte_encoding = None\n",
            "I0509 21:01:57.525275 140460132345664 params.py:248] dataset_reader.token_indexers.lemma.character_tokenizer.lowercase_characters = False\n",
            "I0509 21:01:57.525377 140460132345664 params.py:248] dataset_reader.token_indexers.lemma.character_tokenizer.start_tokens = ['__START__']\n",
            "I0509 21:01:57.525525 140460132345664 params.py:248] dataset_reader.token_indexers.lemma.character_tokenizer.end_tokens = ['__END__']\n",
            "I0509 21:01:57.525678 140460132345664 params.py:248] dataset_reader.token_indexers.lemma.start_tokens = None\n",
            "I0509 21:01:57.525784 140460132345664 params.py:248] dataset_reader.token_indexers.lemma.end_tokens = None\n",
            "I0509 21:01:57.525862 140460132345664 params.py:248] dataset_reader.token_indexers.lemma.min_padding_length = 32\n",
            "I0509 21:01:57.525939 140460132345664 params.py:248] dataset_reader.token_indexers.lemma.token_min_padding_length = 0\n",
            "I0509 21:01:57.526140 140460132345664 params.py:248] dataset_reader.token_indexers.token.type = pretrained_transformer_mismatched_fixed\n",
            "I0509 21:01:57.526447 140460132345664 params.py:248] dataset_reader.token_indexers.token.token_min_padding_length = 0\n",
            "I0509 21:01:57.526565 140460132345664 params.py:248] dataset_reader.token_indexers.token.model_name = bert-base-cased\n",
            "I0509 21:01:57.526646 140460132345664 params.py:248] dataset_reader.token_indexers.token.namespace = tags\n",
            "I0509 21:01:57.526724 140460132345664 params.py:248] dataset_reader.token_indexers.token.max_length = None\n",
            "I0509 21:01:57.528376 140460132345664 params.py:248] dataset_reader.token_indexers.upostag.type = single_id\n",
            "I0509 21:01:57.528660 140460132345664 params.py:248] dataset_reader.token_indexers.upostag.namespace = upostag\n",
            "I0509 21:01:57.528795 140460132345664 params.py:248] dataset_reader.token_indexers.upostag.lowercase_tokens = False\n",
            "I0509 21:01:57.528891 140460132345664 params.py:248] dataset_reader.token_indexers.upostag.start_tokens = None\n",
            "I0509 21:01:57.528969 140460132345664 params.py:248] dataset_reader.token_indexers.upostag.end_tokens = None\n",
            "I0509 21:01:57.529046 140460132345664 params.py:248] dataset_reader.token_indexers.upostag.feature_name = pos_\n",
            "I0509 21:01:57.529124 140460132345664 params.py:248] dataset_reader.token_indexers.upostag.default_value = THIS IS A REALLY UNLIKELY VALUE THAT HAS TO BE A STRING\n",
            "I0509 21:01:57.529206 140460132345664 params.py:248] dataset_reader.token_indexers.upostag.token_min_padding_length = 0\n",
            "I0509 21:01:57.529407 140460132345664 params.py:248] dataset_reader.token_indexers.xpostag.type = single_id\n",
            "I0509 21:01:57.529655 140460132345664 params.py:248] dataset_reader.token_indexers.xpostag.namespace = xpostag\n",
            "I0509 21:01:57.529791 140460132345664 params.py:248] dataset_reader.token_indexers.xpostag.lowercase_tokens = False\n",
            "I0509 21:01:57.529907 140460132345664 params.py:248] dataset_reader.token_indexers.xpostag.start_tokens = None\n",
            "I0509 21:01:57.529989 140460132345664 params.py:248] dataset_reader.token_indexers.xpostag.end_tokens = None\n",
            "I0509 21:01:57.530063 140460132345664 params.py:248] dataset_reader.token_indexers.xpostag.feature_name = tag_\n",
            "I0509 21:01:57.530139 140460132345664 params.py:248] dataset_reader.token_indexers.xpostag.default_value = THIS IS A REALLY UNLIKELY VALUE THAT HAS TO BE A STRING\n",
            "I0509 21:01:57.530209 140460132345664 params.py:248] dataset_reader.token_indexers.xpostag.token_min_padding_length = 0\n",
            "I0509 21:01:57.530490 140460132345664 params.py:248] dataset_reader.lemma_indexers.char.type = characters_const_padding\n",
            "I0509 21:01:57.530785 140460132345664 params.py:248] dataset_reader.lemma_indexers.char.namespace = lemma_characters\n",
            "I0509 21:01:57.531074 140460132345664 params.py:248] dataset_reader.lemma_indexers.char.character_tokenizer.byte_encoding = None\n",
            "I0509 21:01:57.531193 140460132345664 params.py:248] dataset_reader.lemma_indexers.char.character_tokenizer.lowercase_characters = False\n",
            "I0509 21:01:57.531299 140460132345664 params.py:248] dataset_reader.lemma_indexers.char.character_tokenizer.start_tokens = ['__START__']\n",
            "I0509 21:01:57.531445 140460132345664 params.py:248] dataset_reader.lemma_indexers.char.character_tokenizer.end_tokens = ['__END__']\n",
            "I0509 21:01:57.531597 140460132345664 params.py:248] dataset_reader.lemma_indexers.char.start_tokens = None\n",
            "I0509 21:01:57.531688 140460132345664 params.py:248] dataset_reader.lemma_indexers.char.end_tokens = None\n",
            "I0509 21:01:57.531780 140460132345664 params.py:248] dataset_reader.lemma_indexers.char.min_padding_length = 32\n",
            "I0509 21:01:57.531857 140460132345664 params.py:248] dataset_reader.lemma_indexers.char.token_min_padding_length = 0\n",
            "I0509 21:01:57.531970 140460132345664 params.py:248] dataset_reader.features = ['token', 'char']\n",
            "I0509 21:01:57.532110 140460132345664 params.py:248] dataset_reader.targets = ['deprel', 'head', 'upostag', 'lemma', 'feats', 'xpostag']\n",
            "I0509 21:01:57.532247 140460132345664 params.py:248] dataset_reader.use_sem = False\n",
            "I0509 21:01:57.533134 140460132345664 params.py:248] vocabulary.type = from_instances_extended\n",
            "I0509 21:01:57.533255 140460132345664 vocabulary.py:323] Loading token dictionary from /tmp/tmpi3_1pio7/vocabulary.\n",
            "I0509 21:01:57.533829 140460132345664 filelock.py:254] Lock 140454053021968 acquired on /tmp/tmpi3_1pio7/vocabulary/.lock\n",
            "I0509 21:01:57.535017 140460132345664 filelock.py:317] Lock 140454053021968 released on /tmp/tmpi3_1pio7/vocabulary/.lock\n",
            "I0509 21:01:57.535910 140460132345664 params.py:248] model.type = semantic_multitask\n",
            "I0509 21:01:57.536627 140460132345664 params.py:248] model.text_field_embedder.type = basic\n",
            "I0509 21:01:57.537139 140460132345664 params.py:248] model.text_field_embedder.token_embedders.char.type = char_embeddings_from_config\n",
            "I0509 21:01:57.537419 140460132345664 params.py:248] model.text_field_embedder.token_embedders.char.embedding_dim = 64\n",
            "I0509 21:01:57.537802 140460132345664 params.py:248] model.text_field_embedder.token_embedders.char.dilated_cnn_encoder.input_dim = 64\n",
            "I0509 21:01:57.537940 140460132345664 params.py:248] model.text_field_embedder.token_embedders.char.dilated_cnn_encoder.filters = [512, 256, 64]\n",
            "I0509 21:01:57.538070 140460132345664 params.py:248] model.text_field_embedder.token_embedders.char.dilated_cnn_encoder.kernel_size = [3, 3, 3]\n",
            "I0509 21:01:57.538217 140460132345664 params.py:248] model.text_field_embedder.token_embedders.char.dilated_cnn_encoder.stride = [1, 1, 1]\n",
            "I0509 21:01:57.538349 140460132345664 params.py:248] model.text_field_embedder.token_embedders.char.dilated_cnn_encoder.padding = [1, 2, 4]\n",
            "I0509 21:01:57.538472 140460132345664 params.py:248] model.text_field_embedder.token_embedders.char.dilated_cnn_encoder.dilation = [1, 2, 4]\n",
            "I0509 21:01:57.538603 140460132345664 params.py:248] model.text_field_embedder.token_embedders.char.dilated_cnn_encoder.activations = ['relu', 'relu', 'linear']\n",
            "I0509 21:01:57.538828 140460132345664 params.py:248] type = relu\n",
            "I0509 21:01:57.539102 140460132345664 params.py:248] type = relu\n",
            "I0509 21:01:57.539359 140460132345664 params.py:248] type = linear\n",
            "I0509 21:01:57.547463 140460132345664 params.py:248] model.text_field_embedder.token_embedders.char.vocab_namespace = token_characters\n",
            "I0509 21:01:57.548285 140460132345664 params.py:248] model.text_field_embedder.token_embedders.token.type = transformers_word_embeddings\n",
            "I0509 21:01:57.548634 140460132345664 params.py:248] model.text_field_embedder.token_embedders.token.model_name = bert-base-cased\n",
            "I0509 21:01:57.548806 140460132345664 params.py:248] model.text_field_embedder.token_embedders.token.projection_dim = 100\n",
            "I0509 21:01:57.548968 140460132345664 params.py:248] model.text_field_embedder.token_embedders.token.projection_activation = <function TransformersWordEmbedder.<lambda> at 0x7fbe01ee8c10>\n",
            "I0509 21:01:57.549108 140460132345664 params.py:248] model.text_field_embedder.token_embedders.token.projection_dropout_rate = 0.0\n",
            "I0509 21:01:57.549202 140460132345664 params.py:248] model.text_field_embedder.token_embedders.token.freeze_transformer = True\n",
            "I0509 21:01:57.549279 140460132345664 params.py:248] model.text_field_embedder.token_embedders.token.last_layer_only = True\n",
            "I0509 21:01:57.549367 140460132345664 params.py:248] model.text_field_embedder.token_embedders.token.tokenizer_kwargs = None\n",
            "I0509 21:01:57.549448 140460132345664 params.py:248] model.text_field_embedder.token_embedders.token.transformer_kwargs = None\n",
            "I0509 21:01:57.787840 140460132345664 filelock.py:254] Lock 140454052713424 acquired on /root/.cache/huggingface/transformers/092cc582560fc3833e556b3f833695c26343cb54b7e88cd02d40821462a74999.1f48cab6c959fc6c360d22bea39d06959e90f5b002e77e836d2da45464875cda.lock\n",
            "Downloading: 100% 436M/436M [00:27<00:00, 16.1MB/s]\n",
            "I0509 21:02:24.973970 140460132345664 filelock.py:317] Lock 140454052713424 released on /root/.cache/huggingface/transformers/092cc582560fc3833e556b3f833695c26343cb54b7e88cd02d40821462a74999.1f48cab6c959fc6c360d22bea39d06959e90f5b002e77e836d2da45464875cda.lock\n",
            "I0509 21:02:27.976206 140460132345664 params.py:248] model.seq_encoder.type = combo_encoder\n",
            "I0509 21:02:27.976651 140460132345664 params.py:248] model.seq_encoder.stacked_bilstm.input_size = 164\n",
            "I0509 21:02:27.976763 140460132345664 params.py:248] model.seq_encoder.stacked_bilstm.hidden_size = 512\n",
            "I0509 21:02:27.976837 140460132345664 params.py:248] model.seq_encoder.stacked_bilstm.num_layers = 2\n",
            "I0509 21:02:27.976904 140460132345664 params.py:248] model.seq_encoder.stacked_bilstm.recurrent_dropout_probability = 0.33\n",
            "I0509 21:02:27.976969 140460132345664 params.py:248] model.seq_encoder.stacked_bilstm.layer_dropout_probability = 0.33\n",
            "I0509 21:02:27.977043 140460132345664 params.py:248] model.seq_encoder.stacked_bilstm.use_highway = False\n",
            "I0509 21:02:28.539699 140460132345664 params.py:248] model.seq_encoder.layer_dropout_probability = 0.33\n",
            "I0509 21:02:28.540036 140460132345664 params.py:248] model.use_sample_weight = True\n",
            "I0509 21:02:28.540410 140460132345664 params.py:248] model.lemmatizer.type = combo_lemma_predictor_from_vocab\n",
            "I0509 21:02:28.540684 140460132345664 params.py:248] model.lemmatizer.char_vocab_namespace = token_characters\n",
            "I0509 21:02:28.540790 140460132345664 params.py:248] model.lemmatizer.lemma_vocab_namespace = lemma_characters\n",
            "I0509 21:02:28.540883 140460132345664 params.py:248] model.lemmatizer.embedding_dim = 256\n",
            "I0509 21:02:28.541115 140460132345664 params.py:248] model.lemmatizer.input_projection_layer.in_features = 1024\n",
            "I0509 21:02:28.541219 140460132345664 params.py:248] model.lemmatizer.input_projection_layer.out_features = 32\n",
            "I0509 21:02:28.541293 140460132345664 params.py:248] model.lemmatizer.input_projection_layer.activation = tanh\n",
            "I0509 21:02:28.541427 140460132345664 params.py:248] type = tanh\n",
            "I0509 21:02:28.541576 140460132345664 params.py:248] model.lemmatizer.input_projection_layer.dropout_rate = 0.25\n",
            "I0509 21:02:28.542134 140460132345664 params.py:248] model.lemmatizer.filters = [256, 256, 256]\n",
            "I0509 21:02:28.542286 140460132345664 params.py:248] model.lemmatizer.kernel_size = [3, 3, 3, 1]\n",
            "I0509 21:02:28.542392 140460132345664 params.py:248] model.lemmatizer.stride = [1, 1, 1, 1]\n",
            "I0509 21:02:28.542493 140460132345664 params.py:248] model.lemmatizer.padding = [1, 2, 4, 0]\n",
            "I0509 21:02:28.542603 140460132345664 params.py:248] model.lemmatizer.dilation = [1, 2, 4, 1]\n",
            "I0509 21:02:28.542717 140460132345664 params.py:248] model.lemmatizer.activations = ['relu', 'relu', 'relu', 'linear']\n",
            "I0509 21:02:28.542911 140460132345664 params.py:248] type = relu\n",
            "I0509 21:02:28.543105 140460132345664 params.py:248] type = relu\n",
            "I0509 21:02:28.543276 140460132345664 params.py:248] type = relu\n",
            "I0509 21:02:28.543463 140460132345664 params.py:248] type = linear\n",
            "I0509 21:02:28.553696 140460132345664 params.py:248] model.upos_tagger.type = feedforward_predictor_from_vocab\n",
            "I0509 21:02:28.554081 140460132345664 params.py:248] model.upos_tagger.vocab_namespace = upostag_labels\n",
            "I0509 21:02:28.554184 140460132345664 params.py:248] model.upos_tagger.input_dim = 1024\n",
            "I0509 21:02:28.554256 140460132345664 params.py:248] model.upos_tagger.num_layers = 2\n",
            "I0509 21:02:28.554333 140460132345664 params.py:248] model.upos_tagger.hidden_dims = [64]\n",
            "I0509 21:02:28.554496 140460132345664 params.py:248] model.upos_tagger.activations = ['tanh', 'linear']\n",
            "I0509 21:02:28.554854 140460132345664 params.py:248] type = tanh\n",
            "I0509 21:02:28.555053 140460132345664 params.py:248] type = linear\n",
            "I0509 21:02:28.555229 140460132345664 params.py:248] model.upos_tagger.dropout = [0.25, 0]\n",
            "I0509 21:02:28.556558 140460132345664 params.py:248] model.xpos_tagger.type = feedforward_predictor_from_vocab\n",
            "I0509 21:02:28.556879 140460132345664 params.py:248] model.xpos_tagger.vocab_namespace = xpostag_labels\n",
            "I0509 21:02:28.556980 140460132345664 params.py:248] model.xpos_tagger.input_dim = 1024\n",
            "I0509 21:02:28.557068 140460132345664 params.py:248] model.xpos_tagger.num_layers = 2\n",
            "I0509 21:02:28.557160 140460132345664 params.py:248] model.xpos_tagger.hidden_dims = [128]\n",
            "I0509 21:02:28.557296 140460132345664 params.py:248] model.xpos_tagger.activations = ['tanh', 'linear']\n",
            "I0509 21:02:28.557666 140460132345664 params.py:248] type = tanh\n",
            "I0509 21:02:28.557953 140460132345664 params.py:248] type = linear\n",
            "I0509 21:02:28.558144 140460132345664 params.py:248] model.xpos_tagger.dropout = [0.25, 0]\n",
            "I0509 21:02:28.560370 140460132345664 params.py:248] model.semantic_relation = None\n",
            "I0509 21:02:28.560735 140460132345664 params.py:248] model.morphological_feat.type = combo_morpho_from_vocab\n",
            "I0509 21:02:28.561080 140460132345664 params.py:248] model.morphological_feat.vocab_namespace = feats_labels\n",
            "I0509 21:02:28.561218 140460132345664 params.py:248] model.morphological_feat.input_dim = 1024\n",
            "I0509 21:02:28.561305 140460132345664 params.py:248] model.morphological_feat.num_layers = 2\n",
            "I0509 21:02:28.561393 140460132345664 params.py:248] model.morphological_feat.hidden_dims = [128]\n",
            "I0509 21:02:28.561521 140460132345664 params.py:248] model.morphological_feat.activations = ['tanh', 'linear']\n",
            "I0509 21:02:28.561873 140460132345664 params.py:248] type = tanh\n",
            "I0509 21:02:28.562122 140460132345664 params.py:248] type = linear\n",
            "I0509 21:02:28.562310 140460132345664 params.py:248] model.morphological_feat.dropout = [0.25, 0]\n",
            "I0509 21:02:28.564793 140460132345664 params.py:248] model.dependency_relation.type = combo_dependency_parsing_from_vocab\n",
            "I0509 21:02:28.565113 140460132345664 params.py:248] model.dependency_relation.vocab_namespace = deprel_labels\n",
            "I0509 21:02:28.565615 140460132345664 params.py:248] model.dependency_relation.head_predictor.head_projection_layer.in_features = 1024\n",
            "I0509 21:02:28.565727 140460132345664 params.py:248] model.dependency_relation.head_predictor.head_projection_layer.out_features = 512\n",
            "I0509 21:02:28.565829 140460132345664 params.py:248] model.dependency_relation.head_predictor.head_projection_layer.activation = tanh\n",
            "I0509 21:02:28.565969 140460132345664 params.py:248] type = tanh\n",
            "I0509 21:02:28.566091 140460132345664 params.py:248] model.dependency_relation.head_predictor.head_projection_layer.dropout_rate = 0.0\n",
            "I0509 21:02:28.571517 140460132345664 params.py:248] model.dependency_relation.head_predictor.dependency_projection_layer.in_features = 1024\n",
            "I0509 21:02:28.571630 140460132345664 params.py:248] model.dependency_relation.head_predictor.dependency_projection_layer.out_features = 512\n",
            "I0509 21:02:28.571708 140460132345664 params.py:248] model.dependency_relation.head_predictor.dependency_projection_layer.activation = tanh\n",
            "I0509 21:02:28.571887 140460132345664 params.py:248] type = tanh\n",
            "I0509 21:02:28.572031 140460132345664 params.py:248] model.dependency_relation.head_predictor.dependency_projection_layer.dropout_rate = 0.0\n",
            "I0509 21:02:28.577514 140460132345664 params.py:248] model.dependency_relation.head_predictor.cycle_loss_n = 0\n",
            "I0509 21:02:28.577861 140460132345664 params.py:248] model.dependency_relation.head_projection_layer.in_features = 1024\n",
            "I0509 21:02:28.577961 140460132345664 params.py:248] model.dependency_relation.head_projection_layer.out_features = 128\n",
            "I0509 21:02:28.578036 140460132345664 params.py:248] model.dependency_relation.head_projection_layer.activation = tanh\n",
            "I0509 21:02:28.578176 140460132345664 params.py:248] type = tanh\n",
            "I0509 21:02:28.578292 140460132345664 params.py:248] model.dependency_relation.head_projection_layer.dropout_rate = 0.25\n",
            "I0509 21:02:28.580094 140460132345664 params.py:248] model.dependency_relation.dependency_projection_layer.in_features = 1024\n",
            "I0509 21:02:28.580209 140460132345664 params.py:248] model.dependency_relation.dependency_projection_layer.out_features = 128\n",
            "I0509 21:02:28.580277 140460132345664 params.py:248] model.dependency_relation.dependency_projection_layer.activation = tanh\n",
            "I0509 21:02:28.580420 140460132345664 params.py:248] type = tanh\n",
            "I0509 21:02:28.580553 140460132345664 params.py:248] model.dependency_relation.dependency_projection_layer.dropout_rate = 0.25\n",
            "I0509 21:02:28.582408 140460132345664 params.py:248] model.enhanced_dependency_relation = None\n",
            "I0509 21:02:28.583722 140460132345664 params.py:248] model.regularizer.regexes.0.1.type = l2\n",
            "I0509 21:02:28.583984 140460132345664 params.py:248] model.regularizer.regexes.0.1.alpha = 1e-06\n",
            "I0509 21:02:28.584169 140460132345664 params.py:248] model.regularizer.regexes.1.1.type = l2\n",
            "I0509 21:02:28.584363 140460132345664 params.py:248] model.regularizer.regexes.1.1.alpha = 1e-06\n",
            "I0509 21:02:28.584590 140460132345664 params.py:248] model.regularizer.regexes.2.1.type = l2\n",
            "I0509 21:02:28.584805 140460132345664 params.py:248] model.regularizer.regexes.2.1.alpha = 1e-06\n",
            "I0509 21:02:28.584992 140460132345664 params.py:248] model.regularizer.regexes.3.1.type = l2\n",
            "I0509 21:02:28.585156 140460132345664 params.py:248] model.regularizer.regexes.3.1.alpha = 1e-05\n",
            "I0509 21:02:29.180374 140460132345664 archival.py:211] removing temporary unarchived model dir at /tmp/tmpi3_1pio7\n",
            "reading instances: 2077it [07:40,  4.51it/s]\n"
          ]
        }
      ],
      "source": [
        "!combo --mode predict --model_path zasoby/english-bert-base-ud29.tar.gz --input_file UD_English-EWT/en_ewt-ud-test.conllu --output_file en_ewt-ud-test_predictions.conllu --silent"
      ]
    },
    {
      "cell_type": "code",
      "execution_count": 26,
      "metadata": {
        "colab": {
          "base_uri": "https://localhost:8080/"
        },
        "id": "sMJEGFWK8UAP",
        "outputId": "00206c47-14fe-425d-ee48-051cb920affb"
      },
      "outputs": [
        {
          "output_type": "stream",
          "name": "stdout",
          "text": [
            "# newdoc id = weblog-blogspot.com_zentelligence_20040423000200_ENG_20040423_000200\n",
            "# sent_id = weblog-blogspot.com_zentelligence_20040423000200_ENG_20040423_000200-0001\n",
            "# newpar id = weblog-blogspot.com_zentelligence_20040423000200_ENG_20040423_000200-p0001\n",
            "# text = What if Google Morphed Into GoogleOS?\n",
            "1\tWhat\twhat\tPRON\tWP\tPronType=Int\t0\troot\t0:root\t_\n",
            "2\tif\tif\tSCONJ\tIN\t_\t4\tmark\t4:mark\t_\n",
            "3\tGoogle\tGoogle\tPROPN\tNNP\tNumber=Sing\t4\tnsubj\t4:nsubj\t_\n",
            "4\tMorphed\tmorphe\tVERB\tVBD\tMood=Ind|Number=Sing|Person=3|Tense=Past|VerbForm=Fin\t1\tadvcl\t1:advcl:if\t_\n",
            "5\tInto\tinto\tADP\tIN\t_\t6\tcase\t6:case\t_\n",
            "6\tGoogleOS\tGoogleo\tPROPN\tNNP\tNumber=Sing\t4\tobl\t4:obl:into\tSpaceAfter=No\n",
            "7\t?\t?\tPUNCT\t.\t_\t1\tpunct\t4:punct\t_\n",
            "\n",
            "# sent_id = weblog-blogspot.com_zentelligence_20040423000200_ENG_20040423_000200-0002\n",
            "# text = What if Google expanded on its search-engine (and now e-mail) wares into a full-fledged operating system?\n",
            "1\tWhat\twhat\tPRON\tWP\tPronType=Int\t0\troot\t0:root\t_\n",
            "2\tif\tif\tSCONJ\tIN\t_\t4\tmark\t4:mark\t_\n",
            "3\tGoogle\tGoogle\tPROPN\tNNP\tNumber=Sing\t4\tnsubj\t4:nsubj\t_\n",
            "4\texpanded\texpand\tVERB\tVBD\tMood=Ind|Number=Sing|Person=3|Tense=Past|VerbForm=Fin\t1\tadvcl\t1:advcl:if\t_\n",
            "5\ton\ton\tADP\tIN\t_\t15\tcase\t15:case\t_\n",
            "6\tits\tits\tPRON\tPRP$\tGender=Neut|Number=Sing|Person=3|Poss=Yes|PronType=Prs\t15\tnmod:poss\t15:nmod:poss\t_\n",
            "7\tsearch\tsearch\tNOUN\tNN\tNumber=Sing\t9\tcompound\t9:compound\tSpaceAfter=No\n",
            "8\t-\t-\tPUNCT\tHYPH\t_\t9\tpunct\t9:punct\tSpaceAfter=No\n",
            "9\tengine\tengine\tNOUN\tNN\tNumber=Sing\t15\tcompound\t15:compound\t_\n",
            "10\t(\t(\tPUNCT\t-LRB-\t_\t9\tpunct\t9:punct\tSpaceAfter=No\n",
            "11\tand\tand\tCCONJ\tCC\t_\t15\tcc\t13:cc\t_\n",
            "12\tnow\tnow\tADV\tRB\t_\t13\tadvmod\t13:advmod\t_\n",
            "13\te-mail\te-mail\tNOUN\tNN\tNumber=Sing\t9\tconj\t9:conj:and|15:compound\tSpaceAfter=No\n",
            "14\t)\t)\tPUNCT\t-RRB-\t_\t13\tpunct\t15:punct\t_\n",
            "15\twares\tware\tNOUN\tNNS\tNumber=Plur\t4\tconj\t4:obl:on\t_\n",
            "16\tinto\tinto\tADP\tIN\t_\t22\tcase\t22:case\t_\n",
            "17\ta\ta\tDET\tDT\tDefinite=Ind|PronType=Art\t22\tdet\t22:det\t_\n",
            "18\tfull\tfull\tADV\tRB\tDegree=Pos\t20\tadvmod\t20:advmod\tSpaceAfter=No\n",
            "19\t-\t-\tPUNCT\tHYPH\t_\t20\tpunct\t20:punct\tSpaceAfter=No\n",
            "20\tfledged\tfledge\tVERB\tVBN\tTense=Past|VerbForm=Part\t22\tamod\t22:amod\t_\n",
            "21\toperating\toperating\tNOUN\tNN\tNumber=Sing\t22\tcompound\t22:compound\t_\n",
            "22\tsystem\tsystem\tNOUN\tNN\tNumber=Sing\t4\tobl\t4:obl:into\tSpaceAfter=No\n",
            "23\t?\t?\tPUNCT\t.\t_\t1\tpunct\t4:punct\t_\n",
            "\n",
            "# sent_id = weblog-blogspot.com_zentelligence_20040423000200_ENG_20040423_000200-0003\n",
            "# text = [via Microsoft Watch from Mary Jo Foley ]\n",
            "1\t[\t[\tPUNCT\t-LRB-\t_\t4\tpunct\t4:punct\tSpaceAfter=No\n",
            "2\tvia\tvia\tADP\tIN\t_\t4\tcase\t4:case\t_\n",
            "3\tMicrosoft\tMicrosoft\tPROPN\tNNP\tNumber=Sing\t4\tcompound\t4:compound\t_\n",
            "4\tWatch\tWatch\tPROPN\tNNP\tNumber=Sing\t0\troot\t0:root\t_\n",
            "5\tfrom\tfrom\tADP\tIN\t_\t6\tcase\t6:case\t_\n",
            "6\tMary\tMary\tPROPN\tNNP\tNumber=Sing\t4\tnmod\t4:nmod:from\t_\n",
            "7\tJo\tJo\tPROPN\tNNP\tNumber=Sing\t6\tflat\t6:flat\t_\n",
            "8\tFoley\tFoley\tPROPN\tNNP\tNumber=Sing\t6\tflat\t6:flat\t_\n",
            "9\t]\t]\tPUNCT\t-RRB-\t_\t4\tpunct\t4:punct\t_\n",
            "\n"
          ]
        }
      ],
      "source": [
        "! head -n 50 en_ewt-ud-test_predictions.conllu"
      ]
    },
    {
      "cell_type": "markdown",
      "metadata": {
        "id": "qa2fdLFqLtYf"
      },
      "source": [
        "# Ewaluacja – miary\n",
        "\n",
        "Skuteczność narzędzia NLP możne mierzyć kilkoma metrykami (miarami) używanymi w uczeniu maszynowym:\n",
        "![Screenshot 2020-11-26 at 10.35.44.png](data:image/png;base64,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)\n",
        "\n",
        "* $TP$: przykłady prawdziwie pozytywne,\n",
        "* $FP$: przykłady fałszywie pozytywne,\n",
        "* $FN$: przykłady fałszywie negatywne,\n",
        "* $TN$: przykłady prawdziwie negatywne."
      ]
    },
    {
      "cell_type": "markdown",
      "metadata": {
        "id": "uwTitPdDsQhq"
      },
      "source": [
        "\n",
        "### Accuracy (dokładność)\n",
        "\n",
        "Odsetek instancji, którym klasyfikator przypisał prawidłową kategorię.\n",
        "\n",
        "$A = \\frac{\\mathit{TP+TN}}{\\mathit{TP+FP+TN+FN}} = \\frac{\\mathit{\\#correct}}{\\mathit{\\#total}}$\n"
      ]
    },
    {
      "cell_type": "code",
      "execution_count": 28,
      "metadata": {
        "colab": {
          "base_uri": "https://localhost:8080/"
        },
        "id": "RLSqGUSvdNUR",
        "outputId": "754ed9ed-8d88-42bd-cff9-daba24d5e428"
      },
      "outputs": [
        {
          "output_type": "stream",
          "name": "stdout",
          "text": [
            "0.6\n"
          ]
        }
      ],
      "source": [
        "from sklearn.metrics import accuracy_score\n",
        "\n",
        "print(accuracy_score([1, 2, 3, 2, 1], [1, 2, 3, 4, 5]))"
      ]
    },
    {
      "cell_type": "markdown",
      "metadata": {
        "id": "2riz6pEDeLit"
      },
      "source": [
        "### Precision, recall i F-mesure\n",
        "\n",
        "\n",
        "**Precision** to ddsetek instancji wykrytych przez system, które są rzeczywiście poprawne.\n",
        "\n",
        "$P = \\frac{\\mathit{TP}}{TP+FP}$\n",
        "\n",
        "**Recall** to odsetek instancji w danych wejściowych, które zostały poprawnie zidentyfikowane przez system.\n",
        "\n",
        "$R = \\frac{\\mathit{TP}}{TP+FN}$\n",
        "\n",
        "**F(1)-measure** to średnia harmoniczna wartości precision i recall:\n",
        "\n",
        "$F = \\frac{2PR}{P + R}$\n"
      ]
    },
    {
      "cell_type": "code",
      "execution_count": 29,
      "metadata": {
        "colab": {
          "base_uri": "https://localhost:8080/"
        },
        "id": "dYj6yvOFpFXB",
        "outputId": "59f00d78-6c4d-4a7f-9859-a5d45269014a"
      },
      "outputs": [
        {
          "output_type": "stream",
          "name": "stdout",
          "text": [
            "accuracy_score   0.80\n",
            "precision_score  1.00\n",
            "recall_score     0.50\n",
            "f1_score         0.67\n"
          ]
        }
      ],
      "source": [
        "from sklearn.metrics import precision_score, recall_score, f1_score\n",
        "\n",
        "y_gold = [0, 0, 0, 0, 0, 0, 1, 1, 1, 1]\n",
        "y_pred = [0, 0, 0, 0, 0, 0, 0, 0, 1, 1]\n",
        "\n",
        "for metric in (accuracy_score, precision_score, recall_score, f1_score):\n",
        "    print('{:16} {:.2f}'.format(metric.__name__, metric(y_gold, y_pred)))"
      ]
    },
    {
      "cell_type": "code",
      "execution_count": 30,
      "metadata": {
        "colab": {
          "base_uri": "https://localhost:8080/"
        },
        "id": "DQ3vWNaTrKMn",
        "outputId": "6569bf44-00bb-48c6-bd65-49d6d626ddeb"
      },
      "outputs": [
        {
          "output_type": "stream",
          "name": "stdout",
          "text": [
            "accuracy_score   0.70\n",
            "precision_score  0.57\n",
            "recall_score     1.00\n",
            "f1_score         0.73\n"
          ]
        }
      ],
      "source": [
        "y_gold = [0, 0, 0, 0, 0, 0, 1, 1, 1, 1]\n",
        "y_pred = [0, 0, 0, 1, 1, 1, 1, 1, 1, 1]\n",
        "\n",
        "for metric in (accuracy_score, precision_score, recall_score, f1_score):\n",
        "    print('{:16} {:.2f}'.format(metric.__name__, metric(y_gold, y_pred)))"
      ]
    },
    {
      "cell_type": "markdown",
      "metadata": {
        "id": "zcfHzw0csVGK"
      },
      "source": [
        "### Klasyfikacja wieloklasowa (*multiclass classification*)\n"
      ]
    },
    {
      "cell_type": "markdown",
      "metadata": {
        "id": "-2U1pMZaVuxu"
      },
      "source": [
        "#### Micro\n",
        "\n",
        "Zliczamy $TP$, $FP$ i $FN$ globalnie dla wszystkich danych. W ten sposób każda instancja ma taki sam wpływ na wynik końcowy. Każdy przykład zaklasyfikowany niepoprawnie jest uznawany jednocześnie za $FP$ i $FN$.\n",
        "\n",
        "$TP =\\mathit{\\#correct}$\n",
        "\n",
        "$FP = FN = \\mathit{\\#total} - \\mathit{\\#correct}$\n",
        "\n",
        "W efekcie precision, recall i F-measure w wersji micro są równe sobie nawzajem i mierze accuracy:\n",
        "\n",
        "$P_{mic} = \\frac{TP}{TP + FP} = \\frac{\\mathit{\\#correct}}{\\mathit{\\#total}} = A$\n",
        "\n",
        "$R_{mic} = \\frac{TP}{TP + FN} = \\frac{\\mathit{\\#correct}}{\\mathit{\\#total}} = A$\n",
        "\n",
        "$F_{mic} = \\frac{2 P_{mic}R_{mic}}{P_{mic}+R_{mic}} = \\frac{2 A^2}{2A} = A$"
      ]
    },
    {
      "cell_type": "code",
      "execution_count": 31,
      "metadata": {
        "colab": {
          "base_uri": "https://localhost:8080/"
        },
        "id": "l4uj8FkS6hf5",
        "outputId": "7c04e974-2d54-4003-89aa-169cba997533"
      },
      "outputs": [
        {
          "output_type": "stream",
          "name": "stdout",
          "text": [
            "0.5833333333333334\n",
            "0.5833333333333334\n",
            "0.5833333333333334\n",
            "0.5833333333333334\n"
          ]
        }
      ],
      "source": [
        "y_gold = [0, 0, 0, 0, 1, 1, 1, 1, 2, 2, 2, 2]\n",
        "y_pred = [0, 0, 0, 1, 1, 1, 0, 2, 2, 2, 0, 0]\n",
        "\n",
        "print(accuracy_score(y_gold, y_pred))\n",
        "print(precision_score(y_gold, y_pred, average=\"micro\"))\n",
        "print(recall_score(y_gold, y_pred, average=\"micro\"))\n",
        "print(f1_score(y_gold, y_pred, average=\"micro\"))"
      ]
    },
    {
      "cell_type": "markdown",
      "metadata": {
        "id": "OsONAapY6eEi"
      },
      "source": [
        "#### Macro\n",
        "\n",
        "Obliczamy miary precision, recall i F-measure dla każdej klasy osobno i obliczamy ich średnie (standardowo nieważone, możliwy jest również wariant ważony, aby zmniejszyć wpływ mniej reprezentowanych klas na wynik)."
      ]
    },
    {
      "cell_type": "code",
      "execution_count": 32,
      "metadata": {
        "colab": {
          "base_uri": "https://localhost:8080/"
        },
        "id": "u47PryxC-RO-",
        "outputId": "99c4b0ee-4741-4742-f336-8f08a340abc4"
      },
      "outputs": [
        {
          "output_type": "stream",
          "name": "stdout",
          "text": [
            "0.5833333333333334\n",
            "0.611111111111111\n",
            "0.5833333333333334\n",
            "0.580952380952381\n"
          ]
        }
      ],
      "source": [
        "y_gold = [0, 0, 0, 0, 1, 1, 1, 1, 2, 2, 2, 2]\n",
        "y_pred = [0, 0, 0, 1, 1, 1, 0, 2, 2, 2, 0, 0]\n",
        "\n",
        "print(accuracy_score(y_gold, y_pred))\n",
        "print(precision_score(y_gold, y_pred, average=\"macro\"))\n",
        "print(recall_score(y_gold, y_pred, average=\"macro\"))\n",
        "print(f1_score(y_gold, y_pred, average=\"macro\"))"
      ]
    },
    {
      "cell_type": "markdown",
      "metadata": {
        "id": "aWonRcKR62gb"
      },
      "source": [
        "### Tablica pomyłek (ang. confusion matrix)\n",
        "\n",
        "Macierz zliczająca, ile razy instancję klasy X zaklasyfikowano jako klasę Y. Wartości na przekątnej odpowiadają prawidłowym klasyfikacjom.\n",
        "\n",
        "W przykładzie poniżej kolejne wiersze macierzy należy odczytywać następująco:\n",
        " * **3** razy zaklasyfikowano 0 jako 0, **1** raz zaklasyfikowano 0 jako 1, **0** razy zaklasyfikowano 0 jako 2;\n",
        " * **1** raz zaklasyfikowano 1 jako 0, **2** razy zaklasyfikowano 1 jako 1, **1** raz zaklasyfikowano 1 jako 2;\n",
        " * **2** razy zaklasyfikowano 2 jako 0, **1** raz zaklasyfikowano 2 jako 1, **1** raz zaklasyfikowano 2 jako 2;\n",
        " "
      ]
    },
    {
      "cell_type": "code",
      "execution_count": 33,
      "metadata": {
        "colab": {
          "base_uri": "https://localhost:8080/"
        },
        "id": "3c7Z5H867Hx9",
        "outputId": "e3b4c867-a585-40f4-8777-0889f3a2afc8"
      },
      "outputs": [
        {
          "output_type": "stream",
          "name": "stdout",
          "text": [
            "[[3 1 0]\n",
            " [1 2 1]\n",
            " [2 1 1]]\n"
          ]
        }
      ],
      "source": [
        "from sklearn.metrics import confusion_matrix\n",
        "\n",
        "y_gold = [0, 0, 0, 0, 1, 1, 1, 1, 2, 2, 2, 2]\n",
        "y_pred = [0, 0, 0, 1, 1, 1, 0, 2, 2, 0, 0, 1]\n",
        "\n",
        "print(confusion_matrix(y_gold, y_pred))"
      ]
    },
    {
      "cell_type": "markdown",
      "metadata": {
        "id": "u_Xba1bfEK1p"
      },
      "source": [
        "## Zadanie 1: Ewaluacja tagerów\n",
        "Zaimplementuj ewaluację wydajnościową (czas predykcji) oraz jakościową (wykorzystaj poznane miary ewaluacyjne) uniwersalnych tagów (UPOS) i lematów (LEMMA) zwróconych przez modele spaCy (pl_core_news_sm) i COMBO. Wykorzystaj wzorcowy zbiór testowy http://mozart.ipipan.waw.pl/~alina/zasoby/data/PDBUD_test.conllu. Ponieważ nie testujemy jakości segmentacji i nie chcemy, żeby błędna segmentacja miała wpływ na jakość predykcji tagów i lematów, to segmentacja zdań w plikach wejściowych powinna być zgodna z segmentacją PDBUD_test.conllu.\n",
        "\n",
        "(nie testujemy modelu morfeuszowego spaCy, bo on nie akceptuje wstępnie posegmentowanego wejścia)"
      ]
    }
  ],
  "metadata": {
    "accelerator": "GPU",
    "colab": {
      "collapsed_sections": [
        "0AOlke7Er65V",
        "ZjRSVfGtesCc",
        "-lDEDZA8LVji",
        "OsONAapY6eEi",
        "aWonRcKR62gb"
      ],
      "toc_visible": true,
      "provenance": []
    },
    "kernelspec": {
      "display_name": "Python 3",
      "language": "python",
      "name": "python3"
    },
    "language_info": {
      "codemirror_mode": {
        "name": "ipython",
        "version": 3
      },
      "file_extension": ".py",
      "mimetype": "text/x-python",
      "name": "python",
      "nbconvert_exporter": "python",
      "pygments_lexer": "ipython3",
      "version": "3.6.9"
    },
    "widgets": {
      "application/vnd.jupyter.widget-state+json": {
        "3baf786bf28d4781bd4ef3ba8f5786f5": {
          "model_module": "@jupyter-widgets/controls",
          "model_name": "HBoxModel",
          "model_module_version": "1.5.0",
          "state": {
            "_dom_classes": [],
            "_model_module": "@jupyter-widgets/controls",
            "_model_module_version": "1.5.0",
            "_model_name": "HBoxModel",
            "_view_count": null,
            "_view_module": "@jupyter-widgets/controls",
            "_view_module_version": "1.5.0",
            "_view_name": "HBoxView",
            "box_style": "",
            "children": [
              "IPY_MODEL_632f988dd63e49b29d253113b92391ac",
              "IPY_MODEL_917a55965b1246e49d12c915cf99f99c"
            ],
            "layout": "IPY_MODEL_e2177639204c4423a0d4dbd33a261e26"
          }
        },
        "632f988dd63e49b29d253113b92391ac": {
          "model_module": "@jupyter-widgets/controls",
          "model_name": "FloatProgressModel",
          "model_module_version": "1.5.0",
          "state": {
            "_dom_classes": [],
            "_model_module": "@jupyter-widgets/controls",
            "_model_module_version": "1.5.0",
            "_model_name": "FloatProgressModel",
            "_view_count": null,
            "_view_module": "@jupyter-widgets/controls",
            "_view_module_version": "1.5.0",
            "_view_name": "ProgressView",
            "bar_style": "success",
            "description": "Downloading: 100%",
            "description_tooltip": null,
            "layout": "IPY_MODEL_4a0992679a2745afb697a5768f7131e1",
            "max": 472,
            "min": 0,
            "orientation": "horizontal",
            "style": "IPY_MODEL_1d01c4102f3e4f85b4442bad37add20b",
            "value": 472
          }
        },
        "917a55965b1246e49d12c915cf99f99c": {
          "model_module": "@jupyter-widgets/controls",
          "model_name": "HTMLModel",
          "model_module_version": "1.5.0",
          "state": {
            "_dom_classes": [],
            "_model_module": "@jupyter-widgets/controls",
            "_model_module_version": "1.5.0",
            "_model_name": "HTMLModel",
            "_view_count": null,
            "_view_module": "@jupyter-widgets/controls",
            "_view_module_version": "1.5.0",
            "_view_name": "HTMLView",
            "description": "",
            "description_tooltip": null,
            "layout": "IPY_MODEL_198f92887b714dcfbe127947d11c1b29",
            "placeholder": "​",
            "style": "IPY_MODEL_e4f0c3f2296143eea66f52505adb9354",
            "value": " 472/472 [00:00&lt;00:00, 502B/s]"
          }
        },
        "e2177639204c4423a0d4dbd33a261e26": {
          "model_module": "@jupyter-widgets/base",
          "model_name": "LayoutModel",
          "model_module_version": "1.2.0",
          "state": {
            "_model_module": "@jupyter-widgets/base",
            "_model_module_version": "1.2.0",
            "_model_name": "LayoutModel",
            "_view_count": null,
            "_view_module": "@jupyter-widgets/base",
            "_view_module_version": "1.2.0",
            "_view_name": "LayoutView",
            "align_content": null,
            "align_items": null,
            "align_self": null,
            "border": null,
            "bottom": null,
            "display": null,
            "flex": null,
            "flex_flow": null,
            "grid_area": null,
            "grid_auto_columns": null,
            "grid_auto_flow": null,
            "grid_auto_rows": null,
            "grid_column": null,
            "grid_gap": null,
            "grid_row": null,
            "grid_template_areas": null,
            "grid_template_columns": null,
            "grid_template_rows": null,
            "height": null,
            "justify_content": null,
            "justify_items": null,
            "left": null,
            "margin": null,
            "max_height": null,
            "max_width": null,
            "min_height": null,
            "min_width": null,
            "object_fit": null,
            "object_position": null,
            "order": null,
            "overflow": null,
            "overflow_x": null,
            "overflow_y": null,
            "padding": null,
            "right": null,
            "top": null,
            "visibility": null,
            "width": null
          }
        },
        "4a0992679a2745afb697a5768f7131e1": {
          "model_module": "@jupyter-widgets/base",
          "model_name": "LayoutModel",
          "model_module_version": "1.2.0",
          "state": {
            "_model_module": "@jupyter-widgets/base",
            "_model_module_version": "1.2.0",
            "_model_name": "LayoutModel",
            "_view_count": null,
            "_view_module": "@jupyter-widgets/base",
            "_view_module_version": "1.2.0",
            "_view_name": "LayoutView",
            "align_content": null,
            "align_items": null,
            "align_self": null,
            "border": null,
            "bottom": null,
            "display": null,
            "flex": null,
            "flex_flow": null,
            "grid_area": null,
            "grid_auto_columns": null,
            "grid_auto_flow": null,
            "grid_auto_rows": null,
            "grid_column": null,
            "grid_gap": null,
            "grid_row": null,
            "grid_template_areas": null,
            "grid_template_columns": null,
            "grid_template_rows": null,
            "height": null,
            "justify_content": null,
            "justify_items": null,
            "left": null,
            "margin": null,
            "max_height": null,
            "max_width": null,
            "min_height": null,
            "min_width": null,
            "object_fit": null,
            "object_position": null,
            "order": null,
            "overflow": null,
            "overflow_x": null,
            "overflow_y": null,
            "padding": null,
            "right": null,
            "top": null,
            "visibility": null,
            "width": null
          }
        },
        "1d01c4102f3e4f85b4442bad37add20b": {
          "model_module": "@jupyter-widgets/controls",
          "model_name": "ProgressStyleModel",
          "model_module_version": "1.5.0",
          "state": {
            "_model_module": "@jupyter-widgets/controls",
            "_model_module_version": "1.5.0",
            "_model_name": "ProgressStyleModel",
            "_view_count": null,
            "_view_module": "@jupyter-widgets/base",
            "_view_module_version": "1.2.0",
            "_view_name": "StyleView",
            "bar_color": null,
            "description_width": "initial"
          }
        },
        "198f92887b714dcfbe127947d11c1b29": {
          "model_module": "@jupyter-widgets/base",
          "model_name": "LayoutModel",
          "model_module_version": "1.2.0",
          "state": {
            "_model_module": "@jupyter-widgets/base",
            "_model_module_version": "1.2.0",
            "_model_name": "LayoutModel",
            "_view_count": null,
            "_view_module": "@jupyter-widgets/base",
            "_view_module_version": "1.2.0",
            "_view_name": "LayoutView",
            "align_content": null,
            "align_items": null,
            "align_self": null,
            "border": null,
            "bottom": null,
            "display": null,
            "flex": null,
            "flex_flow": null,
            "grid_area": null,
            "grid_auto_columns": null,
            "grid_auto_flow": null,
            "grid_auto_rows": null,
            "grid_column": null,
            "grid_gap": null,
            "grid_row": null,
            "grid_template_areas": null,
            "grid_template_columns": null,
            "grid_template_rows": null,
            "height": null,
            "justify_content": null,
            "justify_items": null,
            "left": null,
            "margin": null,
            "max_height": null,
            "max_width": null,
            "min_height": null,
            "min_width": null,
            "object_fit": null,
            "object_position": null,
            "order": null,
            "overflow": null,
            "overflow_x": null,
            "overflow_y": null,
            "padding": null,
            "right": null,
            "top": null,
            "visibility": null,
            "width": null
          }
        },
        "e4f0c3f2296143eea66f52505adb9354": {
          "model_module": "@jupyter-widgets/controls",
          "model_name": "DescriptionStyleModel",
          "model_module_version": "1.5.0",
          "state": {
            "_model_module": "@jupyter-widgets/controls",
            "_model_module_version": "1.5.0",
            "_model_name": "DescriptionStyleModel",
            "_view_count": null,
            "_view_module": "@jupyter-widgets/base",
            "_view_module_version": "1.2.0",
            "_view_name": "StyleView",
            "description_width": ""
          }
        },
        "8c708b74991b4810b0be34e1043ea16a": {
          "model_module": "@jupyter-widgets/controls",
          "model_name": "HBoxModel",
          "model_module_version": "1.5.0",
          "state": {
            "_dom_classes": [],
            "_model_module": "@jupyter-widgets/controls",
            "_model_module_version": "1.5.0",
            "_model_name": "HBoxModel",
            "_view_count": null,
            "_view_module": "@jupyter-widgets/controls",
            "_view_module_version": "1.5.0",
            "_view_name": "HBoxView",
            "box_style": "",
            "children": [
              "IPY_MODEL_65fde635590b46bfa55515df676e649c",
              "IPY_MODEL_ac32e04dba7441c3acf0e71ca94ebe66"
            ],
            "layout": "IPY_MODEL_d6d1af2ecbae450e8f5639601990051c"
          }
        },
        "65fde635590b46bfa55515df676e649c": {
          "model_module": "@jupyter-widgets/controls",
          "model_name": "FloatProgressModel",
          "model_module_version": "1.5.0",
          "state": {
            "_dom_classes": [],
            "_model_module": "@jupyter-widgets/controls",
            "_model_module_version": "1.5.0",
            "_model_name": "FloatProgressModel",
            "_view_count": null,
            "_view_module": "@jupyter-widgets/controls",
            "_view_module_version": "1.5.0",
            "_view_name": "ProgressView",
            "bar_style": "success",
            "description": "Downloading: 100%",
            "description_tooltip": null,
            "layout": "IPY_MODEL_c707232a89754354b180fd9a5e6da2ad",
            "max": 906984,
            "min": 0,
            "orientation": "horizontal",
            "style": "IPY_MODEL_cdf80aec696c490eb2b9a127ce569119",
            "value": 906984
          }
        },
        "ac32e04dba7441c3acf0e71ca94ebe66": {
          "model_module": "@jupyter-widgets/controls",
          "model_name": "HTMLModel",
          "model_module_version": "1.5.0",
          "state": {
            "_dom_classes": [],
            "_model_module": "@jupyter-widgets/controls",
            "_model_module_version": "1.5.0",
            "_model_name": "HTMLModel",
            "_view_count": null,
            "_view_module": "@jupyter-widgets/controls",
            "_view_module_version": "1.5.0",
            "_view_name": "HTMLView",
            "description": "",
            "description_tooltip": null,
            "layout": "IPY_MODEL_67dc67d24da84b8f94c904cc23688caa",
            "placeholder": "​",
            "style": "IPY_MODEL_e928546cd9fe4c1185ecc09cd14efabe",
            "value": " 907k/907k [00:00&lt;00:00, 1.60MB/s]"
          }
        },
        "d6d1af2ecbae450e8f5639601990051c": {
          "model_module": "@jupyter-widgets/base",
          "model_name": "LayoutModel",
          "model_module_version": "1.2.0",
          "state": {
            "_model_module": "@jupyter-widgets/base",
            "_model_module_version": "1.2.0",
            "_model_name": "LayoutModel",
            "_view_count": null,
            "_view_module": "@jupyter-widgets/base",
            "_view_module_version": "1.2.0",
            "_view_name": "LayoutView",
            "align_content": null,
            "align_items": null,
            "align_self": null,
            "border": null,
            "bottom": null,
            "display": null,
            "flex": null,
            "flex_flow": null,
            "grid_area": null,
            "grid_auto_columns": null,
            "grid_auto_flow": null,
            "grid_auto_rows": null,
            "grid_column": null,
            "grid_gap": null,
            "grid_row": null,
            "grid_template_areas": null,
            "grid_template_columns": null,
            "grid_template_rows": null,
            "height": null,
            "justify_content": null,
            "justify_items": null,
            "left": null,
            "margin": null,
            "max_height": null,
            "max_width": null,
            "min_height": null,
            "min_width": null,
            "object_fit": null,
            "object_position": null,
            "order": null,
            "overflow": null,
            "overflow_x": null,
            "overflow_y": null,
            "padding": null,
            "right": null,
            "top": null,
            "visibility": null,
            "width": null
          }
        },
        "c707232a89754354b180fd9a5e6da2ad": {
          "model_module": "@jupyter-widgets/base",
          "model_name": "LayoutModel",
          "model_module_version": "1.2.0",
          "state": {
            "_model_module": "@jupyter-widgets/base",
            "_model_module_version": "1.2.0",
            "_model_name": "LayoutModel",
            "_view_count": null,
            "_view_module": "@jupyter-widgets/base",
            "_view_module_version": "1.2.0",
            "_view_name": "LayoutView",
            "align_content": null,
            "align_items": null,
            "align_self": null,
            "border": null,
            "bottom": null,
            "display": null,
            "flex": null,
            "flex_flow": null,
            "grid_area": null,
            "grid_auto_columns": null,
            "grid_auto_flow": null,
            "grid_auto_rows": null,
            "grid_column": null,
            "grid_gap": null,
            "grid_row": null,
            "grid_template_areas": null,
            "grid_template_columns": null,
            "grid_template_rows": null,
            "height": null,
            "justify_content": null,
            "justify_items": null,
            "left": null,
            "margin": null,
            "max_height": null,
            "max_width": null,
            "min_height": null,
            "min_width": null,
            "object_fit": null,
            "object_position": null,
            "order": null,
            "overflow": null,
            "overflow_x": null,
            "overflow_y": null,
            "padding": null,
            "right": null,
            "top": null,
            "visibility": null,
            "width": null
          }
        },
        "cdf80aec696c490eb2b9a127ce569119": {
          "model_module": "@jupyter-widgets/controls",
          "model_name": "ProgressStyleModel",
          "model_module_version": "1.5.0",
          "state": {
            "_model_module": "@jupyter-widgets/controls",
            "_model_module_version": "1.5.0",
            "_model_name": "ProgressStyleModel",
            "_view_count": null,
            "_view_module": "@jupyter-widgets/base",
            "_view_module_version": "1.2.0",
            "_view_name": "StyleView",
            "bar_color": null,
            "description_width": "initial"
          }
        },
        "67dc67d24da84b8f94c904cc23688caa": {
          "model_module": "@jupyter-widgets/base",
          "model_name": "LayoutModel",
          "model_module_version": "1.2.0",
          "state": {
            "_model_module": "@jupyter-widgets/base",
            "_model_module_version": "1.2.0",
            "_model_name": "LayoutModel",
            "_view_count": null,
            "_view_module": "@jupyter-widgets/base",
            "_view_module_version": "1.2.0",
            "_view_name": "LayoutView",
            "align_content": null,
            "align_items": null,
            "align_self": null,
            "border": null,
            "bottom": null,
            "display": null,
            "flex": null,
            "flex_flow": null,
            "grid_area": null,
            "grid_auto_columns": null,
            "grid_auto_flow": null,
            "grid_auto_rows": null,
            "grid_column": null,
            "grid_gap": null,
            "grid_row": null,
            "grid_template_areas": null,
            "grid_template_columns": null,
            "grid_template_rows": null,
            "height": null,
            "justify_content": null,
            "justify_items": null,
            "left": null,
            "margin": null,
            "max_height": null,
            "max_width": null,
            "min_height": null,
            "min_width": null,
            "object_fit": null,
            "object_position": null,
            "order": null,
            "overflow": null,
            "overflow_x": null,
            "overflow_y": null,
            "padding": null,
            "right": null,
            "top": null,
            "visibility": null,
            "width": null
          }
        },
        "e928546cd9fe4c1185ecc09cd14efabe": {
          "model_module": "@jupyter-widgets/controls",
          "model_name": "DescriptionStyleModel",
          "model_module_version": "1.5.0",
          "state": {
            "_model_module": "@jupyter-widgets/controls",
            "_model_module_version": "1.5.0",
            "_model_name": "DescriptionStyleModel",
            "_view_count": null,
            "_view_module": "@jupyter-widgets/base",
            "_view_module_version": "1.2.0",
            "_view_name": "StyleView",
            "description_width": ""
          }
        },
        "fb3d080eba904d75a57c4a1ab15b062c": {
          "model_module": "@jupyter-widgets/controls",
          "model_name": "HBoxModel",
          "model_module_version": "1.5.0",
          "state": {
            "_dom_classes": [],
            "_model_module": "@jupyter-widgets/controls",
            "_model_module_version": "1.5.0",
            "_model_name": "HBoxModel",
            "_view_count": null,
            "_view_module": "@jupyter-widgets/controls",
            "_view_module_version": "1.5.0",
            "_view_name": "HBoxView",
            "box_style": "",
            "children": [
              "IPY_MODEL_8f5ae7fbf33a4909814da7c5a48004cb",
              "IPY_MODEL_d3cb3c191a004d66be020ee2a5126bfd"
            ],
            "layout": "IPY_MODEL_5674847081b94a9c885c2169519bdc39"
          }
        },
        "8f5ae7fbf33a4909814da7c5a48004cb": {
          "model_module": "@jupyter-widgets/controls",
          "model_name": "FloatProgressModel",
          "model_module_version": "1.5.0",
          "state": {
            "_dom_classes": [],
            "_model_module": "@jupyter-widgets/controls",
            "_model_module_version": "1.5.0",
            "_model_name": "FloatProgressModel",
            "_view_count": null,
            "_view_module": "@jupyter-widgets/controls",
            "_view_module_version": "1.5.0",
            "_view_name": "ProgressView",
            "bar_style": "success",
            "description": "Downloading: 100%",
            "description_tooltip": null,
            "layout": "IPY_MODEL_e051a800405c46ac8f658de32ef223df",
            "max": 555571,
            "min": 0,
            "orientation": "horizontal",
            "style": "IPY_MODEL_616b1b250b194cc6b1422cef276192a0",
            "value": 555571
          }
        },
        "d3cb3c191a004d66be020ee2a5126bfd": {
          "model_module": "@jupyter-widgets/controls",
          "model_name": "HTMLModel",
          "model_module_version": "1.5.0",
          "state": {
            "_dom_classes": [],
            "_model_module": "@jupyter-widgets/controls",
            "_model_module_version": "1.5.0",
            "_model_name": "HTMLModel",
            "_view_count": null,
            "_view_module": "@jupyter-widgets/controls",
            "_view_module_version": "1.5.0",
            "_view_name": "HTMLView",
            "description": "",
            "description_tooltip": null,
            "layout": "IPY_MODEL_6cbe046567664322a24c6f9ae5e0f3f3",
            "placeholder": "​",
            "style": "IPY_MODEL_97910a3d280644a3b7085f472360d2ba",
            "value": " 556k/556k [00:00&lt;00:00, 3.70MB/s]"
          }
        },
        "5674847081b94a9c885c2169519bdc39": {
          "model_module": "@jupyter-widgets/base",
          "model_name": "LayoutModel",
          "model_module_version": "1.2.0",
          "state": {
            "_model_module": "@jupyter-widgets/base",
            "_model_module_version": "1.2.0",
            "_model_name": "LayoutModel",
            "_view_count": null,
            "_view_module": "@jupyter-widgets/base",
            "_view_module_version": "1.2.0",
            "_view_name": "LayoutView",
            "align_content": null,
            "align_items": null,
            "align_self": null,
            "border": null,
            "bottom": null,
            "display": null,
            "flex": null,
            "flex_flow": null,
            "grid_area": null,
            "grid_auto_columns": null,
            "grid_auto_flow": null,
            "grid_auto_rows": null,
            "grid_column": null,
            "grid_gap": null,
            "grid_row": null,
            "grid_template_areas": null,
            "grid_template_columns": null,
            "grid_template_rows": null,
            "height": null,
            "justify_content": null,
            "justify_items": null,
            "left": null,
            "margin": null,
            "max_height": null,
            "max_width": null,
            "min_height": null,
            "min_width": null,
            "object_fit": null,
            "object_position": null,
            "order": null,
            "overflow": null,
            "overflow_x": null,
            "overflow_y": null,
            "padding": null,
            "right": null,
            "top": null,
            "visibility": null,
            "width": null
          }
        },
        "e051a800405c46ac8f658de32ef223df": {
          "model_module": "@jupyter-widgets/base",
          "model_name": "LayoutModel",
          "model_module_version": "1.2.0",
          "state": {
            "_model_module": "@jupyter-widgets/base",
            "_model_module_version": "1.2.0",
            "_model_name": "LayoutModel",
            "_view_count": null,
            "_view_module": "@jupyter-widgets/base",
            "_view_module_version": "1.2.0",
            "_view_name": "LayoutView",
            "align_content": null,
            "align_items": null,
            "align_self": null,
            "border": null,
            "bottom": null,
            "display": null,
            "flex": null,
            "flex_flow": null,
            "grid_area": null,
            "grid_auto_columns": null,
            "grid_auto_flow": null,
            "grid_auto_rows": null,
            "grid_column": null,
            "grid_gap": null,
            "grid_row": null,
            "grid_template_areas": null,
            "grid_template_columns": null,
            "grid_template_rows": null,
            "height": null,
            "justify_content": null,
            "justify_items": null,
            "left": null,
            "margin": null,
            "max_height": null,
            "max_width": null,
            "min_height": null,
            "min_width": null,
            "object_fit": null,
            "object_position": null,
            "order": null,
            "overflow": null,
            "overflow_x": null,
            "overflow_y": null,
            "padding": null,
            "right": null,
            "top": null,
            "visibility": null,
            "width": null
          }
        },
        "616b1b250b194cc6b1422cef276192a0": {
          "model_module": "@jupyter-widgets/controls",
          "model_name": "ProgressStyleModel",
          "model_module_version": "1.5.0",
          "state": {
            "_model_module": "@jupyter-widgets/controls",
            "_model_module_version": "1.5.0",
            "_model_name": "ProgressStyleModel",
            "_view_count": null,
            "_view_module": "@jupyter-widgets/base",
            "_view_module_version": "1.2.0",
            "_view_name": "StyleView",
            "bar_color": null,
            "description_width": "initial"
          }
        },
        "6cbe046567664322a24c6f9ae5e0f3f3": {
          "model_module": "@jupyter-widgets/base",
          "model_name": "LayoutModel",
          "model_module_version": "1.2.0",
          "state": {
            "_model_module": "@jupyter-widgets/base",
            "_model_module_version": "1.2.0",
            "_model_name": "LayoutModel",
            "_view_count": null,
            "_view_module": "@jupyter-widgets/base",
            "_view_module_version": "1.2.0",
            "_view_name": "LayoutView",
            "align_content": null,
            "align_items": null,
            "align_self": null,
            "border": null,
            "bottom": null,
            "display": null,
            "flex": null,
            "flex_flow": null,
            "grid_area": null,
            "grid_auto_columns": null,
            "grid_auto_flow": null,
            "grid_auto_rows": null,
            "grid_column": null,
            "grid_gap": null,
            "grid_row": null,
            "grid_template_areas": null,
            "grid_template_columns": null,
            "grid_template_rows": null,
            "height": null,
            "justify_content": null,
            "justify_items": null,
            "left": null,
            "margin": null,
            "max_height": null,
            "max_width": null,
            "min_height": null,
            "min_width": null,
            "object_fit": null,
            "object_position": null,
            "order": null,
            "overflow": null,
            "overflow_x": null,
            "overflow_y": null,
            "padding": null,
            "right": null,
            "top": null,
            "visibility": null,
            "width": null
          }
        },
        "97910a3d280644a3b7085f472360d2ba": {
          "model_module": "@jupyter-widgets/controls",
          "model_name": "DescriptionStyleModel",
          "model_module_version": "1.5.0",
          "state": {
            "_model_module": "@jupyter-widgets/controls",
            "_model_module_version": "1.5.0",
            "_model_name": "DescriptionStyleModel",
            "_view_count": null,
            "_view_module": "@jupyter-widgets/base",
            "_view_module_version": "1.2.0",
            "_view_name": "StyleView",
            "description_width": ""
          }
        },
        "655f6420af30487fbc190abbb0c67692": {
          "model_module": "@jupyter-widgets/controls",
          "model_name": "HBoxModel",
          "model_module_version": "1.5.0",
          "state": {
            "_dom_classes": [],
            "_model_module": "@jupyter-widgets/controls",
            "_model_module_version": "1.5.0",
            "_model_name": "HBoxModel",
            "_view_count": null,
            "_view_module": "@jupyter-widgets/controls",
            "_view_module_version": "1.5.0",
            "_view_name": "HBoxView",
            "box_style": "",
            "children": [
              "IPY_MODEL_5c033c3b6d19472cb559e9646641d9a1",
              "IPY_MODEL_749707387735434493acdc2cbdf74bbb"
            ],
            "layout": "IPY_MODEL_45a837b4f0b3444fa9b5746c4350d232"
          }
        },
        "5c033c3b6d19472cb559e9646641d9a1": {
          "model_module": "@jupyter-widgets/controls",
          "model_name": "FloatProgressModel",
          "model_module_version": "1.5.0",
          "state": {
            "_dom_classes": [],
            "_model_module": "@jupyter-widgets/controls",
            "_model_module_version": "1.5.0",
            "_model_name": "FloatProgressModel",
            "_view_count": null,
            "_view_module": "@jupyter-widgets/controls",
            "_view_module_version": "1.5.0",
            "_view_name": "ProgressView",
            "bar_style": "success",
            "description": "Downloading: 100%",
            "description_tooltip": null,
            "layout": "IPY_MODEL_64ad810e7e5a45bc86cd99bcc40e4234",
            "max": 654201076,
            "min": 0,
            "orientation": "horizontal",
            "style": "IPY_MODEL_7ebdf4e0727d429f8802d1154516c034",
            "value": 654201076
          }
        },
        "749707387735434493acdc2cbdf74bbb": {
          "model_module": "@jupyter-widgets/controls",
          "model_name": "HTMLModel",
          "model_module_version": "1.5.0",
          "state": {
            "_dom_classes": [],
            "_model_module": "@jupyter-widgets/controls",
            "_model_module_version": "1.5.0",
            "_model_name": "HTMLModel",
            "_view_count": null,
            "_view_module": "@jupyter-widgets/controls",
            "_view_module_version": "1.5.0",
            "_view_name": "HTMLView",
            "description": "",
            "description_tooltip": null,
            "layout": "IPY_MODEL_ca4cfe8aef904fea859ac3812e5f6b1b",
            "placeholder": "​",
            "style": "IPY_MODEL_fc1d3c3bd0874a19b1dd06edb5254fdf",
            "value": " 654M/654M [00:40&lt;00:00, 16.0MB/s]"
          }
        },
        "45a837b4f0b3444fa9b5746c4350d232": {
          "model_module": "@jupyter-widgets/base",
          "model_name": "LayoutModel",
          "model_module_version": "1.2.0",
          "state": {
            "_model_module": "@jupyter-widgets/base",
            "_model_module_version": "1.2.0",
            "_model_name": "LayoutModel",
            "_view_count": null,
            "_view_module": "@jupyter-widgets/base",
            "_view_module_version": "1.2.0",
            "_view_name": "LayoutView",
            "align_content": null,
            "align_items": null,
            "align_self": null,
            "border": null,
            "bottom": null,
            "display": null,
            "flex": null,
            "flex_flow": null,
            "grid_area": null,
            "grid_auto_columns": null,
            "grid_auto_flow": null,
            "grid_auto_rows": null,
            "grid_column": null,
            "grid_gap": null,
            "grid_row": null,
            "grid_template_areas": null,
            "grid_template_columns": null,
            "grid_template_rows": null,
            "height": null,
            "justify_content": null,
            "justify_items": null,
            "left": null,
            "margin": null,
            "max_height": null,
            "max_width": null,
            "min_height": null,
            "min_width": null,
            "object_fit": null,
            "object_position": null,
            "order": null,
            "overflow": null,
            "overflow_x": null,
            "overflow_y": null,
            "padding": null,
            "right": null,
            "top": null,
            "visibility": null,
            "width": null
          }
        },
        "64ad810e7e5a45bc86cd99bcc40e4234": {
          "model_module": "@jupyter-widgets/base",
          "model_name": "LayoutModel",
          "model_module_version": "1.2.0",
          "state": {
            "_model_module": "@jupyter-widgets/base",
            "_model_module_version": "1.2.0",
            "_model_name": "LayoutModel",
            "_view_count": null,
            "_view_module": "@jupyter-widgets/base",
            "_view_module_version": "1.2.0",
            "_view_name": "LayoutView",
            "align_content": null,
            "align_items": null,
            "align_self": null,
            "border": null,
            "bottom": null,
            "display": null,
            "flex": null,
            "flex_flow": null,
            "grid_area": null,
            "grid_auto_columns": null,
            "grid_auto_flow": null,
            "grid_auto_rows": null,
            "grid_column": null,
            "grid_gap": null,
            "grid_row": null,
            "grid_template_areas": null,
            "grid_template_columns": null,
            "grid_template_rows": null,
            "height": null,
            "justify_content": null,
            "justify_items": null,
            "left": null,
            "margin": null,
            "max_height": null,
            "max_width": null,
            "min_height": null,
            "min_width": null,
            "object_fit": null,
            "object_position": null,
            "order": null,
            "overflow": null,
            "overflow_x": null,
            "overflow_y": null,
            "padding": null,
            "right": null,
            "top": null,
            "visibility": null,
            "width": null
          }
        },
        "7ebdf4e0727d429f8802d1154516c034": {
          "model_module": "@jupyter-widgets/controls",
          "model_name": "ProgressStyleModel",
          "model_module_version": "1.5.0",
          "state": {
            "_model_module": "@jupyter-widgets/controls",
            "_model_module_version": "1.5.0",
            "_model_name": "ProgressStyleModel",
            "_view_count": null,
            "_view_module": "@jupyter-widgets/base",
            "_view_module_version": "1.2.0",
            "_view_name": "StyleView",
            "bar_color": null,
            "description_width": "initial"
          }
        },
        "ca4cfe8aef904fea859ac3812e5f6b1b": {
          "model_module": "@jupyter-widgets/base",
          "model_name": "LayoutModel",
          "model_module_version": "1.2.0",
          "state": {
            "_model_module": "@jupyter-widgets/base",
            "_model_module_version": "1.2.0",
            "_model_name": "LayoutModel",
            "_view_count": null,
            "_view_module": "@jupyter-widgets/base",
            "_view_module_version": "1.2.0",
            "_view_name": "LayoutView",
            "align_content": null,
            "align_items": null,
            "align_self": null,
            "border": null,
            "bottom": null,
            "display": null,
            "flex": null,
            "flex_flow": null,
            "grid_area": null,
            "grid_auto_columns": null,
            "grid_auto_flow": null,
            "grid_auto_rows": null,
            "grid_column": null,
            "grid_gap": null,
            "grid_row": null,
            "grid_template_areas": null,
            "grid_template_columns": null,
            "grid_template_rows": null,
            "height": null,
            "justify_content": null,
            "justify_items": null,
            "left": null,
            "margin": null,
            "max_height": null,
            "max_width": null,
            "min_height": null,
            "min_width": null,
            "object_fit": null,
            "object_position": null,
            "order": null,
            "overflow": null,
            "overflow_x": null,
            "overflow_y": null,
            "padding": null,
            "right": null,
            "top": null,
            "visibility": null,
            "width": null
          }
        },
        "fc1d3c3bd0874a19b1dd06edb5254fdf": {
          "model_module": "@jupyter-widgets/controls",
          "model_name": "DescriptionStyleModel",
          "model_module_version": "1.5.0",
          "state": {
            "_model_module": "@jupyter-widgets/controls",
            "_model_module_version": "1.5.0",
            "_model_name": "DescriptionStyleModel",
            "_view_count": null,
            "_view_module": "@jupyter-widgets/base",
            "_view_module_version": "1.2.0",
            "_view_name": "StyleView",
            "description_width": ""
          }
        }
      }
    }
  },
  "nbformat": 4,
  "nbformat_minor": 0
}